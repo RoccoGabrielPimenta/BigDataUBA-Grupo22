{
 "cells": [
  {
   "cell_type": "markdown",
   "metadata": {
    "collapsed": true,
    "id": "Dh8MkXaG-c9Y",
    "jupyter": {
     "outputs_hidden": true
    }
   },
   "source": [
    "# Big Data y Machine Learning (UBA) -  2025\n",
    "\n",
    "## Trabajo Práctico 1: Jugando con APIs y WebScraping"
   ]
  },
  {
   "cell_type": "markdown",
   "metadata": {
    "id": "RhBlm6mZ-c9e"
   },
   "source": [
    "### Reglas de formato y presentación\n",
    "- El trabajo debe estar debidamente documentado comentado (utilizando #) para que tanto los docentes como sus compañeros puedan comprender el código fácilmente.\n",
    "\n",
    "- El mismo debe ser completado en este Jupyter Notebook y entregado como tal, es decir en un archivo .ipynb\n"
   ]
  },
  {
   "cell_type": "markdown",
   "metadata": {
    "id": "ZEjGaa4U-c9g"
   },
   "source": [
    "### Fecha de entrega:\n",
    "Viernes 4 de Abril a las 13:00 hs"
   ]
  },
  {
   "cell_type": "markdown",
   "metadata": {
    "id": "N9TU2y7E-c9h"
   },
   "source": [
    "### Modalidad de entrega\n",
    "- Al finalizar el trabajo práctico deben hacer un último <i>commit</i> en su repositorio de GitHub llamado “Entrega final del tp”.\n",
    "- Asegurense de haber creado una carpeta llamada TP1. Este Jupyter Notebook y el correspondiente al TP1 deben estar dentro de esa carpeta.\n",
    "- También deben enviar el link de su repositorio -para que pueda ser clonado y corregido- a mi correo 25RO35480961@campus.economicas.uba.ar. Usar de asunto de email <i>\"Big Data - TP 1 - Grupo #\"</i> y nombrar el archivo <i>\"TP1_Grupo #\"</i> donde # es el número de grupo que le fue asignado.\n",
    "- La última versión en el repositorio es la que será evaluada. Por lo que es importante que:\n",
    "    - No envien el correo hasta no haber terminado y estar seguros de que han hecho el <i>commit y push</i> a la versión final que quieren entregar.\n",
    "    - No hagan nuevos <i>push</i> despues de haber entregado su versión final. Esto generaría confusión acerca de que versión es la que quieren que se les corrija.\n",
    "- En resumen, la carpeta del repositorio debe incluir:\n",
    "    - El codigo\n",
    "    - Un documento Word (Parte A) donde esten las figuras y una breve descripción de las mismas.\n",
    "    - El excel con los links webscrappeados (Parte B)"
   ]
  },
  {
   "cell_type": "markdown",
   "metadata": {
    "id": "uxZDSp7EMJ31"
   },
   "source": [
    "### Parte A"
   ]
  },
  {
   "cell_type": "markdown",
   "metadata": {
    "id": "ZXbrPraa-c9i"
   },
   "source": [
    "#### Ejercicio 1 - Jugando con APIs\n",
    "Usando la API del Banco Mundial [link](https://wbdata.readthedocs.io/en/stable/) , obtener dos series de indicadores para dos paises a elección en una consulta de búsqueda. Pueden buscar serie de indicadores de su interés."
   ]
  },
  {
   "cell_type": "code",
   "execution_count": 19,
   "metadata": {
    "colab": {
     "base_uri": "https://localhost:8080/"
    },
    "id": "2a0LNLbHMJ32",
    "outputId": "01853cce-ed93-431d-b30e-885affd19538"
   },
   "outputs": [
    {
     "name": "stdout",
     "output_type": "stream",
     "text": [
      "Requirement already satisfied: wbdata in c:\\users\\usuario\\anaconda3\\lib\\site-packages (1.0.0)\n",
      "Requirement already satisfied: appdirs<2.0,>=1.4 in c:\\users\\usuario\\anaconda3\\lib\\site-packages (from wbdata) (1.4.4)\n",
      "Requirement already satisfied: backoff<3.0.0,>=2.2.1 in c:\\users\\usuario\\anaconda3\\lib\\site-packages (from wbdata) (2.2.1)\n",
      "Requirement already satisfied: cachetools<6.0.0,>=5.3.2 in c:\\users\\usuario\\anaconda3\\lib\\site-packages (from wbdata) (5.3.3)\n",
      "Requirement already satisfied: dateparser<2.0.0,>=1.2.0 in c:\\users\\usuario\\anaconda3\\lib\\site-packages (from wbdata) (1.2.1)\n",
      "Requirement already satisfied: decorator<6.0.0,>=5.1.1 in c:\\users\\usuario\\anaconda3\\lib\\site-packages (from wbdata) (5.1.1)\n",
      "Requirement already satisfied: requests<3.0,>=2.0 in c:\\users\\usuario\\anaconda3\\lib\\site-packages (from wbdata) (2.32.3)\n",
      "Requirement already satisfied: shelved-cache<0.4.0,>=0.3.1 in c:\\users\\usuario\\anaconda3\\lib\\site-packages (from wbdata) (0.3.1)\n",
      "Requirement already satisfied: tabulate<0.9.0,>=0.8.5 in c:\\users\\usuario\\anaconda3\\lib\\site-packages (from wbdata) (0.8.10)\n",
      "Requirement already satisfied: python-dateutil>=2.7.0 in c:\\users\\usuario\\anaconda3\\lib\\site-packages (from dateparser<2.0.0,>=1.2.0->wbdata) (2.9.0.post0)\n",
      "Requirement already satisfied: pytz>=2024.2 in c:\\users\\usuario\\anaconda3\\lib\\site-packages (from dateparser<2.0.0,>=1.2.0->wbdata) (2025.2)\n",
      "Requirement already satisfied: regex!=2019.02.19,!=2021.8.27,>=2015.06.24 in c:\\users\\usuario\\anaconda3\\lib\\site-packages (from dateparser<2.0.0,>=1.2.0->wbdata) (2024.9.11)\n",
      "Requirement already satisfied: tzlocal>=0.2 in c:\\users\\usuario\\anaconda3\\lib\\site-packages (from dateparser<2.0.0,>=1.2.0->wbdata) (5.3.1)\n",
      "Requirement already satisfied: charset-normalizer<4,>=2 in c:\\users\\usuario\\anaconda3\\lib\\site-packages (from requests<3.0,>=2.0->wbdata) (3.3.2)\n",
      "Requirement already satisfied: idna<4,>=2.5 in c:\\users\\usuario\\anaconda3\\lib\\site-packages (from requests<3.0,>=2.0->wbdata) (3.7)\n",
      "Requirement already satisfied: urllib3<3,>=1.21.1 in c:\\users\\usuario\\anaconda3\\lib\\site-packages (from requests<3.0,>=2.0->wbdata) (2.2.3)\n",
      "Requirement already satisfied: certifi>=2017.4.17 in c:\\users\\usuario\\anaconda3\\lib\\site-packages (from requests<3.0,>=2.0->wbdata) (2025.1.31)\n",
      "Requirement already satisfied: six>=1.5 in c:\\users\\usuario\\anaconda3\\lib\\site-packages (from python-dateutil>=2.7.0->dateparser<2.0.0,>=1.2.0->wbdata) (1.16.0)\n",
      "Requirement already satisfied: tzdata in c:\\users\\usuario\\anaconda3\\lib\\site-packages (from tzlocal>=0.2->dateparser<2.0.0,>=1.2.0->wbdata) (2023.3)\n"
     ]
    }
   ],
   "source": [
    "!pip install wbdata \n",
    "#Instalo la base de datos del banco nacion\n",
    "import wbdata\n",
    "import pandas as pd"
   ]
  },
  {
   "cell_type": "code",
   "execution_count": 62,
   "metadata": {
    "colab": {
     "base_uri": "https://localhost:8080/"
    },
    "id": "U2nLcujCXRFl",
    "outputId": "4ac4638f-3252-4394-e78c-0ff4a4a447b2",
    "scrolled": true
   },
   "outputs": [
    {
     "data": {
      "text/plain": [
       "id                 name\n",
       "-----------------  ----------------------------------------------------------\n",
       "HD.HCI.AMRT        Survival Rate from Age 15-60\n",
       "HD.HCI.AMRT.FE     Survival Rate from Age 15-60, Female\n",
       "HD.HCI.AMRT.MA     Survival Rate from Age 15-60, Male\n",
       "HD.HCI.EYRS        Expected Years of School\n",
       "HD.HCI.EYRS.FE     Expected Years of School, Female\n",
       "HD.HCI.EYRS.MA     Expected Years of School, Male\n",
       "HD.HCI.HLOS        Harmonized Test Scores\n",
       "HD.HCI.HLOS.FE     Harmonized Test Scores, Female\n",
       "HD.HCI.HLOS.MA     Harmonized Test Scores, Male\n",
       "HD.HCI.LAYS        Learning-Adjusted Years of School\n",
       "HD.HCI.LAYS.FE     Learning-Adjusted Years of School, Female\n",
       "HD.HCI.LAYS.MA     Learning-Adjusted Years of School, Male\n",
       "HD.HCI.MORT        Probability of Survival to Age 5\n",
       "HD.HCI.MORT.FE     Probability of Survival to Age 5, Female\n",
       "HD.HCI.MORT.MA     Probability of Survival to Age 5, Male\n",
       "HD.HCI.OVRL        Human Capital Index (HCI) (scale 0-1)\n",
       "HD.HCI.OVRL.FE     Human Capital Index (HCI), Female (scale 0-1)\n",
       "HD.HCI.OVRL.LB     Human Capital Index (HCI), Lower Bound (scale 0-1)\n",
       "HD.HCI.OVRL.LB.FE  Human Capital Index (HCI), Female, Lower Bound (scale 0-1)\n",
       "HD.HCI.OVRL.LB.MA  Human Capital Index (HCI), Male, Lower Bound (scale 0-1)\n",
       "HD.HCI.OVRL.MA     Human Capital Index (HCI), Male (scale 0-1)\n",
       "HD.HCI.OVRL.UB     Human Capital Index (HCI), Upper Bound (scale 0-1)\n",
       "HD.HCI.OVRL.UB.FE  Human Capital Index (HCI), Female, Upper Bound (scale 0-1)\n",
       "HD.HCI.OVRL.UB.MA  Human Capital Index (HCI), Male, Upper Bound (scale 0-1)\n",
       "HD.HCI.STNT        Fraction of Children Under 5 Not Stunted\n",
       "HD.HCI.STNT.FE     Fraction of Children Under 5 Not Stunted, Female\n",
       "HD.HCI.STNT.MA     Fraction of Children Under 5 Not Stunted, Male"
      ]
     },
     "execution_count": 62,
     "metadata": {},
     "output_type": "execute_result"
    }
   ],
   "source": [
    "wbdata.get_countries(query='B') #Busco los paises sindo Belgica:\"BEL\" y Rep. Dem. Congo: \"COD\"\n",
    "wbdata.get_indicators(source=63)\n",
    "#Busco los codigos de capital humano los indicadores HD.HCI.EYRS.FE para el promedio de años de acceso femenino a la educacion, HD.HCI.EYRS.MA para el promedio masculino y HD.HCI.EYRS para el promedio general\n",
    "\n"
   ]
  },
  {
   "cell_type": "code",
   "execution_count": 53,
   "metadata": {
    "colab": {
     "base_uri": "https://localhost:8080/"
    },
    "id": "Ft5Hwr12VNIU",
    "outputId": "e002864a-c18e-4be3-bd67-8f5460d9541c",
    "scrolled": true
   },
   "outputs": [
    {
     "data": {
      "text/plain": [
       "[{'indicator': {'id': 'HD.HCI.EYRS', 'value': 'Expected Years of School'},\n",
       "  'country': {'id': 'CD', 'value': 'Congo, Dem. Rep.'},\n",
       "  'countryiso3code': 'COD',\n",
       "  'date': '2020',\n",
       "  'value': 9.13184547424316,\n",
       "  'unit': '',\n",
       "  'obs_status': '',\n",
       "  'decimal': 1},\n",
       " {'indicator': {'id': 'HD.HCI.EYRS', 'value': 'Expected Years of School'},\n",
       "  'country': {'id': 'CD', 'value': 'Congo, Dem. Rep.'},\n",
       "  'countryiso3code': 'COD',\n",
       "  'date': '2019',\n",
       "  'value': None,\n",
       "  'unit': '',\n",
       "  'obs_status': '',\n",
       "  'decimal': 1},\n",
       " {'indicator': {'id': 'HD.HCI.EYRS', 'value': 'Expected Years of School'},\n",
       "  'country': {'id': 'CD', 'value': 'Congo, Dem. Rep.'},\n",
       "  'countryiso3code': 'COD',\n",
       "  'date': '2018',\n",
       "  'value': 9.13184547424316,\n",
       "  'unit': '',\n",
       "  'obs_status': '',\n",
       "  'decimal': 1},\n",
       " {'indicator': {'id': 'HD.HCI.EYRS', 'value': 'Expected Years of School'},\n",
       "  'country': {'id': 'CD', 'value': 'Congo, Dem. Rep.'},\n",
       "  'countryiso3code': 'COD',\n",
       "  'date': '2017',\n",
       "  'value': 9.19,\n",
       "  'unit': '',\n",
       "  'obs_status': '',\n",
       "  'decimal': 1},\n",
       " {'indicator': {'id': 'HD.HCI.EYRS', 'value': 'Expected Years of School'},\n",
       "  'country': {'id': 'CD', 'value': 'Congo, Dem. Rep.'},\n",
       "  'countryiso3code': 'COD',\n",
       "  'date': '2016',\n",
       "  'value': None,\n",
       "  'unit': '',\n",
       "  'obs_status': '',\n",
       "  'decimal': 1},\n",
       " {'indicator': {'id': 'HD.HCI.EYRS', 'value': 'Expected Years of School'},\n",
       "  'country': {'id': 'CD', 'value': 'Congo, Dem. Rep.'},\n",
       "  'countryiso3code': 'COD',\n",
       "  'date': '2015',\n",
       "  'value': None,\n",
       "  'unit': '',\n",
       "  'obs_status': '',\n",
       "  'decimal': 1},\n",
       " {'indicator': {'id': 'HD.HCI.EYRS', 'value': 'Expected Years of School'},\n",
       "  'country': {'id': 'CD', 'value': 'Congo, Dem. Rep.'},\n",
       "  'countryiso3code': 'COD',\n",
       "  'date': '2014',\n",
       "  'value': None,\n",
       "  'unit': '',\n",
       "  'obs_status': '',\n",
       "  'decimal': 1},\n",
       " {'indicator': {'id': 'HD.HCI.EYRS', 'value': 'Expected Years of School'},\n",
       "  'country': {'id': 'CD', 'value': 'Congo, Dem. Rep.'},\n",
       "  'countryiso3code': 'COD',\n",
       "  'date': '2013',\n",
       "  'value': None,\n",
       "  'unit': '',\n",
       "  'obs_status': '',\n",
       "  'decimal': 1},\n",
       " {'indicator': {'id': 'HD.HCI.EYRS', 'value': 'Expected Years of School'},\n",
       "  'country': {'id': 'CD', 'value': 'Congo, Dem. Rep.'},\n",
       "  'countryiso3code': 'COD',\n",
       "  'date': '2012',\n",
       "  'value': None,\n",
       "  'unit': '',\n",
       "  'obs_status': '',\n",
       "  'decimal': 1},\n",
       " {'indicator': {'id': 'HD.HCI.EYRS', 'value': 'Expected Years of School'},\n",
       "  'country': {'id': 'CD', 'value': 'Congo, Dem. Rep.'},\n",
       "  'countryiso3code': 'COD',\n",
       "  'date': '2011',\n",
       "  'value': None,\n",
       "  'unit': '',\n",
       "  'obs_status': '',\n",
       "  'decimal': 1},\n",
       " {'indicator': {'id': 'HD.HCI.EYRS', 'value': 'Expected Years of School'},\n",
       "  'country': {'id': 'CD', 'value': 'Congo, Dem. Rep.'},\n",
       "  'countryiso3code': 'COD',\n",
       "  'date': '2010',\n",
       "  'value': None,\n",
       "  'unit': '',\n",
       "  'obs_status': '',\n",
       "  'decimal': 1},\n",
       " {'indicator': {'id': 'HD.HCI.EYRS', 'value': 'Expected Years of School'},\n",
       "  'country': {'id': 'GB', 'value': 'United Kingdom'},\n",
       "  'countryiso3code': 'GBR',\n",
       "  'date': '2020',\n",
       "  'value': 13.8582963943481,\n",
       "  'unit': '',\n",
       "  'obs_status': '',\n",
       "  'decimal': 1},\n",
       " {'indicator': {'id': 'HD.HCI.EYRS', 'value': 'Expected Years of School'},\n",
       "  'country': {'id': 'GB', 'value': 'United Kingdom'},\n",
       "  'countryiso3code': 'GBR',\n",
       "  'date': '2019',\n",
       "  'value': None,\n",
       "  'unit': '',\n",
       "  'obs_status': '',\n",
       "  'decimal': 1},\n",
       " {'indicator': {'id': 'HD.HCI.EYRS', 'value': 'Expected Years of School'},\n",
       "  'country': {'id': 'GB', 'value': 'United Kingdom'},\n",
       "  'countryiso3code': 'GBR',\n",
       "  'date': '2018',\n",
       "  'value': 13.8582963943481,\n",
       "  'unit': '',\n",
       "  'obs_status': '',\n",
       "  'decimal': 1},\n",
       " {'indicator': {'id': 'HD.HCI.EYRS', 'value': 'Expected Years of School'},\n",
       "  'country': {'id': 'GB', 'value': 'United Kingdom'},\n",
       "  'countryiso3code': 'GBR',\n",
       "  'date': '2017',\n",
       "  'value': 13.89,\n",
       "  'unit': '',\n",
       "  'obs_status': '',\n",
       "  'decimal': 1},\n",
       " {'indicator': {'id': 'HD.HCI.EYRS', 'value': 'Expected Years of School'},\n",
       "  'country': {'id': 'GB', 'value': 'United Kingdom'},\n",
       "  'countryiso3code': 'GBR',\n",
       "  'date': '2016',\n",
       "  'value': None,\n",
       "  'unit': '',\n",
       "  'obs_status': '',\n",
       "  'decimal': 1},\n",
       " {'indicator': {'id': 'HD.HCI.EYRS', 'value': 'Expected Years of School'},\n",
       "  'country': {'id': 'GB', 'value': 'United Kingdom'},\n",
       "  'countryiso3code': 'GBR',\n",
       "  'date': '2015',\n",
       "  'value': None,\n",
       "  'unit': '',\n",
       "  'obs_status': '',\n",
       "  'decimal': 1},\n",
       " {'indicator': {'id': 'HD.HCI.EYRS', 'value': 'Expected Years of School'},\n",
       "  'country': {'id': 'GB', 'value': 'United Kingdom'},\n",
       "  'countryiso3code': 'GBR',\n",
       "  'date': '2014',\n",
       "  'value': None,\n",
       "  'unit': '',\n",
       "  'obs_status': '',\n",
       "  'decimal': 1},\n",
       " {'indicator': {'id': 'HD.HCI.EYRS', 'value': 'Expected Years of School'},\n",
       "  'country': {'id': 'GB', 'value': 'United Kingdom'},\n",
       "  'countryiso3code': 'GBR',\n",
       "  'date': '2013',\n",
       "  'value': None,\n",
       "  'unit': '',\n",
       "  'obs_status': '',\n",
       "  'decimal': 1},\n",
       " {'indicator': {'id': 'HD.HCI.EYRS', 'value': 'Expected Years of School'},\n",
       "  'country': {'id': 'GB', 'value': 'United Kingdom'},\n",
       "  'countryiso3code': 'GBR',\n",
       "  'date': '2012',\n",
       "  'value': None,\n",
       "  'unit': '',\n",
       "  'obs_status': '',\n",
       "  'decimal': 1},\n",
       " {'indicator': {'id': 'HD.HCI.EYRS', 'value': 'Expected Years of School'},\n",
       "  'country': {'id': 'GB', 'value': 'United Kingdom'},\n",
       "  'countryiso3code': 'GBR',\n",
       "  'date': '2011',\n",
       "  'value': None,\n",
       "  'unit': '',\n",
       "  'obs_status': '',\n",
       "  'decimal': 1},\n",
       " {'indicator': {'id': 'HD.HCI.EYRS', 'value': 'Expected Years of School'},\n",
       "  'country': {'id': 'GB', 'value': 'United Kingdom'},\n",
       "  'countryiso3code': 'GBR',\n",
       "  'date': '2010',\n",
       "  'value': 13.6872158050537,\n",
       "  'unit': '',\n",
       "  'obs_status': '',\n",
       "  'decimal': 1}]"
      ]
     },
     "execution_count": 53,
     "metadata": {},
     "output_type": "execute_result"
    }
   ],
   "source": [
    "wbdata.get_data(\"HD.HCI.EYRS.FE\", country=[\"BEL\", \"COD\"])  #Obtengo los datos de mi busqueda\n",
    "wbdata.get_data(\"HD.HCI.EYRS.MA\", country=[\"BEL\", \"COD\"]) \n",
    "wbdata.get_data(\"HD.HCI.EYRS\", country=[\"BEL\", \"COD\"]) "
   ]
  },
  {
   "cell_type": "markdown",
   "metadata": {
    "id": "wEnjOfrVMJ32"
   },
   "source": [
    "#### Ejercicio 2 - Repaso de Pandas\n",
    "Realicen una estadistica descriptiva de ambas series de indicadores comparando los dos países."
   ]
  },
  {
   "cell_type": "code",
   "execution_count": 89,
   "metadata": {},
   "outputs": [
    {
     "data": {
      "text/html": [
       "<div>\n",
       "<style scoped>\n",
       "    .dataframe tbody tr th:only-of-type {\n",
       "        vertical-align: middle;\n",
       "    }\n",
       "\n",
       "    .dataframe tbody tr th {\n",
       "        vertical-align: top;\n",
       "    }\n",
       "\n",
       "    .dataframe thead th {\n",
       "        text-align: right;\n",
       "    }\n",
       "</style>\n",
       "<table border=\"1\" class=\"dataframe\">\n",
       "  <thead>\n",
       "    <tr style=\"text-align: right;\">\n",
       "      <th></th>\n",
       "      <th></th>\n",
       "      <th>ESPECTATIVA_AÑOS_ESCOLARES_GEN</th>\n",
       "      <th>ESPECTATIVA_AÑOS_ESCOLARES_MASC</th>\n",
       "      <th>ESPECTATIVA_AÑOS_ESCOLARES_FEM</th>\n",
       "    </tr>\n",
       "    <tr>\n",
       "      <th>country</th>\n",
       "      <th>date</th>\n",
       "      <th></th>\n",
       "      <th></th>\n",
       "      <th></th>\n",
       "    </tr>\n",
       "  </thead>\n",
       "  <tbody>\n",
       "    <tr>\n",
       "      <th rowspan=\"3\" valign=\"top\">Belgium</th>\n",
       "      <th>2020</th>\n",
       "      <td>13.524476</td>\n",
       "      <td>13.481013</td>\n",
       "      <td>13.566797</td>\n",
       "    </tr>\n",
       "    <tr>\n",
       "      <th>2018</th>\n",
       "      <td>13.524476</td>\n",
       "      <td>13.481013</td>\n",
       "      <td>13.566797</td>\n",
       "    </tr>\n",
       "    <tr>\n",
       "      <th>2017</th>\n",
       "      <td>13.410000</td>\n",
       "      <td>13.370000</td>\n",
       "      <td>13.450000</td>\n",
       "    </tr>\n",
       "    <tr>\n",
       "      <th rowspan=\"3\" valign=\"top\">Congo, Dem. Rep.</th>\n",
       "      <th>2020</th>\n",
       "      <td>9.131845</td>\n",
       "      <td>9.484571</td>\n",
       "      <td>8.786654</td>\n",
       "    </tr>\n",
       "    <tr>\n",
       "      <th>2018</th>\n",
       "      <td>9.131845</td>\n",
       "      <td>9.484571</td>\n",
       "      <td>8.786654</td>\n",
       "    </tr>\n",
       "    <tr>\n",
       "      <th>2017</th>\n",
       "      <td>9.190000</td>\n",
       "      <td>9.510000</td>\n",
       "      <td>8.860000</td>\n",
       "    </tr>\n",
       "  </tbody>\n",
       "</table>\n",
       "</div>"
      ],
      "text/plain": [
       "                       ESPECTATIVA_AÑOS_ESCOLARES_GEN  \\\n",
       "country          date                                   \n",
       "Belgium          2020                       13.524476   \n",
       "                 2018                       13.524476   \n",
       "                 2017                       13.410000   \n",
       "Congo, Dem. Rep. 2020                        9.131845   \n",
       "                 2018                        9.131845   \n",
       "                 2017                        9.190000   \n",
       "\n",
       "                       ESPECTATIVA_AÑOS_ESCOLARES_MASC  \\\n",
       "country          date                                    \n",
       "Belgium          2020                        13.481013   \n",
       "                 2018                        13.481013   \n",
       "                 2017                        13.370000   \n",
       "Congo, Dem. Rep. 2020                         9.484571   \n",
       "                 2018                         9.484571   \n",
       "                 2017                         9.510000   \n",
       "\n",
       "                       ESPECTATIVA_AÑOS_ESCOLARES_FEM  \n",
       "country          date                                  \n",
       "Belgium          2020                       13.566797  \n",
       "                 2018                       13.566797  \n",
       "                 2017                       13.450000  \n",
       "Congo, Dem. Rep. 2020                        8.786654  \n",
       "                 2018                        8.786654  \n",
       "                 2017                        8.860000  "
      ]
     },
     "execution_count": 89,
     "metadata": {},
     "output_type": "execute_result"
    }
   ],
   "source": [
    "indicadores = {\"HD.HCI.EYRS\":\"ESPECTATIVA_AÑOS_ESCOLARES_GEN\", \"HD.HCI.EYRS.MA\":\"ESPECTATIVA_AÑOS_ESCOLARES_MASC\", \"HD.HCI.EYRS.FE\":\"ESPECTATIVA_AÑOS_ESCOLARES_FEM\"} \n",
    "\n",
    "data = wbdata.get_dataframe(indicadores, country=[\"BEL\",\"COD\"])  \n",
    "\n",
    "df = pd.DataFrame(data=data) \n",
    "\n",
    "df.iloc[[0,2,3,11,13,14], :] \n",
    "\n"
   ]
  },
  {
   "cell_type": "markdown",
   "metadata": {
    "id": "em1JddawMJ33"
   },
   "source": [
    "#### Ejercicio 3 - Practicando con Matplotlib\n",
    "Armen dos gráficos distintos usando la librería Matplotlib (repasen Clase 4). Uno programandolo con el estilo *pyplot* y otro gráfico de estilo *orientada a objetos*"
   ]
  },
  {
   "cell_type": "code",
   "execution_count": 176,
   "metadata": {
    "id": "HM45m6tAMJ33"
   },
   "outputs": [],
   "source": [
    "# Resolver acá estilo pyplot \n"
   ]
  },
  {
   "cell_type": "code",
   "execution_count": 140,
   "metadata": {
    "id": "3j6XQnTCMJ33"
   },
   "outputs": [
    {
     "data": {
      "text/plain": [
       "<matplotlib.legend.Legend at 0x23f445fee40>"
      ]
     },
     "execution_count": 140,
     "metadata": {},
     "output_type": "execute_result"
    },
    {
     "data": {
      "image/png": "[encoded data removed]",
      "text/plain": [
       "<Figure size 640x480 with 1 Axes>"
      ]
     },
     "metadata": {},
     "output_type": "display_data"
    }
   ],
   "source": [
    "# Resolver acá estilo orientado-objetos\n",
    "# Tip: aprovechar este estilo de programar una figura para hacerlo más lindo\n",
    "ax = df.iloc[[0,2,3,11,13,14], :].plot(kind='bar', title='PROMEDIO DE AÑOS DE EDUCACION')\n",
    "ax.set_xlabel('País/Año',color='black')\n",
    "ax.set_ylabel('PROMEDIO',color='black')\n",
    "ax.legend([\"General\",\"Hombres\", \"Mujeres\"])\n"
   ]
  },
  {
   "cell_type": "markdown",
   "metadata": {
    "id": "ziEdHT2uMJ33"
   },
   "source": [
    "### Parte B"
   ]
  },
  {
   "cell_type": "markdown",
   "metadata": {
    "id": "W49CcadoMJ33"
   },
   "source": [
    "#### Ejercicio 4\n",
    "De la página de noticias del [diario La Nación](https://www.lanacion.com.ar/) o cualquier diario que les interese, utilicen herramientas de web scraping para obtener los **links** de las noticias de la portada. Guarden los links obtenidos en un dataframe y expórtenlo a un archivo de excel.\n",
    "\n",
    "Nota 1: es posible que logren obtener los links a las noticias sin el dominio: \"https://www.lanacion.com.ar/\". De ser así, concatenen el dominio a la ruta del link obtenido, tal que se obtenga un link al que se pueda acceder. Es decir, que las cadenas de caracteres finales tendrán la forma: https://www.lanacion.com.ar/*texto_obtenido*)\n",
    "\n",
    "Nota 2: junto con su entrega, adjunten una captura de la página de noticias al momento de correr su código. Eso servirá al momento de la corrección para verificar que los links obtenidos hacen referencia a las noticias de ese día y hora."
   ]
  },
  {
   "cell_type": "code",
   "execution_count": null,
   "metadata": {
    "id": "f7VySi7RMJ33"
   },
   "outputs": [],
   "source": [
    "# Resolver acá\n"
   ]
  }
 ],
 "metadata": {
  "anaconda-cloud": {},
  "colab": {
   "provenance": []
  },
  "kernelspec": {
   "display_name": "Python [conda env:base] *",
   "language": "python",
   "name": "conda-base-py"
  },
  "language_info": {
   "codemirror_mode": {
    "name": "ipython",
    "version": 3
   },
   "file_extension": ".py",
   "mimetype": "text/x-python",
   "name": "python",
   "nbconvert_exporter": "python",
   "pygments_lexer": "ipython3",
   "version": "3.12.7"
  }
 },
 "nbformat": 4,
 "nbformat_minor": 4
}
