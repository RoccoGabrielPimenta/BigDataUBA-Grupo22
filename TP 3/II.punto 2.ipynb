{
 "cells": [
  {
   "cell_type": "code",
   "execution_count": null,
   "id": "1a57a96f-282a-4e0a-aa67-67d942b273b4",
   "metadata": {},
   "outputs": [],
   "source": [
    "!pip install statsmodels\n",
    "!pip install scikit-learn\n",
    "!pip install ISLP"
   ]
  },
  {
   "cell_type": "code",
   "execution_count": 4,
   "id": "dbb013dc-2dea-42d8-b1e8-1db7ec624429",
   "metadata": {
    "execution": {
     "iopub.execute_input": "2025-05-11T15:43:14.758577Z",
     "iopub.status.busy": "2025-05-11T15:43:14.758245Z",
     "iopub.status.idle": "2025-05-11T15:43:14.773933Z",
     "shell.execute_reply": "2025-05-11T15:43:14.773216Z",
     "shell.execute_reply.started": "2025-05-11T15:43:14.758553Z"
    }
   },
   "outputs": [
    {
     "ename": "NameError",
     "evalue": "name 'ultimo_df' is not defined",
     "output_type": "error",
     "traceback": [
      "\u001b[0;31m---------------------------------------------------------------------------\u001b[0m",
      "\u001b[0;31mNameError\u001b[0m                                 Traceback (most recent call last)",
      "Cell \u001b[0;32mIn[4], line 3\u001b[0m\n\u001b[1;32m      1\u001b[0m \u001b[38;5;66;03m#Tomamos los datos de la EPH del 2004\u001b[39;00m\n\u001b[0;32m----> 3\u001b[0m df \u001b[38;5;241m=\u001b[39m ultimo_df\n",
      "\u001b[0;31mNameError\u001b[0m: name 'ultimo_df' is not defined"
     ]
    }
   ],
   "source": [
    "#Tomamos los datos de la EPH del 2004\n",
    "\n",
    "import ultimo_df"
   ]
  },
  {
   "cell_type": "code",
   "execution_count": null,
   "id": "1e5b0b0d-a883-4e8d-b7f9-c238337473ba",
   "metadata": {},
   "outputs": [],
   "source": [
    "import nunpy as np\n",
    "import pandas as pd \n",
    "import matplotlib.pyplot as plt \n",
    "from sklearn.preprocessing import StandardScaler \n",
    "from sklearn.descomposition import PCA"
   ]
  },
  {
   "cell_type": "code",
   "execution_count": null,
   "id": "a3ff2ace-8e26-4ae3-bb14-e6d30bc72ece",
   "metadata": {},
   "outputs": [],
   "source": [
    "import os \n",
    "print(os.getcwd())"
   ]
  },
  {
   "cell_type": "code",
   "execution_count": null,
   "id": "e058368c-6bdb-4c0b-a4a0-55af649d9714",
   "metadata": {},
   "outputs": [],
   "source": [
    "edad = get_rdataset(ultimo_df.data\n",
    "print(edad.shape)\n",
    "print(\"/n\", edad.info)\n",
    "print(\"/n\", edad.dtypes)\n",
    "print(\"/n\", edad.head())"
   ]
  },
  {
   "cell_type": "code",
   "execution_count": null,
   "id": "01dbbe53-f00b-4ba0-b95a-0b83a9342e1f",
   "metadata": {},
   "outputs": [],
   "source": [
    "print(edad.mean())"
   ]
  },
  {
   "cell_type": "code",
   "execution_count": 1,
   "id": "572458d4-c9dc-4641-a87d-70b6382578e4",
   "metadata": {
    "execution": {
     "iopub.execute_input": "2025-05-11T14:02:35.774790Z",
     "iopub.status.busy": "2025-05-11T14:02:35.774387Z",
     "iopub.status.idle": "2025-05-11T14:02:35.779137Z",
     "shell.execute_reply": "2025-05-11T14:02:35.778531Z",
     "shell.execute_reply.started": "2025-05-11T14:02:35.774765Z"
    }
   },
   "outputs": [
    {
     "data": {
      "text/plain": [
       "<function posix.chdir(path)>"
      ]
     },
     "execution_count": 1,
     "metadata": {},
     "output_type": "execute_result"
    }
   ],
   "source": [
    "os.chdir"
   ]
  },
  {
   "cell_type": "code",
   "execution_count": null,
   "id": "22d8ebc5-32a5-4030-ac28-5a85cbedb6e3",
   "metadata": {},
   "outputs": [],
   "source": [
    "scaler = StandardScaler(with_std=True, with_mean=True)\n",
    "edad_transformed = pd.DataFrame(caler.fit_transform(edad), columns=edad.columns)"
   ]
  },
  {
   "cell_type": "code",
   "execution_count": null,
   "id": "32456b77-82a9-41f2-9851-ddb2bd1477ea",
   "metadata": {},
   "outputs": [],
   "source": [
    "print(\"Promedio luego de la transformación/n,edad_transformed.mean())\n",
    "print(\"Desvío estandar luego de la transformación/n,edad_transformed.std())"
   ]
  },
  {
   "cell_type": "code",
   "execution_count": null,
   "id": "2c962a66-a5c4-4648-af8c-696890c07970",
   "metadata": {},
   "outputs": [],
   "source": [
    "print(edad_transformed.head())"
   ]
  },
  {
   "cell_type": "code",
   "execution_count": 2,
   "id": "dcab9d65-7530-4395-90a7-b454d85f1f24",
   "metadata": {
    "execution": {
     "iopub.execute_input": "2025-05-11T14:02:41.683345Z",
     "iopub.status.busy": "2025-05-11T14:02:41.683030Z",
     "iopub.status.idle": "2025-05-11T14:02:42.056691Z",
     "shell.execute_reply": "2025-05-11T14:02:42.056025Z",
     "shell.execute_reply.started": "2025-05-11T14:02:41.683321Z"
    }
   },
   "outputs": [
    {
     "ename": "NameError",
     "evalue": "name 'PCA' is not defined",
     "output_type": "error",
     "traceback": [
      "\u001b[0;31m---------------------------------------------------------------------------\u001b[0m",
      "\u001b[0;31mNameError\u001b[0m                                 Traceback (most recent call last)",
      "Cell \u001b[0;32mIn[2], line 1\u001b[0m\n\u001b[0;32m----> 1\u001b[0m pca \u001b[38;5;241m=\u001b[39m PCA()\n",
      "\u001b[0;31mNameError\u001b[0m: name 'PCA' is not defined"
     ]
    }
   ],
   "source": [
    "pca = PCA()\n",
    "edad_pca = pca.fit_transform(edad_transformed)"
   ]
  },
  {
   "cell_type": "code",
   "execution_count": 5,
   "id": "ae1dd5e6-30b9-42f2-ab56-86d2041576cf",
   "metadata": {
    "execution": {
     "iopub.execute_input": "2025-05-11T16:43:58.335491Z",
     "iopub.status.busy": "2025-05-11T16:43:58.335165Z",
     "iopub.status.idle": "2025-05-11T16:43:58.349817Z",
     "shell.execute_reply": "2025-05-11T16:43:58.349100Z",
     "shell.execute_reply.started": "2025-05-11T16:43:58.335470Z"
    }
   },
   "outputs": [
    {
     "ename": "NameError",
     "evalue": "name 'edad_pca' is not defined",
     "output_type": "error",
     "traceback": [
      "\u001b[0;31m---------------------------------------------------------------------------\u001b[0m",
      "\u001b[0;31mNameError\u001b[0m                                 Traceback (most recent call last)",
      "Cell \u001b[0;32mIn[5], line 1\u001b[0m\n\u001b[0;32m----> 1\u001b[0m scores \u001b[38;5;241m=\u001b[39m edad_pca\n\u001b[1;32m      2\u001b[0m \u001b[38;5;28mprint\u001b[39m(scores)\n",
      "\u001b[0;31mNameError\u001b[0m: name 'edad_pca' is not defined"
     ]
    }
   ],
   "source": [
    "scores = edad_pca\n",
    "print(scores)"
   ]
  },
  {
   "cell_type": "code",
   "execution_count": 6,
   "id": "c5824e46-e479-4ca5-a29c-fbb4d9e44980",
   "metadata": {
    "execution": {
     "iopub.execute_input": "2025-05-11T16:50:17.610653Z",
     "iopub.status.busy": "2025-05-11T16:50:17.610261Z",
     "iopub.status.idle": "2025-05-11T16:50:17.626997Z",
     "shell.execute_reply": "2025-05-11T16:50:17.626326Z",
     "shell.execute_reply.started": "2025-05-11T16:50:17.610631Z"
    }
   },
   "outputs": [
    {
     "ename": "NameError",
     "evalue": "name 'pca' is not defined",
     "output_type": "error",
     "traceback": [
      "\u001b[0;31m---------------------------------------------------------------------------\u001b[0m",
      "\u001b[0;31mNameError\u001b[0m                                 Traceback (most recent call last)",
      "Cell \u001b[0;32mIn[6], line 1\u001b[0m\n\u001b[0;32m----> 1\u001b[0m loading_vectors \u001b[38;5;241m=\u001b[39m pca\u001b[38;5;241m.\u001b[39mcomponents_\n\u001b[1;32m      2\u001b[0m \u001b[38;5;28mprint\u001b[39m(\u001b[38;5;124m\"\u001b[39m\u001b[38;5;124mLoadings:/n\u001b[39m\u001b[38;5;124m\"\u001b[39m, pca\u001b[38;5;241m.\u001b[39mcomponents_)\n\u001b[1;32m      3\u001b[0m \u001b[38;5;28mprint\u001b[39m(\u001b[38;5;124m\"\u001b[39m\u001b[38;5;124mLoadings del CP1:/n\u001b[39m\u001b[38;5;124m\"\u001b[39m,pca\u001b[38;5;241m.\u001b[39mcomponents_[\u001b[38;5;241m0\u001b[39m])\n",
      "\u001b[0;31mNameError\u001b[0m: name 'pca' is not defined"
     ]
    }
   ],
   "source": [
    "loading_vectors = pca.components_\n",
    "print(\"Loadings:/n\", pca.components_)\n",
    "print(\"Loadings del CP1:/n\",pca.components_[0])\n",
    "pca.components_[0,0]"
   ]
  },
  {
   "cell_type": "code",
   "execution_count": null,
   "id": "5419cd5b-318c-4fbd-ac40-d1cc37cdfd62",
   "metadata": {},
   "outputs": [],
   "source": []
  }
 ],
 "metadata": {
  "kernelspec": {
   "display_name": "anaconda-panel-2023.05-py310",
   "language": "python",
   "name": "conda-env-anaconda-panel-2023.05-py310-py"
  },
  "language_info": {
   "codemirror_mode": {
    "name": "ipython",
    "version": 3
   },
   "file_extension": ".py",
   "mimetype": "text/x-python",
   "name": "python",
   "nbconvert_exporter": "python",
   "pygments_lexer": "ipython3",
   "version": "3.11.5"
  }
 },
 "nbformat": 4,
 "nbformat_minor": 5
}
