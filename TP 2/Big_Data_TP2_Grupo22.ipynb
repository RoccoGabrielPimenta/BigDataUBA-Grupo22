{
  "nbformat": 4,
  "nbformat_minor": 0,
  "metadata": {
    "colab": {
      "provenance": []
    },
    "kernelspec": {
      "name": "python3",
      "display_name": "Python 3"
    },
    "language_info": {
      "name": "python"
    }
  },
  "cells": [
    {
      "cell_type": "markdown",
      "source": [
        "# Parte I: Familiarizandonos con la base EPH y limpieza\n",
        "La Encuesta Permanente de Hogares (EPH) es un programa nacional de\n",
        "producción sistemática y permanente de indicadores sociales que lleva a cabo\n",
        "el Instituto Nacional de Estadística y Censos (INDEC), que permite conocer\n",
        "las características sociodemográficas y socioeconómicas de la población. Uno\n",
        "de los indicadores más valiosos sobre el mercado laboral que pueden\n",
        "obtenerse con los datos de esta encuesta es la tasa de desocupación.\n",
        "1. Utilizando información disponible en la página del INDEC, expliquen\n",
        "brevemente cómo se identifica a las personas desocupadas.\n",
        "\n",
        "\n"
      ],
      "metadata": {
        "id": "zT-Pd4iIbVD0"
      }
    },
    {
      "cell_type": "code",
      "execution_count": null,
      "metadata": {
        "id": "G5ft8_XRa6WL"
      },
      "outputs": [],
      "source": []
    },
    {
      "cell_type": "markdown",
      "source": [
        "2. Entren a la página https://www.indec.gob.ar/ y vayan a la sección\n",
        "Servicios y Herramientas  Bases de datos. Descarguen la base de\n",
        "microdatos de la Encuesta Permanente de Hogares (EPH)\n",
        "correspondiente al primer trimestre de 2004 y 2024 en formato .dta y\n",
        ".xls, respectivamente (una vez descargadas, las bases a usar deberán\n",
        "llamarse usu_individual_T104.dta y\n",
        "usu_individual_T124.xls). En la página web, también encontrará\n",
        "un diccionario de variables con el nombre de “Diseño de registro y\n",
        "estructura para las bases preliminares (hogares y personas)”.\n",
        "Descarguen el diccionario de cada año. En estos archivos se les indica\n",
        "qué significa cada variable que aparece en la base de datos, en\n",
        "particular, en la sección de Diseño de registros de la base Personas.\n",
        "\n",
        "\n"
      ],
      "metadata": {
        "id": "-4Q-HKajcCGs"
      }
    },
    {
      "cell_type": "code",
      "source": [],
      "metadata": {
        "id": "YZikYKnccLYC"
      },
      "execution_count": null,
      "outputs": []
    },
    {
      "cell_type": "markdown",
      "source": [
        "a. A partir de ahora, cada grupo debe decidir trabajar con una\n",
        "región del país en específico (ver variable REGION). Eliminen los\n",
        "datos de todas aquellas regiones que no se encuentren dentro de\n",
        "su región y unan ambos trimestres (2004 y 2024) en una sola\n",
        "base."
      ],
      "metadata": {
        "id": "jMN3uRnFdqGa"
      }
    },
    {
      "cell_type": "code",
      "source": [],
      "metadata": {
        "id": "qBVICZRYduKs"
      },
      "execution_count": null,
      "outputs": []
    },
    {
      "cell_type": "markdown",
      "source": [
        "b. Asegúrense de que todas las variables tengan el formato\n",
        "correcto. Selecciones 15 variables de interés y reporten la\n",
        "cantidad de valores faltantes (NA, o NaN en Python) en una\n",
        "tabla por cada año. Comenten qué variables de las 15 que\n",
        "seleccionarion tienen más valores faltantes y qué año."
      ],
      "metadata": {
        "id": "14amkj6SdvVq"
      }
    },
    {
      "cell_type": "code",
      "source": [],
      "metadata": {
        "id": "dYAt-2YDdx9y"
      },
      "execution_count": null,
      "outputs": []
    },
    {
      "cell_type": "markdown",
      "source": [
        "c. Si notan valores sin sentido (como ingresos negativos) corriganla\n",
        "de acuerdo a la documentación de la EPH (puede ser una\n",
        "codificación de no respuesta de los individuos) y eliminen estos\n",
        "valores extraños de sus 15 variables de interes. Comenten\n",
        "brevemente en el reporte dicho proceso de limpieza."
      ],
      "metadata": {
        "id": "9hZ5gfCDdyXa"
      }
    },
    {
      "cell_type": "code",
      "source": [],
      "metadata": {
        "id": "ks7ohWQad3hU"
      },
      "execution_count": null,
      "outputs": []
    },
    {
      "cell_type": "markdown",
      "source": [
        "# Parte II: Primer Análisis Exploratorio\n",
        "3. Realicen un gráfico de barras mostrando la composición por sexo para\n",
        "2004 y 2024. Comenten los resultados.\n"
      ],
      "metadata": {
        "id": "QBOIjOm5cL3D"
      }
    },
    {
      "cell_type": "code",
      "source": [],
      "metadata": {
        "id": "S1ZR1nHocRj1"
      },
      "execution_count": null,
      "outputs": []
    },
    {
      "cell_type": "markdown",
      "source": [
        "4.Realicen una matriz de correlación para 2004 y 2024 con las siguientes\n",
        "variables: CH04, CH06, CH07, CH08, NIVEL ED, ESTADO,\n",
        "CAT_INAC, IPCF. Utilicen alguno de los comandos disponibles en este\n",
        "link o este link para graficar la matriz de correlación. Comenten los\n",
        "resultados.\n"
      ],
      "metadata": {
        "id": "9qJIeEMecSWi"
      }
    },
    {
      "cell_type": "code",
      "source": [],
      "metadata": {
        "id": "oo3cJFjNcVfo"
      },
      "execution_count": null,
      "outputs": []
    },
    {
      "cell_type": "markdown",
      "source": [
        "# Parte III: Conociendo a los ocupados y desocupados\n",
        "Los siguientes incisos apuntan a ver los resultados para su región\n",
        "seleccionada y comparando 2004 con 2024.\n",
        "5. ¿Cuántos desocupados hay en la muestra? ¿Cuántos inactivos? ¿Cuál\n",
        "es la media de ingreso per cápita familiar (IPCF) según estado\n",
        "(ocupado, desocupado, inactivo)?"
      ],
      "metadata": {
        "id": "GJs1XtzwcgGr"
      }
    },
    {
      "cell_type": "code",
      "source": [],
      "metadata": {
        "id": "Wx89dcwFchJa"
      },
      "execution_count": null,
      "outputs": []
    },
    {
      "cell_type": "markdown",
      "source": [
        "6. Uno de los grandes problemas de la EPH es la creciente cantidad de\n",
        "hogares que no reportan sus ingresos (ver por ejemplo el siguiente\n",
        "informe). ¿Cuántas personas no respondieron cuál es su condición de\n",
        "actividad? Guarden como una base distinta llamada respondieron\n",
        "las observaciones donde respondieron la pregunta sobre su condición\n",
        "de actividad (ESTADO). Las observaciones con ESTADO=0 guárdenlas en\n",
        "una base bajo el nombre norespondieron."
      ],
      "metadata": {
        "id": "i-s4rpYYchnJ"
      }
    },
    {
      "cell_type": "code",
      "source": [],
      "metadata": {
        "id": "292H-HcAcnSr"
      },
      "execution_count": null,
      "outputs": []
    },
    {
      "cell_type": "markdown",
      "source": [
        "7. Agreguen a la base respondieron una columna llamada “PEA”\n",
        "(Población Económicamente Activa) que tome 1 si están ocupados o\n",
        "desocupados en ESTADO. Realicen un gráfico de barras mostrando la\n",
        "composición por PEA para 2004 y 2024. Comenten los resultados."
      ],
      "metadata": {
        "id": "jtXchULScnmp"
      }
    },
    {
      "cell_type": "code",
      "source": [],
      "metadata": {
        "id": "ishRQEdncsDK"
      },
      "execution_count": null,
      "outputs": []
    },
    {
      "cell_type": "markdown",
      "source": [
        "8. Agreguen a la base respondieron una columna llamada “PET”\n",
        "(Población en Edad para Trabajar) que tome 1 si están la persona tiene\n",
        "entre 15 y 65 años cumplidos. Realicen un gráfico de barras mostrando\n",
        "la composición por PEA para 2004 y 2024. Comenten los resultados y\n",
        "comparen PET con PEA."
      ],
      "metadata": {
        "id": "aWV81xDtctE5"
      }
    },
    {
      "cell_type": "code",
      "source": [],
      "metadata": {
        "id": "LUP7Urlqcyf5"
      },
      "execution_count": null,
      "outputs": []
    },
    {
      "cell_type": "markdown",
      "source": [
        "9. Agreguen a la base respondieron una columna llamada “desocupado”\n",
        "que tome 1 si la persona está desocupada. ¿Cuántas personas están\n",
        "desocupadas en 2004 vs 2024?\n"
      ],
      "metadata": {
        "id": "vqTkplHwc6lR"
      }
    },
    {
      "cell_type": "markdown",
      "source": [
        "a. Muestre la proporción de desocupados por nivel educativo\n",
        "comparando 2004 vs 2024. ¿Hubo cambios de desocupados por\n",
        "nivel educativo?"
      ],
      "metadata": {
        "id": "wwYQfKupdHcC"
      }
    },
    {
      "cell_type": "code",
      "source": [],
      "metadata": {
        "id": "NEDDlnI5dIWx"
      },
      "execution_count": null,
      "outputs": []
    },
    {
      "cell_type": "markdown",
      "source": [
        "b. Cree una variable categórica de años cumplidos (CH06)\n",
        "agrupada de a 10 años. Muestre proporción de desocupados por\n",
        "edad agrupada comparando 2004 vs 2024. ¿Hubo cambios de\n",
        "desocupados por edad?\n"
      ],
      "metadata": {
        "id": "YvMaeXhBdKM6"
      }
    },
    {
      "cell_type": "code",
      "source": [],
      "metadata": {
        "id": "RUDoTmaJdNWZ"
      },
      "execution_count": null,
      "outputs": []
    },
    {
      "cell_type": "markdown",
      "source": [
        "c. Seleccione una (1) variable de interés y muestre las diferencias\n",
        "2004 vs 2024. ¿Hubo cambios de desocupados por edad?"
      ],
      "metadata": {
        "id": "l_r9XhnCdOLx"
      }
    },
    {
      "cell_type": "code",
      "source": [],
      "metadata": {
        "id": "gi7fj8p8dY0q"
      },
      "execution_count": null,
      "outputs": []
    }
  ]
}