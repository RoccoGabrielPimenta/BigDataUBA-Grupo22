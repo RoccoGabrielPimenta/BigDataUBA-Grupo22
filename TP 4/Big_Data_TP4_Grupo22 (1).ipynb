{
 "cells": [
  {
   "cell_type": "markdown",
   "metadata": {
    "id": "jUX-HyrDeD72"
   },
   "source": [
    "#TP 4 DE BIG DATA SOBRE MÉTODOS SUPERVISADOS: REGRESIÓN &  CLASIFICACIÓN USANDO LA EHP"
   ]
  },
  {
   "cell_type": "markdown",
   "metadata": {
    "id": "54K3GvHve5qa"
   },
   "source": [
    "#A.\n",
    "Enfoque de validación  \n",
    "Utilicen la base respondieron. Para cada año, dividan las observaciones en\n",
    "una base de prueba (test) y una de entrenamiento (train) utilizando el\n",
    "comando train_test_split. La base de entrenamiento debe comprender el\n",
    "70% de los datos, y la semilla a utilizar (random state instance) debe ser 444.\n",
    "Establezca a desocupado como su variable dependiente en la base de\n",
    "entrenamiento (vector y). El resto de las variables seleccionadas serán las\n",
    "variables independientes (matriz X). Recuerden agregar la columna de unos\n",
    "(1)."
   ]
  },
  {
   "cell_type": "code",
   "execution_count": 3,
   "metadata": {
    "colab": {
     "base_uri": "https://localhost:8080/"
    },
    "id": "kjSidCXQd_jQ",
    "outputId": "8db1b594-40c6-4043-b5dd-f79fec14475e"
   },
   "outputs": [
    {
     "name": "stdout",
     "output_type": "stream",
     "text": [
      "Requirement already satisfied: seaborn in c:\\users\\usuario\\anaconda3\\lib\\site-packages (0.13.2)\n",
      "Requirement already satisfied: numpy!=1.24.0,>=1.20 in c:\\users\\usuario\\anaconda3\\lib\\site-packages (from seaborn) (1.26.4)\n",
      "Requirement already satisfied: pandas>=1.2 in c:\\users\\usuario\\anaconda3\\lib\\site-packages (from seaborn) (2.2.2)\n",
      "Requirement already satisfied: matplotlib!=3.6.1,>=3.4 in c:\\users\\usuario\\anaconda3\\lib\\site-packages (from seaborn) (3.9.2)\n",
      "Requirement already satisfied: contourpy>=1.0.1 in c:\\users\\usuario\\anaconda3\\lib\\site-packages (from matplotlib!=3.6.1,>=3.4->seaborn) (1.2.0)\n",
      "Requirement already satisfied: cycler>=0.10 in c:\\users\\usuario\\anaconda3\\lib\\site-packages (from matplotlib!=3.6.1,>=3.4->seaborn) (0.11.0)\n",
      "Requirement already satisfied: fonttools>=4.22.0 in c:\\users\\usuario\\anaconda3\\lib\\site-packages (from matplotlib!=3.6.1,>=3.4->seaborn) (4.51.0)\n",
      "Requirement already satisfied: kiwisolver>=1.3.1 in c:\\users\\usuario\\anaconda3\\lib\\site-packages (from matplotlib!=3.6.1,>=3.4->seaborn) (1.4.4)\n",
      "Requirement already satisfied: packaging>=20.0 in c:\\users\\usuario\\anaconda3\\lib\\site-packages (from matplotlib!=3.6.1,>=3.4->seaborn) (24.1)\n",
      "Requirement already satisfied: pillow>=8 in c:\\users\\usuario\\anaconda3\\lib\\site-packages (from matplotlib!=3.6.1,>=3.4->seaborn) (10.4.0)\n",
      "Requirement already satisfied: pyparsing>=2.3.1 in c:\\users\\usuario\\anaconda3\\lib\\site-packages (from matplotlib!=3.6.1,>=3.4->seaborn) (3.1.2)\n",
      "Requirement already satisfied: python-dateutil>=2.7 in c:\\users\\usuario\\anaconda3\\lib\\site-packages (from matplotlib!=3.6.1,>=3.4->seaborn) (2.9.0.post0)\n",
      "Requirement already satisfied: pytz>=2020.1 in c:\\users\\usuario\\anaconda3\\lib\\site-packages (from pandas>=1.2->seaborn) (2025.2)\n",
      "Requirement already satisfied: tzdata>=2022.7 in c:\\users\\usuario\\anaconda3\\lib\\site-packages (from pandas>=1.2->seaborn) (2023.3)\n",
      "Requirement already satisfied: six>=1.5 in c:\\users\\usuario\\anaconda3\\lib\\site-packages (from python-dateutil>=2.7->matplotlib!=3.6.1,>=3.4->seaborn) (1.16.0)\n"
     ]
    }
   ],
   "source": [
    "import pandas as pd\n",
    "import numpy as np\n",
    "import os\n",
    "import random\n",
    "#Para crear datos con distribucion normal en otro modulo\n",
    "from scipy.stats import norm\n",
    "#Importo matplotlib.pyplot\n",
    "import matplotlib.pyplot as plt\n",
    "#Importamos los paquetes para usar kernels\n",
    "from sklearn.neighbors import KernelDensity\n",
    "#Instalamos seaborn\n",
    "!pip install seaborn\n",
    "import seaborn as sns\n",
    "#Importamos estos paquetes para usar kernels jerarquicos y dendogramas\n",
    "from sklearn.neighbors import KernelDensity\n",
    "from sklearn.cluster import KMeans, AgglomerativeClustering\n",
    "from sklearn.preprocessing import StandardScaler\n",
    "from scipy.cluster.hierarchy import dendrogram, linkage\n",
    "#Importamos los paquetes para testear y entrenar nuestra data,vecinos cercanos y regresión, mas unos cuantos mas que no sirven para este TP.\n",
    "from sklearn.model_selection import train_test_split\n",
    "from sklearn.neighbors import KNeighborsClassifier\n",
    "from sklearn.neighbors import KNeighborsRegressor\n",
    "from sklearn.linear_model import LinearRegression\n",
    "from sklearn.metrics import r2_score, mean_squared_error, mean_absolute_error\n",
    "from sklearn.linear_model import LogisticRegression\n",
    "from sklearn.metrics import accuracy_score, recall_score\n",
    "from sklearn.metrics import confusion_matrix\n",
    "from sklearn.metrics import roc_curve\n",
    "from sklearn.metrics import roc_auc_score\n",
    "import statsmodels.api as sm\n",
    "from sklearn.preprocessing import PolynomialFeatures\n",
    "import scipy.stats as stats\n",
    "\n",
    "#Cargamos nuestra base de datos del 2024\n",
    "url = \"https://github.com/RoccoGabrielPimenta/BigDataUBA-Grupo22/raw/refs/heads/main/TP%202/usu_individual_T124.xlsx\"\n",
    "df = pd.read_excel(url)\n",
    "df.head(5)\n",
    "pd.set_option('display.max_columns', 6)\n",
    "\n",
    "#Cargamos nuestra base de datos del 2004\n",
    "url = \"https://github.com/RoccoGabrielPimenta/BigDataUBA-Grupo22/raw/refs/heads/main/TP%202/usu_individual_t104.dta\"\n",
    "df2 = pd.read_stata(url)\n"
   ]
  },
  {
   "cell_type": "code",
   "execution_count": 4,
   "metadata": {
    "colab": {
     "base_uri": "https://localhost:8080/",
     "height": 728
    },
    "id": "SeuaSX8DGoD4",
    "outputId": "2fd84a98-b9d0-49cd-dbc7-5e0cb713dd0a"
   },
   "outputs": [
    {
     "name": "stderr",
     "output_type": "stream",
     "text": [
      "C:\\Users\\Usuario\\AppData\\Local\\Temp\\ipykernel_4340\\2524566275.py:21: FutureWarning: Downcasting behavior in `replace` is deprecated and will be removed in a future version. To retain the old behavior, explicitly call `result.infer_objects(copy=False)`. To opt-in to the future behavior, set `pd.set_option('future.no_silent_downcasting', True)`\n",
      "  df8[\"CH04\"] = df8[\"CH04\"].replace({'Varón':1, 'Mujer':2})\n",
      "C:\\Users\\Usuario\\AppData\\Local\\Temp\\ipykernel_4340\\2524566275.py:22: FutureWarning: Downcasting behavior in `replace` is deprecated and will be removed in a future version. To retain the old behavior, explicitly call `result.infer_objects(copy=False)`. To opt-in to the future behavior, set `pd.set_option('future.no_silent_downcasting', True)`\n",
      "  df8[\"CH06\"] = df8[\"CH06\"].replace({'Menos de 1 año':0, '98 y más años':98})\n",
      "C:\\Users\\Usuario\\AppData\\Local\\Temp\\ipykernel_4340\\2524566275.py:23: FutureWarning: Downcasting behavior in `replace` is deprecated and will be removed in a future version. To retain the old behavior, explicitly call `result.infer_objects(copy=False)`. To opt-in to the future behavior, set `pd.set_option('future.no_silent_downcasting', True)`\n",
      "  df8[\"CH07\"] = df8[\"CH07\"].replace({'Unido':1, 'Casado':2, 'Separado o divorciado':3, 'Viudo':4, 'Soltero':5})\n",
      "C:\\Users\\Usuario\\AppData\\Local\\Temp\\ipykernel_4340\\2524566275.py:25: FutureWarning: Downcasting behavior in `replace` is deprecated and will be removed in a future version. To retain the old behavior, explicitly call `result.infer_objects(copy=False)`. To opt-in to the future behavior, set `pd.set_option('future.no_silent_downcasting', True)`\n",
      "  df8['ESTADO'] = df8['ESTADO'].replace({\n",
      "C:\\Users\\Usuario\\AppData\\Local\\Temp\\ipykernel_4340\\2524566275.py:31: FutureWarning: Downcasting behavior in `replace` is deprecated and will be removed in a future version. To retain the old behavior, explicitly call `result.infer_objects(copy=False)`. To opt-in to the future behavior, set `pd.set_option('future.no_silent_downcasting', True)`\n",
      "  df8[\"CH12\"] = df8[\"CH12\"].replace({\"Jardín/Preescolar\":0, \"Primario\":6, \"EGB\":9, \"Secundario\":12, \"Polimodal\":12, \"Terciario\":18, \"Universitario\":18, \"Posgrado Universitario\":24, \"Educación especial (discapacitado)\":0})\n",
      "C:\\Users\\Usuario\\AppData\\Local\\Temp\\ipykernel_4340\\2524566275.py:32: FutureWarning: Downcasting behavior in `replace` is deprecated and will be removed in a future version. To retain the old behavior, explicitly call `result.infer_objects(copy=False)`. To opt-in to the future behavior, set `pd.set_option('future.no_silent_downcasting', True)`\n",
      "  df8[\"CH13\"] = df8[\"CH13\"].replace({\"Sí\":0, \"No\":-1, \"Ns./Nr.\":0})\n",
      "C:\\Users\\Usuario\\AppData\\Local\\Temp\\ipykernel_4340\\2524566275.py:36: FutureWarning: Downcasting behavior in `replace` is deprecated and will be removed in a future version. To retain the old behavior, explicitly call `result.infer_objects(copy=False)`. To opt-in to the future behavior, set `pd.set_option('future.no_silent_downcasting', True)`\n",
      "  df9[\"CH12\"] = df9[\"CH12\"].replace({0:0, 2:6, 3:9, 4:12, 5:12, 6:18, 7:18,8:24, 9:0})\n",
      "C:\\Users\\Usuario\\AppData\\Local\\Temp\\ipykernel_4340\\2524566275.py:37: FutureWarning: Downcasting behavior in `replace` is deprecated and will be removed in a future version. To retain the old behavior, explicitly call `result.infer_objects(copy=False)`. To opt-in to the future behavior, set `pd.set_option('future.no_silent_downcasting', True)`\n",
      "  df9[\"CH13\"] = df9[\"CH13\"].replace({0:0, 1.0:-1, 9:0})\n",
      "C:\\Users\\Usuario\\AppData\\Local\\Temp\\ipykernel_4340\\2524566275.py:38: FutureWarning: Downcasting behavior in `replace` is deprecated and will be removed in a future version. To retain the old behavior, explicitly call `result.infer_objects(copy=False)`. To opt-in to the future behavior, set `pd.set_option('future.no_silent_downcasting', True)`\n",
      "  df9[\"CH14\"] = df9[\"CH14\"].replace({0:6, 1:5, 2:4,3:3, 4:2, 5:1, 6:6, 7:7,8:8, 9:9, 98:0, 99:0})\n",
      "C:\\Users\\Usuario\\AppData\\Local\\Temp\\ipykernel_4340\\2524566275.py:43: FutureWarning: Downcasting behavior in `replace` is deprecated and will be removed in a future version. To retain the old behavior, explicitly call `result.infer_objects(copy=False)`. To opt-in to the future behavior, set `pd.set_option('future.no_silent_downcasting', True)`\n",
      "  ultimo_df = ultimo_df.replace([np.nan, -np.inf], 0)\n"
     ]
    },
    {
     "data": {
      "text/html": [
       "<div>\n",
       "<style scoped>\n",
       "    .dataframe tbody tr th:only-of-type {\n",
       "        vertical-align: middle;\n",
       "    }\n",
       "\n",
       "    .dataframe tbody tr th {\n",
       "        vertical-align: top;\n",
       "    }\n",
       "\n",
       "    .dataframe thead th {\n",
       "        text-align: right;\n",
       "    }\n",
       "</style>\n",
       "<table border=\"1\" class=\"dataframe\">\n",
       "  <thead>\n",
       "    <tr style=\"text-align: right;\">\n",
       "      <th></th>\n",
       "      <th>ANO4</th>\n",
       "      <th>CH04</th>\n",
       "      <th>CH06</th>\n",
       "      <th>...</th>\n",
       "      <th>PP3E_TOT</th>\n",
       "      <th>PP3F_TOT</th>\n",
       "      <th>P21</th>\n",
       "    </tr>\n",
       "  </thead>\n",
       "  <tbody>\n",
       "    <tr>\n",
       "      <th>42025</th>\n",
       "      <td>2004.0</td>\n",
       "      <td>1</td>\n",
       "      <td>34.0</td>\n",
       "      <td>...</td>\n",
       "      <td>36.0</td>\n",
       "      <td>0.0</td>\n",
       "      <td>1000.0</td>\n",
       "    </tr>\n",
       "    <tr>\n",
       "      <th>42026</th>\n",
       "      <td>2004.0</td>\n",
       "      <td>1</td>\n",
       "      <td>62.0</td>\n",
       "      <td>...</td>\n",
       "      <td>0.0</td>\n",
       "      <td>0.0</td>\n",
       "      <td>1200.0</td>\n",
       "    </tr>\n",
       "    <tr>\n",
       "      <th>42027</th>\n",
       "      <td>2004.0</td>\n",
       "      <td>2</td>\n",
       "      <td>58.0</td>\n",
       "      <td>...</td>\n",
       "      <td>0.0</td>\n",
       "      <td>0.0</td>\n",
       "      <td>0.0</td>\n",
       "    </tr>\n",
       "    <tr>\n",
       "      <th>42028</th>\n",
       "      <td>2004.0</td>\n",
       "      <td>1</td>\n",
       "      <td>38.0</td>\n",
       "      <td>...</td>\n",
       "      <td>48.0</td>\n",
       "      <td>0.0</td>\n",
       "      <td>1200.0</td>\n",
       "    </tr>\n",
       "    <tr>\n",
       "      <th>...</th>\n",
       "      <td>...</td>\n",
       "      <td>...</td>\n",
       "      <td>...</td>\n",
       "      <td>...</td>\n",
       "      <td>...</td>\n",
       "      <td>...</td>\n",
       "      <td>...</td>\n",
       "    </tr>\n",
       "    <tr>\n",
       "      <th>45932</th>\n",
       "      <td>2024.0</td>\n",
       "      <td>2</td>\n",
       "      <td>34.0</td>\n",
       "      <td>...</td>\n",
       "      <td>30.0</td>\n",
       "      <td>0.0</td>\n",
       "      <td>160000.0</td>\n",
       "    </tr>\n",
       "    <tr>\n",
       "      <th>45933</th>\n",
       "      <td>2024.0</td>\n",
       "      <td>1</td>\n",
       "      <td>10.0</td>\n",
       "      <td>...</td>\n",
       "      <td>0.0</td>\n",
       "      <td>0.0</td>\n",
       "      <td>0.0</td>\n",
       "    </tr>\n",
       "    <tr>\n",
       "      <th>45934</th>\n",
       "      <td>2024.0</td>\n",
       "      <td>2</td>\n",
       "      <td>8.0</td>\n",
       "      <td>...</td>\n",
       "      <td>0.0</td>\n",
       "      <td>0.0</td>\n",
       "      <td>0.0</td>\n",
       "    </tr>\n",
       "    <tr>\n",
       "      <th>45935</th>\n",
       "      <td>2024.0</td>\n",
       "      <td>1</td>\n",
       "      <td>6.0</td>\n",
       "      <td>...</td>\n",
       "      <td>0.0</td>\n",
       "      <td>0.0</td>\n",
       "      <td>0.0</td>\n",
       "    </tr>\n",
       "  </tbody>\n",
       "</table>\n",
       "<p>7777 rows × 12 columns</p>\n",
       "</div>"
      ],
      "text/plain": [
       "         ANO4  CH04  CH06  ...  PP3E_TOT  PP3F_TOT       P21\n",
       "42025  2004.0     1  34.0  ...      36.0       0.0    1000.0\n",
       "42026  2004.0     1  62.0  ...       0.0       0.0    1200.0\n",
       "42027  2004.0     2  58.0  ...       0.0       0.0       0.0\n",
       "42028  2004.0     1  38.0  ...      48.0       0.0    1200.0\n",
       "...       ...   ...   ...  ...       ...       ...       ...\n",
       "45932  2024.0     2  34.0  ...      30.0       0.0  160000.0\n",
       "45933  2024.0     1  10.0  ...       0.0       0.0       0.0\n",
       "45934  2024.0     2   8.0  ...       0.0       0.0       0.0\n",
       "45935  2024.0     1   6.0  ...       0.0       0.0       0.0\n",
       "\n",
       "[7777 rows x 12 columns]"
      ]
     },
     "execution_count": 4,
     "metadata": {},
     "output_type": "execute_result"
    }
   ],
   "source": [
    "#lo primero que hacemos es tomar los datos de la region patagonica del año 2004. Para eso filtramos el inclullendo solo aquellas regiones que responden a la patagonia.\n",
    "#Luego, tomamos los datos de la region patagonica del año 2024. Para eso filtramos el inclullendo solo aquellas regiones que responden al numero 42.\n",
    "#Para concluir,juantamos las distitas que responden a esta region.\n",
    "df2[df2[\"region\"]=='Patagónica']\n",
    "df3 = df[df[\"REGION\"]==42]\n",
    "df3\n",
    "df4 = df2[df2[\"region\"]==\"Patagónica\"]\n",
    "df4.columns = df4.columns.str.upper()\n",
    "df4\n",
    "df_completo = pd.concat([df3,df4],axis=0)\n",
    "#Indicamos cuáles de esas columnas vamos a estar utilizando\n",
    "columnas_a_usar = [1,11,13,14,16,19,20,21,27,44,45,132]\n",
    "columnas_a_usar1 = [27]\n",
    "\n",
    "#filtramos las columnas que queremos en un nuevo dataset\n",
    "df_filtrado_24 = df_completo.iloc[0:4513, columnas_a_usar]\n",
    "df_filtrado_04 = df_completo.iloc[4513:7777, columnas_a_usar]\n",
    "\n",
    "#filtramos para tener los datos de los dos años en una sola base de datos\n",
    "df8 = df_filtrado_04\n",
    "df8[\"CH04\"] = df8[\"CH04\"].replace({'Varón':1, 'Mujer':2})\n",
    "df8[\"CH06\"] = df8[\"CH06\"].replace({'Menos de 1 año':0, '98 y más años':98})\n",
    "df8[\"CH07\"] = df8[\"CH07\"].replace({'Unido':1, 'Casado':2, 'Separado o divorciado':3, 'Viudo':4, 'Soltero':5})\n",
    "df8[\"CH09\"] = df8[\"CH09\"].replace({'Sí':1, 'No':2, 'Menor de 2 años':3})\n",
    "df8['ESTADO'] = df8['ESTADO'].replace({\n",
    "    'Ocupado': 1,\n",
    "    'Desocupado': 2,\n",
    "    'Inactivo': 3,\n",
    "    \"Menor de 10 años\" : 4\n",
    "})\n",
    "df8[\"CH12\"] = df8[\"CH12\"].replace({\"Jardín/Preescolar\":0, \"Primario\":6, \"EGB\":9, \"Secundario\":12, \"Polimodal\":12, \"Terciario\":18, \"Universitario\":18, \"Posgrado Universitario\":24, \"Educación especial (discapacitado)\":0})\n",
    "df8[\"CH13\"] = df8[\"CH13\"].replace({\"Sí\":0, \"No\":-1, \"Ns./Nr.\":0})\n",
    "df8[\"CH14\"] = df8[\"CH14\"].replace({\"Ninguno\":6, \"Primero\":5, \"Segundo\":4, \"Tercero\":3, \"Cuarto\":2, \"Quinto\":1, \"Sexto\":6, \"Séptimo\":7, \"Octavo\":8, \"Noveno\":9,\"Educación especial\":0,\"Ns/Nr\":0})\n",
    "df8\n",
    "df9 = df_filtrado_24\n",
    "df9[\"CH12\"] = df9[\"CH12\"].replace({0:0, 2:6, 3:9, 4:12, 5:12, 6:18, 7:18,8:24, 9:0})\n",
    "df9[\"CH13\"] = df9[\"CH13\"].replace({0:0, 1.0:-1, 9:0})\n",
    "df9[\"CH14\"] = df9[\"CH14\"].replace({0:6, 1:5, 2:4,3:3, 4:2, 5:1, 6:6, 7:7,8:8, 9:9, 98:0, 99:0})\n",
    "\n",
    "#Limpiamos los datos que no nos interesan y definimos una versión final para la base de datos\n",
    "ultimo_df = pd.concat([df8, df9],axis=0)\n",
    "ultimo_df = ultimo_df.replace(\"NaN\", 0)\n",
    "ultimo_df = ultimo_df.replace([np.nan, -np.inf], 0)\n",
    "ultimo_df = ultimo_df.apply(pd.to_numeric, errors='coerce').fillna(0)\n",
    "ultimo_df['CH13'] = ultimo_df['CH13'].replace(2, -1)\n",
    "ultimo_df.loc[ultimo_df['CH13'] < 3, 'CH13'] = 0\n",
    "\n",
    "pd.set_option(\"display.max_rows\", 8)\n",
    "\n",
    "ultimo_df"
   ]
  },
  {
   "cell_type": "code",
   "execution_count": 5,
   "metadata": {
    "id": "SFLmdJb6firf"
   },
   "outputs": [],
   "source": [
    "#Creo la variable que contiene la edad de los encuestados\n",
    "edad=ultimo_df[[\"CH06\"]]"
   ]
  },
  {
   "cell_type": "code",
   "execution_count": 6,
   "metadata": {
    "id": "lO-tmpwrHNqF"
   },
   "outputs": [],
   "source": [
    "#Creamos una variable con los datos que vamos a estar usando que son edad estado de desocupacion y el año\n",
    "edad2 = (ultimo_df[[\"CH06\", \"ESTADO\",\"ANO4\"]])"
   ]
  },
  {
   "cell_type": "code",
   "execution_count": 7,
   "metadata": {
    "colab": {
     "base_uri": "https://localhost:8080/",
     "height": 396
    },
    "id": "fcAhZCslHfiU",
    "outputId": "02e01f3c-7a91-45bc-b25d-cd11dd8cc90f"
   },
   "outputs": [
    {
     "data": {
      "text/plain": [
       "42025    12.0\n",
       "42026     6.0\n",
       "42027     6.0\n",
       "42028    12.0\n",
       "         ... \n",
       "45932    12.0\n",
       "45933     6.0\n",
       "45934     6.0\n",
       "45935     6.0\n",
       "Length: 7777, dtype: float64"
      ]
     },
     "execution_count": 7,
     "metadata": {},
     "output_type": "execute_result"
    }
   ],
   "source": [
    "#1ro tomamos la columnas que nos interesan para hacer la variable.\n",
    "#tomamos los datos CH12 y los remplazamos por el numero de años que equivalen cada nivel de educacion. los datos de CH13 los cambiamos por un 0 en caso de ser 1 y -1 en caso de que no halla terminado.En CH14 le restamos a 6 el ultimo año que curso, exeptuando a los EGB.\n",
    "educ=(ultimo_df[[\"CH12\", \"CH13\",\"CH14\"]])\n",
    "educ\n",
    "pd.set_option('display.max_rows', 8)\n",
    "#creamos una variable en bace a esta relacion:\n",
    "EDUC = educ[\"CH12\"]+educ[\"CH13\"]*educ[\"CH14\"]\n",
    "EDUC"
   ]
  },
  {
   "cell_type": "code",
   "execution_count": 13,
   "metadata": {
    "id": "kdnKLWS7Hnit"
   },
   "outputs": [],
   "source": [
    "#inflacion entre el 2004 y el 2024 es un 46.137,21%\n",
    "salario_semanal=(ultimo_df[\"P21\"])\n",
    "\n",
    "salario_semana04 = salario_semanal.iloc[0:4513]*11.53 #siendo este numero 461.37/40\n",
    "salario_semana24 = salario_semanal.iloc[4513:7777]/40\n",
    "\n",
    "salario_semanal  = pd.concat([salario_semana04, salario_semana24],axis=0)\n",
    "df = salario_semanal[salario_semanal != 0]\n"
   ]
  },
  {
   "cell_type": "code",
   "execution_count": 15,
   "metadata": {
    "id": "8WpZ39pgJ4v1"
   },
   "outputs": [],
   "source": [
    "#Defino una variable que contiene el estado civil de la persona\n",
    "estado_civil = ultimo_df[[\"CH07\"]]"
   ]
  },
  {
   "cell_type": "code",
   "execution_count": 17,
   "metadata": {
    "id": "m8q0jpqHWjgw"
   },
   "outputs": [],
   "source": [
    "alfabeto=ultimo_df[[\"CH09\"]]"
   ]
  },
  {
   "cell_type": "code",
   "execution_count": 19,
   "metadata": {
    "id": "ilrb-5rAbzO_"
   },
   "outputs": [],
   "source": [
    "genero=ultimo_df[[\"CH04\"]]\n",
    "femenino=ultimo_df[[\"CH04\"]].iloc[2]"
   ]
  },
  {
   "cell_type": "code",
   "execution_count": 21,
   "metadata": {
    "id": "ob6opUivGoD5"
   },
   "outputs": [],
   "source": [
    "#Dividimos la data entre los que respindieron y no respondieron\n",
    "respondieron = ultimo_df.query(\"ESTADO != 0\")\n",
    "norespondieron = ultimo_df.query(\"ESTADO == 0\")"
   ]
  },
  {
   "cell_type": "code",
   "execution_count": 22,
   "metadata": {
    "id": "OjhQ_46JPI3k"
   },
   "outputs": [],
   "source": [
    "#Definimos ocupados y desocupados\n",
    "ocupados = ultimo_df[ultimo_df['ESTADO'] == 1]\n",
    "desocupados = ultimo_df[ultimo_df['ESTADO'] == 2]"
   ]
  },
  {
   "cell_type": "code",
   "execution_count": 23,
   "metadata": {
    "colab": {
     "base_uri": "https://localhost:8080/"
    },
    "id": "zNbBtyQ_U90r",
    "outputId": "4079bc93-a86c-4b34-9538-540680f22537"
   },
   "outputs": [
    {
     "name": "stderr",
     "output_type": "stream",
     "text": [
      "C:\\Users\\Usuario\\AppData\\Local\\Temp\\ipykernel_4340\\1738738988.py:2: SettingWithCopyWarning: \n",
      "A value is trying to be set on a copy of a slice from a DataFrame.\n",
      "Try using .loc[row_indexer,col_indexer] = value instead\n",
      "\n",
      "See the caveats in the documentation: https://pandas.pydata.org/pandas-docs/stable/user_guide/indexing.html#returning-a-view-versus-a-copy\n",
      "  ocupados['label'] = 1\n",
      "C:\\Users\\Usuario\\AppData\\Local\\Temp\\ipykernel_4340\\1738738988.py:3: SettingWithCopyWarning: \n",
      "A value is trying to be set on a copy of a slice from a DataFrame.\n",
      "Try using .loc[row_indexer,col_indexer] = value instead\n",
      "\n",
      "See the caveats in the documentation: https://pandas.pydata.org/pandas-docs/stable/user_guide/indexing.html#returning-a-view-versus-a-copy\n",
      "  desocupados['label'] = 2\n"
     ]
    }
   ],
   "source": [
    "#Le damos labels a las dos variables\n",
    "ocupados['label'] = 1\n",
    "desocupados['label'] = 2\n",
    "\n",
    "#Unimos los dataframes para que no nos de error a la hora de hacer el testeo y entrenamiento\n",
    "estados_unidos = pd.concat([ocupados, desocupados])\n",
    "\n",
    "#Separamos los datos con X e Y para utilizalos mas facilmente en la función train_test_splint\n",
    "X = estados_unidos.drop(columns=['label'])\n",
    "y = estados_unidos['label']"
   ]
  },
  {
   "cell_type": "code",
   "execution_count": 24,
   "metadata": {
    "id": "YC5VohQboBne"
   },
   "outputs": [],
   "source": [
    "#La variable \"P21\" que utilizamos para el salario estaba causando una prediccion perfecta en el punto 5, con una matriz de correlacion se pudo hallar el problema\n",
    "y = estados_unidos['P21']\n",
    "X = estados_unidos.drop(columns=['P21'])"
   ]
  },
  {
   "cell_type": "code",
   "execution_count": 25,
   "metadata": {
    "id": "V3iU-WtTLz-s"
   },
   "outputs": [],
   "source": [
    "#Usamos la train_test_split para hacer nuestro entrenamiento y testeo, los dividimos como pide la consigna y utilizamos la seed dada.\n",
    "X_train, X_test, y_train, y_test = train_test_split(X, y, test_size=0.3, random_state=444)"
   ]
  },
  {
   "cell_type": "code",
   "execution_count": 26,
   "metadata": {
    "id": "6WyrefIegHKR"
   },
   "outputs": [],
   "source": [
    "#Añadimos la columna de unos\n",
    "X_train = sm.add_constant(X_train)\n",
    "X_test = sm.add_constant(X_test)"
   ]
  },
  {
   "cell_type": "code",
   "execution_count": 33,
   "metadata": {
    "colab": {
     "base_uri": "https://localhost:8080/"
    },
    "id": "MfwLMKpmWh0V",
    "outputId": "2e5082f8-d089-4c87-86e3-a66fe3a781fc"
   },
   "outputs": [
    {
     "name": "stdout",
     "output_type": "stream",
     "text": [
      "(2432, 13)\n",
      "(2432,)\n",
      "(1043,)\n",
      "(1043, 13)\n"
     ]
    }
   ],
   "source": [
    "#Miramos el tamaño de nuestro entrenamiento y testeo\n",
    "print(X_train.shape)\n",
    "print(y_train.shape)\n",
    "\n",
    "print(y_test.shape)\n",
    "print(X_test.shape)"
   ]
  },
  {
   "cell_type": "markdown",
   "metadata": {
    "id": "KCegArsoMqot"
   },
   "source": [
    "#1.\n",
    "Cree una tabla de diferencia de medias entre la base de entrenamiento\n",
    "y la de testeo de las características seleccionadas en su matriz X.\n",
    "Comente la tabla de la diferencia de medias de sus variables entre\n",
    "entrenamiento y testeo."
   ]
  },
  {
   "cell_type": "code",
   "execution_count": 39,
   "metadata": {
    "colab": {
     "base_uri": "https://localhost:8080/"
    },
    "id": "jWoI-Z2_RLGG",
    "outputId": "42f73b83-dc52-4c8c-d703-c6e24e74b330"
   },
   "outputs": [
    {
     "name": "stdout",
     "output_type": "stream",
     "text": [
      "          Media del Entrenamiento  Media de la Prueba  \\\n",
      "const                        1.00                1.00   \n",
      "CH04                         1.44                1.40   \n",
      "CH06                        39.71               39.90   \n",
      "CH07                         2.89                2.90   \n",
      "CH09                         1.00                1.00   \n",
      "CH12                        12.84               12.77   \n",
      "CH13                         0.00                0.00   \n",
      "CH14                         1.53                1.37   \n",
      "ESTADO                       1.07                1.06   \n",
      "PP3E_TOT                    32.57               34.74   \n",
      "PP3F_TOT                     1.13                1.20   \n",
      "label                        1.07                1.06   \n",
      "\n",
      "          Desvio standar entrenamiento  ...  contador testeo  Diferencia  \\\n",
      "const                         0.000000  ...             1043        0.00   \n",
      "CH04                          0.496128  ...             1043       -0.04   \n",
      "CH06                         12.844595  ...             1043        0.19   \n",
      "CH07                          1.588258  ...             1043        0.01   \n",
      "CH09                          0.064052  ...             1043        0.00   \n",
      "CH12                          4.306863  ...             1043       -0.07   \n",
      "CH13                          0.000000  ...             1043        0.00   \n",
      "CH14                          6.790797  ...             1043       -0.16   \n",
      "ESTADO                        0.247965  ...             1043       -0.01   \n",
      "PP3E_TOT                     21.453301  ...             1043        2.17   \n",
      "PP3F_TOT                      4.609678  ...             1043        0.07   \n",
      "label                         0.247965  ...             1043       -0.01   \n",
      "\n",
      "          Valor p:  \n",
      "const          NaN  \n",
      "CH04      0.053400  \n",
      "CH06      0.688030  \n",
      "CH07      0.793513  \n",
      "CH09      0.855049  \n",
      "CH12      0.662877  \n",
      "CH13           NaN  \n",
      "CH14      0.482266  \n",
      "ESTADO    0.305353  \n",
      "PP3E_TOT  0.006330  \n",
      "PP3F_TOT  0.708457  \n",
      "label     0.305353  \n",
      "\n",
      "[12 rows x 8 columns]\n"
     ]
    },
    {
     "name": "stderr",
     "output_type": "stream",
     "text": [
      "C:\\Users\\Usuario\\anaconda3\\Lib\\site-packages\\scipy\\stats\\_axis_nan_policy.py:551: RuntimeWarning: Precision loss occurred in moment calculation due to catastrophic cancellation. This occurs when the data are nearly identical. Results may be unreliable.\n",
      "  res = hypotest_fun_out(*samples, axis=axis, **kwds)\n"
     ]
    }
   ],
   "source": [
    "#Calculo las medias con .mean y redondeo para tenem mayor limpiza visual en los números\n",
    "entrenamiento_medias = X_train.mean().round(2)\n",
    "testeo_medias = X_test.mean().round(2)\n",
    "desvio_entrenamiento = X_train.std() \n",
    "desvio_testeo = X_test.std()  \n",
    "contador_entrenamiento: X_train.count()\n",
    "contador_testeo: X_test.count() \n",
    "stat, p_value = stats.ttest_ind(X_train, X_test)\n",
    "\n",
    "#Hago la tabla\n",
    "tabla_medias = pd.DataFrame({\n",
    "    'Media del Entrenamiento': entrenamiento_medias,\n",
    "    'Media de la Prueba': testeo_medias, \n",
    "    \"Desvio standar entrenamiento\": desvio_entrenamiento,\n",
    "    \"desvio standar testeo\": desvio_testeo, \n",
    "    \"contador entrenamiento\": X_train.count(),\n",
    "    \"contador testeo\": X_test.count(),\n",
    "    'Diferencia': testeo_medias - entrenamiento_medias,\n",
    "    \"Valor p:\": p_value\n",
    "})\n",
    "#Oculto el año\n",
    "tabla_medias = tabla_medias.drop(index='ANO4')\n",
    "pd.set_option('display.max_rows', None) \n",
    "print(tabla_medias) \n"
   ]
  },
  {
   "cell_type": "markdown",
   "metadata": {
    "id": "J12fxZ0rfydv"
   },
   "source": [
    "#B.\n",
    "Metodo Supervisado 1: Modelo de Regresión Lineal"
   ]
  },
  {
   "cell_type": "markdown",
   "metadata": {
    "id": "QTfj0QFofNFg"
   },
   "source": [
    "#2.\n",
    "Para los ocupados de la EPH en su region seleccionada usando la base\n",
    "de entrenamiento, estime los siguientes modelos usando como\n",
    "variable dependiente salario_semanal (y) y como predictores las\n",
    "variables creadas en el TP3:\n",
    "\n",
    "i. salario_semanal en edad\n",
    "\n",
    "ii. salario_semanal en edad y edad2\n",
    "\n",
    "iii. salario_semanal en edad, edad2 y educ\n",
    "\n",
    "iv. salario_semanal en edad, edad2, educ y mujer (donde es una\n",
    "dymmy que toma mujer=1 si CH04==2)\n",
    "\n",
    "v. salario_semanal en edad, edad2, educ, mujer y dos variables que\n",
    "haya creado y limpiado en el TP2 o TP3 que usted crean son\n",
    "relevantes para predecir salarios semanales.\n",
    "\n",
    "Complete y comente brevemente la siguiente tabla, reportando los\n",
    "coeficientes (hasta 3 decimales luego de la coma) y desvío estandar (sd\n",
    "con 2 decimales despues de la coma) de cada coeficiente entre\n",
    "parentesis:"
   ]
  },
  {
   "cell_type": "code",
   "execution_count": 43,
   "metadata": {
    "id": "qSwnBHPMaS4K"
   },
   "outputs": [],
   "source": [
    "#Utilizo el entrenamiento con nuestras variables\n",
    "X1 = edad.loc[X_train.index]\n",
    "y1 = salario_semanal.loc[y_train.index]"
   ]
  },
  {
   "cell_type": "code",
   "execution_count": 45,
   "metadata": {
    "colab": {
     "base_uri": "https://localhost:8080/"
    },
    "id": "ApUgOPlMs7Q_",
    "outputId": "c3ae4eaa-59c3-4350-c953-90ba59fb4378"
   },
   "outputs": [
    {
     "name": "stdout",
     "output_type": "stream",
     "text": [
      "                            OLS Regression Results                            \n",
      "==============================================================================\n",
      "Dep. Variable:                    P21   R-squared:                       0.003\n",
      "Model:                            OLS   Adj. R-squared:                  0.003\n",
      "Method:                 Least Squares   F-statistic:                     8.379\n",
      "Date:                Sat, 31 May 2025   Prob (F-statistic):            0.00383\n",
      "Time:                        18:54:12   Log-Likelihood:                -39880.\n",
      "No. Observations:                2567   AIC:                         7.976e+04\n",
      "Df Residuals:                    2565   BIC:                         7.978e+04\n",
      "Df Model:                           1                                         \n",
      "Covariance Type:            nonrobust                                         \n",
      "==============================================================================\n",
      "                 coef    std err          t      P>|t|      [0.025      0.975]\n",
      "------------------------------------------------------------------------------\n",
      "const       1.943e+05   8.19e+04      2.372      0.018    3.37e+04    3.55e+05\n",
      "CH06        5686.7315   1964.624      2.895      0.004    1834.321    9539.142\n",
      "==============================================================================\n",
      "Omnibus:                     2639.007   Durbin-Watson:                   2.006\n",
      "Prob(Omnibus):                  0.000   Jarque-Bera (JB):           175241.135\n",
      "Skew:                           5.018   Prob(JB):                         0.00\n",
      "Kurtosis:                      42.213   Cond. No.                         128.\n",
      "==============================================================================\n",
      "\n",
      "Notes:\n",
      "[1] Standard Errors assume that the covariance matrix of the errors is correctly specified.\n"
     ]
    }
   ],
   "source": [
    "#Aplicamos la Regresión lineal\n",
    "model= sm.OLS(y1, X1)\n",
    "\n",
    "# Agregamos constante a X1\n",
    "X1_const = sm.add_constant(X1)\n",
    "\n",
    "# Ajustamos el modelo OLS\n",
    "model = sm.OLS(y1, X1_const).fit()\n",
    "\n",
    "# Mostramos el resumen\n",
    "print(model.summary())\n",
    "\n"
   ]
  },
  {
   "cell_type": "code",
   "execution_count": 46,
   "metadata": {
    "id": "tHq0OA2gZHvB"
   },
   "outputs": [],
   "source": [
    "#Utilizo el entrenamiento con nuestras variables\n",
    "X2 = pd.concat([edad2.loc[X_train.index],\n",
    "                edad.loc[X_train.index]], axis=1)\n"
   ]
  },
  {
   "cell_type": "code",
   "execution_count": 47,
   "metadata": {
    "colab": {
     "base_uri": "https://localhost:8080/"
    },
    "id": "GZHHCvu250NF",
    "outputId": "bdd0e206-e3e4-4074-f9b0-930938046299"
   },
   "outputs": [
    {
     "name": "stdout",
     "output_type": "stream",
     "text": [
      "                            OLS Regression Results                            \n",
      "==============================================================================\n",
      "Dep. Variable:                    P21   R-squared:                       0.066\n",
      "Model:                            OLS   Adj. R-squared:                  0.065\n",
      "Method:                 Least Squares   F-statistic:                     60.40\n",
      "Date:                Sat, 31 May 2025   Prob (F-statistic):           1.01e-37\n",
      "Time:                        18:54:12   Log-Likelihood:                -39797.\n",
      "No. Observations:                2567   AIC:                         7.960e+04\n",
      "Df Residuals:                    2563   BIC:                         7.962e+04\n",
      "Df Model:                           3                                         \n",
      "Covariance Type:            nonrobust                                         \n",
      "==============================================================================\n",
      "                 coef    std err          t      P>|t|      [0.025      0.975]\n",
      "------------------------------------------------------------------------------\n",
      "const      -6.617e+07   5.36e+06    -12.340      0.000   -7.67e+07   -5.57e+07\n",
      "CH06         815.2537    975.306      0.836      0.403   -1097.214    2727.721\n",
      "ESTADO     -1.979e+05   5.72e+04     -3.461      0.001    -3.1e+05   -8.58e+04\n",
      "ANO4        3.311e+04   2661.396     12.441      0.000    2.79e+04    3.83e+04\n",
      "CH06         815.2538    975.306      0.836      0.403   -1097.214    2727.721\n",
      "==============================================================================\n",
      "Omnibus:                     2612.133   Durbin-Watson:                   2.009\n",
      "Prob(Omnibus):                  0.000   Jarque-Bera (JB):           185083.772\n",
      "Skew:                           4.899   Prob(JB):                         0.00\n",
      "Kurtosis:                      43.428   Cond. No.                     4.40e+18\n",
      "==============================================================================\n",
      "\n",
      "Notes:\n",
      "[1] Standard Errors assume that the covariance matrix of the errors is correctly specified.\n",
      "[2] The smallest eigenvalue is 5.4e-28. This might indicate that there are\n",
      "strong multicollinearity problems or that the design matrix is singular.\n"
     ]
    }
   ],
   "source": [
    "\n",
    "#Aplicamos la Regresión lineal\n",
    "model= sm.OLS(y1, X2)\n",
    "\n",
    "# Agregamos constante a X1\n",
    "X2_const = sm.add_constant(X2)\n",
    "\n",
    "# Ajustamos el modelo OLS\n",
    "model = sm.OLS(y1, X2_const).fit()\n",
    "\n",
    "# Mostramos el resumen\n",
    "print(model.summary())"
   ]
  },
  {
   "cell_type": "code",
   "execution_count": 51,
   "metadata": {
    "id": "psn1mqAibAMf"
   },
   "outputs": [],
   "source": [
    "#Utilizo el entrenamiento con nuestras variables\n",
    "X3 = pd.concat ([educ.loc[X_train.index],\n",
    "                 edad2.loc[X_train.index],\n",
    "                 edad.loc[X_train.index]], axis=1)"
   ]
  },
  {
   "cell_type": "code",
   "execution_count": 53,
   "metadata": {
    "colab": {
     "base_uri": "https://localhost:8080/"
    },
    "id": "ZwRjrBMT5-rE",
    "outputId": "13692715-0233-4054-9d43-e75e6b88f571"
   },
   "outputs": [
    {
     "name": "stdout",
     "output_type": "stream",
     "text": [
      "                            OLS Regression Results                            \n",
      "==============================================================================\n",
      "Dep. Variable:                    P21   R-squared:                       0.068\n",
      "Model:                            OLS   Adj. R-squared:                  0.066\n",
      "Method:                 Least Squares   F-statistic:                     37.56\n",
      "Date:                Sat, 31 May 2025   Prob (F-statistic):           2.80e-37\n",
      "Time:                        18:54:13   Log-Likelihood:                -39793.\n",
      "No. Observations:                2567   AIC:                         7.960e+04\n",
      "Df Residuals:                    2561   BIC:                         7.963e+04\n",
      "Df Model:                           5                                         \n",
      "Covariance Type:            nonrobust                                         \n",
      "==============================================================================\n",
      "                 coef    std err          t      P>|t|      [0.025      0.975]\n",
      "------------------------------------------------------------------------------\n",
      "const      -6.427e+07   5.42e+06    -11.864      0.000   -7.49e+07   -5.36e+07\n",
      "CH12        1.518e+04   6069.172      2.501      0.012    3277.636    2.71e+04\n",
      "CH13        8.571e-06   7.22e-07     11.864      0.000    7.15e-06    9.99e-06\n",
      "CH14       -1061.4073   3753.338     -0.283      0.777   -8421.293    6298.478\n",
      "CH06        1187.1239    985.901      1.204      0.229    -746.121    3120.369\n",
      "ESTADO     -1.666e+05   5.85e+04     -2.848      0.004   -2.81e+05   -5.19e+04\n",
      "ANO4        3.204e+04   2695.626     11.885      0.000    2.68e+04    3.73e+04\n",
      "CH06        1187.1239    985.901      1.204      0.229    -746.121    3120.369\n",
      "==============================================================================\n",
      "Omnibus:                     2598.493   Durbin-Watson:                   2.010\n",
      "Prob(Omnibus):                  0.000   Jarque-Bera (JB):           181554.546\n",
      "Skew:                           4.860   Prob(JB):                         0.00\n",
      "Kurtosis:                      43.037   Cond. No.                     9.99e+19\n",
      "==============================================================================\n",
      "\n",
      "Notes:\n",
      "[1] Standard Errors assume that the covariance matrix of the errors is correctly specified.\n",
      "[2] The smallest eigenvalue is 1.05e-30. This might indicate that there are\n",
      "strong multicollinearity problems or that the design matrix is singular.\n"
     ]
    }
   ],
   "source": [
    "#Aplicamos la Regresión lineal\n",
    "model= sm.OLS(y1, X3)\n",
    "\n",
    "# Agregamos constante a X1\n",
    "X3_const = sm.add_constant(X3)\n",
    "\n",
    "# Ajustamos el modelo OLS\n",
    "model = sm.OLS(y1, X3_const).fit()\n",
    "\n",
    "# Mostramos el resumen\n",
    "print(model.summary())"
   ]
  },
  {
   "cell_type": "code",
   "execution_count": 55,
   "metadata": {
    "id": "MtmRWQLca3WD"
   },
   "outputs": [],
   "source": [
    "#Utilizo el entrenamiento con nuestras variables\n",
    "X4 = pd.concat([ultimo_df['CH04'].loc[X_train.index].to_frame(2),\n",
    "                educ.loc[X_train.index],\n",
    "                edad2.loc[X_train.index],\n",
    "                edad.loc[X_train.index]],axis=1)"
   ]
  },
  {
   "cell_type": "code",
   "execution_count": 57,
   "metadata": {
    "colab": {
     "base_uri": "https://localhost:8080/"
    },
    "id": "XIsdeYBi823p",
    "outputId": "db8fa362-3e51-40fd-c2af-56435c148d14"
   },
   "outputs": [
    {
     "name": "stdout",
     "output_type": "stream",
     "text": [
      "                            OLS Regression Results                            \n",
      "==============================================================================\n",
      "Dep. Variable:                    P21   R-squared:                       0.072\n",
      "Model:                            OLS   Adj. R-squared:                  0.070\n",
      "Method:                 Least Squares   F-statistic:                     33.15\n",
      "Date:                Sat, 31 May 2025   Prob (F-statistic):           1.12e-38\n",
      "Time:                        18:54:14   Log-Likelihood:                -39788.\n",
      "No. Observations:                2567   AIC:                         7.959e+04\n",
      "Df Residuals:                    2560   BIC:                         7.963e+04\n",
      "Df Model:                           6                                         \n",
      "Covariance Type:            nonrobust                                         \n",
      "==============================================================================\n",
      "                 coef    std err          t      P>|t|      [0.025      0.975]\n",
      "------------------------------------------------------------------------------\n",
      "const      -6.432e+07   5.41e+06    -11.895      0.000   -7.49e+07   -5.37e+07\n",
      "2          -1.708e+05    5.3e+04     -3.226      0.001   -2.75e+05    -6.7e+04\n",
      "CH12        1.892e+04   6167.972      3.067      0.002    6823.392     3.1e+04\n",
      "CH13         5.46e-07   4.59e-08     11.899      0.000    4.56e-07    6.36e-07\n",
      "CH14       -1394.8400   3747.890     -0.372      0.710   -8744.044    5954.364\n",
      "CH06        1261.6347    984.367      1.282      0.200    -668.601    3191.871\n",
      "ESTADO     -1.512e+05   5.86e+04     -2.582      0.010   -2.66e+05   -3.64e+04\n",
      "ANO4        3.215e+04   2690.914     11.948      0.000    2.69e+04    3.74e+04\n",
      "CH06        1261.6347    984.367      1.282      0.200    -668.601    3191.871\n",
      "==============================================================================\n",
      "Omnibus:                     2578.657   Durbin-Watson:                   2.008\n",
      "Prob(Omnibus):                  0.000   Jarque-Bera (JB):           176353.900\n",
      "Skew:                           4.805   Prob(JB):                         0.00\n",
      "Kurtosis:                      42.452   Cond. No.                     2.51e+19\n",
      "==============================================================================\n",
      "\n",
      "Notes:\n",
      "[1] Standard Errors assume that the covariance matrix of the errors is correctly specified.\n",
      "[2] The smallest eigenvalue is 1.65e-29. This might indicate that there are\n",
      "strong multicollinearity problems or that the design matrix is singular.\n"
     ]
    }
   ],
   "source": [
    "#Aplicamos la Regresión lineal\n",
    "model= sm.OLS(y1, X4)\n",
    "\n",
    "# Agregamos constante a X1\n",
    "X4_const = sm.add_constant(X4)\n",
    "\n",
    "# Ajustamos el modelo OLS\n",
    "model = sm.OLS(y1, X4_const).fit()\n",
    "\n",
    "# Mostramos el resumen\n",
    "print(model.summary())"
   ]
  },
  {
   "cell_type": "code",
   "execution_count": 59,
   "metadata": {
    "id": "Mis7MTvnd3Ff"
   },
   "outputs": [],
   "source": [
    "X5=pd.concat([estado_civil.loc[X_train.index],\n",
    "              ultimo_df['CH04'].loc[X_train.index].to_frame(2),\n",
    "              educ.loc[X_train.index],\n",
    "              edad2.loc[X_train.index],\n",
    "              edad.loc[X_train.index]],axis=1)\n"
   ]
  },
  {
   "cell_type": "code",
   "execution_count": 61,
   "metadata": {
    "colab": {
     "base_uri": "https://localhost:8080/"
    },
    "id": "qu1sD_W89bHe",
    "outputId": "570789f8-327c-4546-cb5f-4067cd41ea50"
   },
   "outputs": [
    {
     "name": "stdout",
     "output_type": "stream",
     "text": [
      "                            OLS Regression Results                            \n",
      "==============================================================================\n",
      "Dep. Variable:                    P21   R-squared:                       0.073\n",
      "Model:                            OLS   Adj. R-squared:                  0.070\n",
      "Method:                 Least Squares   F-statistic:                     28.66\n",
      "Date:                Sat, 31 May 2025   Prob (F-statistic):           2.99e-38\n",
      "Time:                        18:54:15   Log-Likelihood:                -39787.\n",
      "No. Observations:                2567   AIC:                         7.959e+04\n",
      "Df Residuals:                    2559   BIC:                         7.964e+04\n",
      "Df Model:                           7                                         \n",
      "Covariance Type:            nonrobust                                         \n",
      "==============================================================================\n",
      "                 coef    std err          t      P>|t|      [0.025      0.975]\n",
      "------------------------------------------------------------------------------\n",
      "const      -6.476e+07   5.42e+06    -11.955      0.000   -7.54e+07   -5.41e+07\n",
      "CH07       -2.225e+04   1.72e+04     -1.293      0.196    -5.6e+04    1.15e+04\n",
      "2          -1.685e+05    5.3e+04     -3.181      0.001   -2.72e+05   -6.46e+04\n",
      "CH12          1.9e+04   6167.522      3.081      0.002    6910.471    3.11e+04\n",
      "CH13       -6.837e-07   5.72e-08    -11.954      0.000   -7.96e-07   -5.72e-07\n",
      "CH14       -1330.3478   3747.729     -0.355      0.723   -8679.238    6018.543\n",
      "CH06         867.8388   1030.262      0.842      0.400   -1152.393    2888.071\n",
      "ESTADO     -1.425e+05    5.9e+04     -2.417      0.016   -2.58e+05   -2.69e+04\n",
      "ANO4        3.241e+04   2698.039     12.012      0.000    2.71e+04    3.77e+04\n",
      "CH06         867.8388   1030.262      0.842      0.400   -1152.393    2888.071\n",
      "==============================================================================\n",
      "Omnibus:                     2574.922   Durbin-Watson:                   2.007\n",
      "Prob(Omnibus):                  0.000   Jarque-Bera (JB):           175106.709\n",
      "Skew:                           4.795   Prob(JB):                         0.00\n",
      "Kurtosis:                      42.309   Cond. No.                     9.47e+19\n",
      "==============================================================================\n",
      "\n",
      "Notes:\n",
      "[1] Standard Errors assume that the covariance matrix of the errors is correctly specified.\n",
      "[2] The smallest eigenvalue is 1.17e-30. This might indicate that there are\n",
      "strong multicollinearity problems or that the design matrix is singular.\n"
     ]
    }
   ],
   "source": [
    "#Aplicamos la Regresión lineal\n",
    "model= sm.OLS(y1, X5)\n",
    "\n",
    "# Agregamos constante a X1\n",
    "X5_const = sm.add_constant(X5)\n",
    "\n",
    "# Ajustamos el modelo OLS\n",
    "model = sm.OLS(y1, X5_const).fit()\n",
    "\n",
    "# Mostramos el resumen\n",
    "print(model.summary())"
   ]
  },
  {
   "cell_type": "code",
   "execution_count": 63,
   "metadata": {
    "id": "E4-KVaXkePqI"
   },
   "outputs": [],
   "source": [
    "X6 = pd.concat([\n",
    "    alfabeto.loc[X_train.index],\n",
    "    estado_civil.loc[X_train.index],\n",
    "    #Usamos.to_frame para poder meterlo en el index\n",
    "    ultimo_df['CH04'].loc[X_train.index].to_frame(),\n",
    "    educ.loc[X_train.index],\n",
    "    edad2.loc[X_train.index],\n",
    "    edad.loc[X_train.index]\n",
    "], axis=1)"
   ]
  },
  {
   "cell_type": "code",
   "execution_count": 65,
   "metadata": {
    "colab": {
     "base_uri": "https://localhost:8080/"
    },
    "id": "KYllBMjc-x9w",
    "outputId": "8b245e77-ebd5-42e9-b364-33a402fbedf4"
   },
   "outputs": [
    {
     "name": "stdout",
     "output_type": "stream",
     "text": [
      "                            OLS Regression Results                            \n",
      "==============================================================================\n",
      "Dep. Variable:                    P21   R-squared:                       0.073\n",
      "Model:                            OLS   Adj. R-squared:                  0.070\n",
      "Method:                 Least Squares   F-statistic:                     25.17\n",
      "Date:                Sat, 31 May 2025   Prob (F-statistic):           1.13e-37\n",
      "Time:                        18:54:16   Log-Likelihood:                -39787.\n",
      "No. Observations:                2567   AIC:                         7.959e+04\n",
      "Df Residuals:                    2558   BIC:                         7.964e+04\n",
      "Df Model:                           8                                         \n",
      "Covariance Type:            nonrobust                                         \n",
      "==============================================================================\n",
      "                 coef    std err          t      P>|t|      [0.025      0.975]\n",
      "------------------------------------------------------------------------------\n",
      "const      -6.467e+07   5.42e+06    -11.937      0.000   -7.53e+07    -5.4e+07\n",
      "CH09         2.11e+05   2.34e+05      0.901      0.368   -2.48e+05     6.7e+05\n",
      "CH07       -2.238e+04   1.72e+04     -1.300      0.194   -5.61e+04    1.14e+04\n",
      "CH04       -1.704e+05    5.3e+04     -3.214      0.001   -2.74e+05   -6.65e+04\n",
      "CH12        2.007e+04   6281.029      3.196      0.001    7757.648    3.24e+04\n",
      "CH13        1.051e-07   8.82e-09     11.916      0.000    8.78e-08    1.22e-07\n",
      "CH14       -1317.8459   3747.893     -0.352      0.725   -8667.059    6031.367\n",
      "CH06         970.1929   1036.546      0.936      0.349   -1062.362    3002.748\n",
      "ESTADO     -1.618e+05   6.27e+04     -2.580      0.010   -2.85e+05   -3.88e+04\n",
      "ANO4        3.226e+04   2703.031     11.936      0.000     2.7e+04    3.76e+04\n",
      "CH06         970.1929   1036.546      0.936      0.349   -1062.362    3002.748\n",
      "==============================================================================\n",
      "Omnibus:                     2573.889   Durbin-Watson:                   2.006\n",
      "Prob(Omnibus):                  0.000   Jarque-Bera (JB):           174904.582\n",
      "Skew:                           4.792   Prob(JB):                         0.00\n",
      "Kurtosis:                      42.286   Cond. No.                     2.31e+20\n",
      "==============================================================================\n",
      "\n",
      "Notes:\n",
      "[1] Standard Errors assume that the covariance matrix of the errors is correctly specified.\n",
      "[2] The smallest eigenvalue is 1.96e-31. This might indicate that there are\n",
      "strong multicollinearity problems or that the design matrix is singular.\n"
     ]
    }
   ],
   "source": [
    "#Aplicamos la Regresión lineal\n",
    "model= sm.OLS(y1, X6)\n",
    "\n",
    "# Agregamos constante a X1\n",
    "X6_const = sm.add_constant(X6)\n",
    "\n",
    "# Ajustamos el modelo OLS\n",
    "model = sm.OLS(y1, X6_const).fit()\n",
    "\n",
    "# Mostramos el resumen\n",
    "print(model.summary())"
   ]
  },
  {
   "cell_type": "markdown",
   "metadata": {
    "id": "CTYyyEFYfVWo"
   },
   "source": [
    "![punto 2.PNG](data:image/png;base64,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)"
   ]
  },
  {
   "cell_type": "markdown",
   "metadata": {
    "id": "S8qxsEgofaDg"
   },
   "source": [
    "#3.\n",
    "Enfoque de Validación: Ahora para cada modelo estime el salario\n",
    "predicho de testeo (salario_semanal_test sombrerito) usando las\n",
    "observaciones separadas de testeo y los coeficientes estimados en el\n",
    "apartado anterior. Reporte y comente las siguientes métricas de testo\n",
    "para cada modelo:"
   ]
  },
  {
   "cell_type": "code",
   "execution_count": 69,
   "metadata": {
    "colab": {
     "base_uri": "https://localhost:8080/"
    },
    "id": "M4bgNuUwfl3-",
    "outputId": "91d21713-b7ca-49b0-95f2-8dccd3484253"
   },
   "outputs": [
    {
     "name": "stdout",
     "output_type": "stream",
     "text": [
      "RMSE (test): 1271936.9382751521\n",
      "MAE (test): 703918.7675682709\n",
      "MSE (test): 1617823574948.7683\n"
     ]
    }
   ],
   "source": [
    "#MODELO 1\n",
    "X1t = edad.loc[X_test.index]\n",
    "y1t = salario_semanal.loc[y_test.index]\n",
    "\n",
    "lreg = LinearRegression()\n",
    "\n",
    "lreg.fit(X1t,y1t)\n",
    "y1t_pred_lreg=lreg.predict(X1t)\n",
    "ecm_lreg = mean_squared_error(y1t, y1t_pred_lreg)\n",
    "rmse = np.sqrt(mean_squared_error(y1t, y1t_pred_lreg))\n",
    "print('RMSE (test):', rmse)\n",
    "mae = mean_absolute_error(y1t, y1t_pred_lreg)\n",
    "print('MAE (test):', mae)\n",
    "print('MSE (test):', ecm_lreg)\n"
   ]
  },
  {
   "cell_type": "code",
   "execution_count": 71,
   "metadata": {
    "colab": {
     "base_uri": "https://localhost:8080/"
    },
    "id": "GcCXwensRAV5",
    "outputId": "de655da3-0db6-4ae9-d7de-24ba6283d10b"
   },
   "outputs": [
    {
     "name": "stdout",
     "output_type": "stream",
     "text": [
      "RMSE (test): 1227201.5632136017\n",
      "MAE (test): 657471.7044227304\n",
      "MSE (test): 1506023676753.9075\n"
     ]
    }
   ],
   "source": [
    "#MODELO 2\n",
    "X2t = pd.concat([edad2.loc[X_test.index],\n",
    "                edad.loc[X_test.index]], axis=1)\n",
    "lreg.fit(X2t,y1t)\n",
    "y1t_pred_lreg=lreg.predict(X2t)\n",
    "ecm_lreg = mean_squared_error(y1t, y1t_pred_lreg)\n",
    "rmse = np.sqrt(mean_squared_error(y1t, y1t_pred_lreg))\n",
    "print('RMSE (test):', rmse)\n",
    "mae = mean_absolute_error(y1t, y1t_pred_lreg)\n",
    "print('MAE (test):', mae)\n",
    "print('MSE (test):', ecm_lreg)"
   ]
  },
  {
   "cell_type": "code",
   "execution_count": 73,
   "metadata": {
    "colab": {
     "base_uri": "https://localhost:8080/"
    },
    "id": "gMHEXpDLRAV6",
    "outputId": "bf09d96d-23fa-4f52-a3c5-e3d7b24d2612"
   },
   "outputs": [
    {
     "name": "stdout",
     "output_type": "stream",
     "text": [
      "RMSE (test): 1225855.6443011954\n",
      "MAE (test): 664552.1892692108\n",
      "MSE (test): 1502722060665.099\n"
     ]
    }
   ],
   "source": [
    "#modelo 3\n",
    "X3t = pd.concat([educ.loc[X_test.index],\n",
    "                 edad2.loc[X_test.index],\n",
    "                 edad.loc[X_test.index]], axis=1)\n",
    "\n",
    "lreg.fit(X3t,y1t)\n",
    "y1t_pred_lreg=lreg.predict(X3t)\n",
    "ecm_lreg = mean_squared_error(y1t, y1t_pred_lreg)\n",
    "rmse = np.sqrt(mean_squared_error(y1t, y1t_pred_lreg))\n",
    "mae = mean_absolute_error(y1t, y1t_pred_lreg)\n",
    "print('RMSE (test):', rmse)\n",
    "print('MAE (test):', mae)\n",
    "print('MSE (test):', ecm_lreg)"
   ]
  },
  {
   "cell_type": "code",
   "execution_count": 75,
   "metadata": {
    "colab": {
     "base_uri": "https://localhost:8080/"
    },
    "id": "3GzlLqUBRAV6",
    "outputId": "f2f2d1af-989f-4796-dc5a-76c1bd07fd6e"
   },
   "outputs": [
    {
     "name": "stdout",
     "output_type": "stream",
     "text": [
      "RMSE (test): 1222856.9389583778\n",
      "MAE (test): 675634.2862115762\n",
      "MSE (test): 1495379093158.6538\n"
     ]
    }
   ],
   "source": [
    "#modelo 4\n",
    "X4t = pd.concat([ultimo_df['CH04'].loc[X_test.index].to_frame(),\n",
    "                educ.loc[X_test.index],\n",
    "                edad2.loc[X_test.index],\n",
    "                edad.loc[X_test.index]],axis=1)\n",
    "\n",
    "lreg.fit(X4t,y1t)\n",
    "y1t_pred_lreg=lreg.predict(X4t)\n",
    "ecm_lreg = mean_squared_error(y1t, y1t_pred_lreg)\n",
    "rmse = np.sqrt(mean_squared_error(y1t, y1t_pred_lreg))\n",
    "mae = mean_absolute_error(y1t, y1t_pred_lreg)\n",
    "print('RMSE (test):', rmse)\n",
    "print('MAE (test):', mae)\n",
    "print('MSE (test):', ecm_lreg)"
   ]
  },
  {
   "cell_type": "code",
   "execution_count": 77,
   "metadata": {
    "colab": {
     "base_uri": "https://localhost:8080/"
    },
    "id": "bUoJGRN4RAV7",
    "outputId": "90650ff5-2ccc-4aa8-b209-7a4a8ad733d3"
   },
   "outputs": [
    {
     "name": "stdout",
     "output_type": "stream",
     "text": [
      "RMSE (test): 1219691.927118772\n",
      "MAE (test): 680804.3373635283\n",
      "MSE (test): 1487648397078.7036\n"
     ]
    }
   ],
   "source": [
    "#MODELO 5\n",
    "X5t = pd.concat([\n",
    "    alfabeto.loc[X_test.index],\n",
    "    estado_civil.loc[X_test.index],\n",
    "    #Usamos.to_frame para poder meterlo en el index\n",
    "    ultimo_df['CH04'].loc[X_test.index].to_frame(),\n",
    "    educ.loc[X_test.index],\n",
    "    edad2.loc[X_test.index],\n",
    "    edad.loc[X_test.index]\n",
    "], axis=1)\n",
    "\n",
    "lreg.fit(X5t,y1t)\n",
    "y1t_pred_lreg=lreg.predict(X5t)\n",
    "ecm_lreg = mean_squared_error(y1t, y1t_pred_lreg)\n",
    "rmse = np.sqrt(mean_squared_error(y1t, y1t_pred_lreg))\n",
    "mae = mean_absolute_error(y1t, y1t_pred_lreg)\n",
    "print('RMSE (test):', rmse)\n",
    "print('MAE (test):', mae)\n",
    "print('MSE (test):', ecm_lreg)"
   ]
  },
  {
   "cell_type": "markdown",
   "metadata": {
    "id": "mhsD6iJhWYbI"
   },
   "source": [
    "![image.png](data:image/png;base64,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)"
   ]
  },
  {
   "cell_type": "markdown",
   "metadata": {
    "id": "BBkW97b-f1O-"
   },
   "source": [
    "#4.\n",
    "Opcional: Para el modelo de mejor performance, ilustre la predicción\n",
    "de salarios (salario_semanal_hat_test) en un grafico de dispersión con\n",
    "salario_semanal en el eje vertical y edad en el eje horizontal usando la\n",
    "base de testeo. Comente brevemente el gráfico.\n"
   ]
  },
  {
   "cell_type": "code",
   "execution_count": null,
   "metadata": {
    "id": "0kBgVa9sf7D-"
   },
   "outputs": [],
   "source": []
  },
  {
   "cell_type": "markdown",
   "metadata": {
    "id": "YRFeW0Zgf749"
   },
   "source": [
    "#C.\n",
    "Métodos de Clasificación y Performance"
   ]
  },
  {
   "cell_type": "markdown",
   "metadata": {
    "id": "qThn1-VdgCzN"
   },
   "source": [
    "#5.\n",
    "Implementen los métodos de regresión logistica (logit) y vecinos\n",
    "cercanos (KNN) con K=5 usando en la base de entrenamiento. Luego,\n",
    "usando la base de testeo, reporte la matriz de confusión para p>0.5, la\n",
    "curva ROC, los valores de AUC y de Accuracy de testeo de cada uno.\n",
    "¿Cuál de los métodos predice mejor en cada año? Justifiquen\n",
    "detalladamente utilizando las medidas de perfomance mencionadas\n",
    "arribas."
   ]
  },
  {
   "cell_type": "code",
   "execution_count": 84,
   "metadata": {
    "colab": {
     "base_uri": "https://localhost:8080/",
     "height": 754
    },
    "id": "7t5CoeLthgvw",
    "outputId": "d1a9934e-1948-4fca-e829-82c6b47fd9f3"
   },
   "outputs": [
    {
     "data": {
      "image/png": "[encoded data removed]",
      "text/plain": [
       "<Figure size 1000x800 with 2 Axes>"
      ]
     },
     "metadata": {},
     "output_type": "display_data"
    }
   ],
   "source": [
    "#Con esta matriz de correlacion hayamos la variable que nos daba problemas para la prediccion?\n",
    "correlation_matrix = X_train.corr()\n",
    "\n",
    "plt.figure(figsize=(10, 8))\n",
    "sns.heatmap(correlation_matrix, annot=True, cmap='coolwarm', fmt=\".2f\")\n",
    "plt.title(\"Matriz de Correlación - Datos de Entrenamiento\")\n",
    "plt.show()"
   ]
  },
  {
   "cell_type": "code",
   "execution_count": 85,
   "metadata": {
    "colab": {
     "base_uri": "https://localhost:8080/"
    },
    "id": "SZ1Tdagam2b_",
    "outputId": "729558da-be7d-478e-d00b-95aec0d56bef"
   },
   "outputs": [
    {
     "name": "stdout",
     "output_type": "stream",
     "text": [
      "Columnas en X: Index(['ANO4', 'CH04', 'CH06', 'CH07', 'CH09', 'CH12', 'CH13', 'CH14',\n",
      "       'ESTADO', 'PP3E_TOT', 'PP3F_TOT', 'label'],\n",
      "      dtype='object')\n",
      "'P21' en X False\n"
     ]
    }
   ],
   "source": [
    "#Hacemos un segundo check para confirmar las sospechas aunque en la version final figura como false\n",
    "print(\"Columnas en X:\", X.columns)\n",
    "print(\"'P21' en X\", 'P21' in X.columns)"
   ]
  },
  {
   "cell_type": "code",
   "execution_count": 86,
   "metadata": {
    "colab": {
     "base_uri": "https://localhost:8080/"
    },
    "id": "rjhcv9W68WP9",
    "outputId": "b777f83f-c585-4334-fa50-23682c9e75b3"
   },
   "outputs": [
    {
     "name": "stderr",
     "output_type": "stream",
     "text": [
      "C:\\Users\\Usuario\\anaconda3\\Lib\\site-packages\\sklearn\\linear_model\\_logistic.py:469: ConvergenceWarning: lbfgs failed to converge (status=1):\n",
      "STOP: TOTAL NO. of ITERATIONS REACHED LIMIT.\n",
      "\n",
      "Increase the number of iterations (max_iter) or scale the data as shown in:\n",
      "    https://scikit-learn.org/stable/modules/preprocessing.html\n",
      "Please also refer to the documentation for alternative solver options:\n",
      "    https://scikit-learn.org/stable/modules/linear_model.html#logistic-regression\n",
      "  n_iter_i = _check_optimize_result(\n"
     ]
    }
   ],
   "source": [
    "#Aplicamos el metodo de regresion lineal\n",
    "log_reg = LogisticRegression(penalty=None).fit(X_train, y_train)\n",
    "\n",
    "#Tratamos de predecir p sombrero con nuestros datos\n",
    "y_train_pred_score = log_reg.predict_proba(X_train)[:,1]\n",
    "y_train_pred = log_reg.predict(X_train)"
   ]
  },
  {
   "cell_type": "code",
   "execution_count": 89,
   "metadata": {
    "colab": {
     "base_uri": "https://localhost:8080/"
    },
    "id": "U0NB4xGPOuAb",
    "outputId": "e6dae9d4-1a16-4f8a-a633-a1a37cc7ab17"
   },
   "outputs": [
    {
     "name": "stdout",
     "output_type": "stream",
     "text": [
      "(2432, 13)\n",
      "(2432,)\n"
     ]
    }
   ],
   "source": [
    "print(X_train.shape)\n",
    "print(y_train.shape)"
   ]
  },
  {
   "cell_type": "code",
   "execution_count": 90,
   "metadata": {
    "colab": {
     "base_uri": "https://localhost:8080/"
    },
    "id": "1lPIZKQk9a1u",
    "outputId": "78ac6b1e-6ad2-4de4-af77-49cd3b911192"
   },
   "outputs": [
    {
     "name": "stdout",
     "output_type": "stream",
     "text": [
      "Accuracy Test: 0.129523\n",
      "Recall Test: 0.006647\n"
     ]
    }
   ],
   "source": [
    "#Miramos que tan cercano es nuestro modelo a el valor real\n",
    "accuracy = accuracy_score(y_train, y_train_pred)\n",
    "print('Accuracy Test: %f' % accuracy)\n",
    "\n",
    "#Para hacer el recall usamos average por la cantidad de clases que tenemos, usamos macro para que calcule el recall para cada clase y lo promedie\n",
    "recall = recall_score(y_train, y_train_pred, average='macro')\n",
    "print('Recall Test: %f' % recall)"
   ]
  },
  {
   "cell_type": "code",
   "execution_count": 91,
   "metadata": {
    "colab": {
     "base_uri": "https://localhost:8080/",
     "height": 81
    },
    "id": "Ll88BViXgItt",
    "outputId": "7d8eba55-a32f-47b3-c4a0-781592fe49e2"
   },
   "outputs": [
    {
     "data": {
      "text/html": [
       "<style>#sk-container-id-1 {\n",
       "  /* Definition of color scheme common for light and dark mode */\n",
       "  --sklearn-color-text: black;\n",
       "  --sklearn-color-line: gray;\n",
       "  /* Definition of color scheme for unfitted estimators */\n",
       "  --sklearn-color-unfitted-level-0: #fff5e6;\n",
       "  --sklearn-color-unfitted-level-1: #f6e4d2;\n",
       "  --sklearn-color-unfitted-level-2: #ffe0b3;\n",
       "  --sklearn-color-unfitted-level-3: chocolate;\n",
       "  /* Definition of color scheme for fitted estimators */\n",
       "  --sklearn-color-fitted-level-0: #f0f8ff;\n",
       "  --sklearn-color-fitted-level-1: #d4ebff;\n",
       "  --sklearn-color-fitted-level-2: #b3dbfd;\n",
       "  --sklearn-color-fitted-level-3: cornflowerblue;\n",
       "\n",
       "  /* Specific color for light theme */\n",
       "  --sklearn-color-text-on-default-background: var(--sg-text-color, var(--theme-code-foreground, var(--jp-content-font-color1, black)));\n",
       "  --sklearn-color-background: var(--sg-background-color, var(--theme-background, var(--jp-layout-color0, white)));\n",
       "  --sklearn-color-border-box: var(--sg-text-color, var(--theme-code-foreground, var(--jp-content-font-color1, black)));\n",
       "  --sklearn-color-icon: #696969;\n",
       "\n",
       "  @media (prefers-color-scheme: dark) {\n",
       "    /* Redefinition of color scheme for dark theme */\n",
       "    --sklearn-color-text-on-default-background: var(--sg-text-color, var(--theme-code-foreground, var(--jp-content-font-color1, white)));\n",
       "    --sklearn-color-background: var(--sg-background-color, var(--theme-background, var(--jp-layout-color0, #111)));\n",
       "    --sklearn-color-border-box: var(--sg-text-color, var(--theme-code-foreground, var(--jp-content-font-color1, white)));\n",
       "    --sklearn-color-icon: #878787;\n",
       "  }\n",
       "}\n",
       "\n",
       "#sk-container-id-1 {\n",
       "  color: var(--sklearn-color-text);\n",
       "}\n",
       "\n",
       "#sk-container-id-1 pre {\n",
       "  padding: 0;\n",
       "}\n",
       "\n",
       "#sk-container-id-1 input.sk-hidden--visually {\n",
       "  border: 0;\n",
       "  clip: rect(1px 1px 1px 1px);\n",
       "  clip: rect(1px, 1px, 1px, 1px);\n",
       "  height: 1px;\n",
       "  margin: -1px;\n",
       "  overflow: hidden;\n",
       "  padding: 0;\n",
       "  position: absolute;\n",
       "  width: 1px;\n",
       "}\n",
       "\n",
       "#sk-container-id-1 div.sk-dashed-wrapped {\n",
       "  border: 1px dashed var(--sklearn-color-line);\n",
       "  margin: 0 0.4em 0.5em 0.4em;\n",
       "  box-sizing: border-box;\n",
       "  padding-bottom: 0.4em;\n",
       "  background-color: var(--sklearn-color-background);\n",
       "}\n",
       "\n",
       "#sk-container-id-1 div.sk-container {\n",
       "  /* jupyter's `normalize.less` sets `[hidden] { display: none; }`\n",
       "     but bootstrap.min.css set `[hidden] { display: none !important; }`\n",
       "     so we also need the `!important` here to be able to override the\n",
       "     default hidden behavior on the sphinx rendered scikit-learn.org.\n",
       "     See: https://github.com/scikit-learn/scikit-learn/issues/21755 */\n",
       "  display: inline-block !important;\n",
       "  position: relative;\n",
       "}\n",
       "\n",
       "#sk-container-id-1 div.sk-text-repr-fallback {\n",
       "  display: none;\n",
       "}\n",
       "\n",
       "div.sk-parallel-item,\n",
       "div.sk-serial,\n",
       "div.sk-item {\n",
       "  /* draw centered vertical line to link estimators */\n",
       "  background-image: linear-gradient(var(--sklearn-color-text-on-default-background), var(--sklearn-color-text-on-default-background));\n",
       "  background-size: 2px 100%;\n",
       "  background-repeat: no-repeat;\n",
       "  background-position: center center;\n",
       "}\n",
       "\n",
       "/* Parallel-specific style estimator block */\n",
       "\n",
       "#sk-container-id-1 div.sk-parallel-item::after {\n",
       "  content: \"\";\n",
       "  width: 100%;\n",
       "  border-bottom: 2px solid var(--sklearn-color-text-on-default-background);\n",
       "  flex-grow: 1;\n",
       "}\n",
       "\n",
       "#sk-container-id-1 div.sk-parallel {\n",
       "  display: flex;\n",
       "  align-items: stretch;\n",
       "  justify-content: center;\n",
       "  background-color: var(--sklearn-color-background);\n",
       "  position: relative;\n",
       "}\n",
       "\n",
       "#sk-container-id-1 div.sk-parallel-item {\n",
       "  display: flex;\n",
       "  flex-direction: column;\n",
       "}\n",
       "\n",
       "#sk-container-id-1 div.sk-parallel-item:first-child::after {\n",
       "  align-self: flex-end;\n",
       "  width: 50%;\n",
       "}\n",
       "\n",
       "#sk-container-id-1 div.sk-parallel-item:last-child::after {\n",
       "  align-self: flex-start;\n",
       "  width: 50%;\n",
       "}\n",
       "\n",
       "#sk-container-id-1 div.sk-parallel-item:only-child::after {\n",
       "  width: 0;\n",
       "}\n",
       "\n",
       "/* Serial-specific style estimator block */\n",
       "\n",
       "#sk-container-id-1 div.sk-serial {\n",
       "  display: flex;\n",
       "  flex-direction: column;\n",
       "  align-items: center;\n",
       "  background-color: var(--sklearn-color-background);\n",
       "  padding-right: 1em;\n",
       "  padding-left: 1em;\n",
       "}\n",
       "\n",
       "\n",
       "/* Toggleable style: style used for estimator/Pipeline/ColumnTransformer box that is\n",
       "clickable and can be expanded/collapsed.\n",
       "- Pipeline and ColumnTransformer use this feature and define the default style\n",
       "- Estimators will overwrite some part of the style using the `sk-estimator` class\n",
       "*/\n",
       "\n",
       "/* Pipeline and ColumnTransformer style (default) */\n",
       "\n",
       "#sk-container-id-1 div.sk-toggleable {\n",
       "  /* Default theme specific background. It is overwritten whether we have a\n",
       "  specific estimator or a Pipeline/ColumnTransformer */\n",
       "  background-color: var(--sklearn-color-background);\n",
       "}\n",
       "\n",
       "/* Toggleable label */\n",
       "#sk-container-id-1 label.sk-toggleable__label {\n",
       "  cursor: pointer;\n",
       "  display: block;\n",
       "  width: 100%;\n",
       "  margin-bottom: 0;\n",
       "  padding: 0.5em;\n",
       "  box-sizing: border-box;\n",
       "  text-align: center;\n",
       "}\n",
       "\n",
       "#sk-container-id-1 label.sk-toggleable__label-arrow:before {\n",
       "  /* Arrow on the left of the label */\n",
       "  content: \"▸\";\n",
       "  float: left;\n",
       "  margin-right: 0.25em;\n",
       "  color: var(--sklearn-color-icon);\n",
       "}\n",
       "\n",
       "#sk-container-id-1 label.sk-toggleable__label-arrow:hover:before {\n",
       "  color: var(--sklearn-color-text);\n",
       "}\n",
       "\n",
       "/* Toggleable content - dropdown */\n",
       "\n",
       "#sk-container-id-1 div.sk-toggleable__content {\n",
       "  max-height: 0;\n",
       "  max-width: 0;\n",
       "  overflow: hidden;\n",
       "  text-align: left;\n",
       "  /* unfitted */\n",
       "  background-color: var(--sklearn-color-unfitted-level-0);\n",
       "}\n",
       "\n",
       "#sk-container-id-1 div.sk-toggleable__content.fitted {\n",
       "  /* fitted */\n",
       "  background-color: var(--sklearn-color-fitted-level-0);\n",
       "}\n",
       "\n",
       "#sk-container-id-1 div.sk-toggleable__content pre {\n",
       "  margin: 0.2em;\n",
       "  border-radius: 0.25em;\n",
       "  color: var(--sklearn-color-text);\n",
       "  /* unfitted */\n",
       "  background-color: var(--sklearn-color-unfitted-level-0);\n",
       "}\n",
       "\n",
       "#sk-container-id-1 div.sk-toggleable__content.fitted pre {\n",
       "  /* unfitted */\n",
       "  background-color: var(--sklearn-color-fitted-level-0);\n",
       "}\n",
       "\n",
       "#sk-container-id-1 input.sk-toggleable__control:checked~div.sk-toggleable__content {\n",
       "  /* Expand drop-down */\n",
       "  max-height: 200px;\n",
       "  max-width: 100%;\n",
       "  overflow: auto;\n",
       "}\n",
       "\n",
       "#sk-container-id-1 input.sk-toggleable__control:checked~label.sk-toggleable__label-arrow:before {\n",
       "  content: \"▾\";\n",
       "}\n",
       "\n",
       "/* Pipeline/ColumnTransformer-specific style */\n",
       "\n",
       "#sk-container-id-1 div.sk-label input.sk-toggleable__control:checked~label.sk-toggleable__label {\n",
       "  color: var(--sklearn-color-text);\n",
       "  background-color: var(--sklearn-color-unfitted-level-2);\n",
       "}\n",
       "\n",
       "#sk-container-id-1 div.sk-label.fitted input.sk-toggleable__control:checked~label.sk-toggleable__label {\n",
       "  background-color: var(--sklearn-color-fitted-level-2);\n",
       "}\n",
       "\n",
       "/* Estimator-specific style */\n",
       "\n",
       "/* Colorize estimator box */\n",
       "#sk-container-id-1 div.sk-estimator input.sk-toggleable__control:checked~label.sk-toggleable__label {\n",
       "  /* unfitted */\n",
       "  background-color: var(--sklearn-color-unfitted-level-2);\n",
       "}\n",
       "\n",
       "#sk-container-id-1 div.sk-estimator.fitted input.sk-toggleable__control:checked~label.sk-toggleable__label {\n",
       "  /* fitted */\n",
       "  background-color: var(--sklearn-color-fitted-level-2);\n",
       "}\n",
       "\n",
       "#sk-container-id-1 div.sk-label label.sk-toggleable__label,\n",
       "#sk-container-id-1 div.sk-label label {\n",
       "  /* The background is the default theme color */\n",
       "  color: var(--sklearn-color-text-on-default-background);\n",
       "}\n",
       "\n",
       "/* On hover, darken the color of the background */\n",
       "#sk-container-id-1 div.sk-label:hover label.sk-toggleable__label {\n",
       "  color: var(--sklearn-color-text);\n",
       "  background-color: var(--sklearn-color-unfitted-level-2);\n",
       "}\n",
       "\n",
       "/* Label box, darken color on hover, fitted */\n",
       "#sk-container-id-1 div.sk-label.fitted:hover label.sk-toggleable__label.fitted {\n",
       "  color: var(--sklearn-color-text);\n",
       "  background-color: var(--sklearn-color-fitted-level-2);\n",
       "}\n",
       "\n",
       "/* Estimator label */\n",
       "\n",
       "#sk-container-id-1 div.sk-label label {\n",
       "  font-family: monospace;\n",
       "  font-weight: bold;\n",
       "  display: inline-block;\n",
       "  line-height: 1.2em;\n",
       "}\n",
       "\n",
       "#sk-container-id-1 div.sk-label-container {\n",
       "  text-align: center;\n",
       "}\n",
       "\n",
       "/* Estimator-specific */\n",
       "#sk-container-id-1 div.sk-estimator {\n",
       "  font-family: monospace;\n",
       "  border: 1px dotted var(--sklearn-color-border-box);\n",
       "  border-radius: 0.25em;\n",
       "  box-sizing: border-box;\n",
       "  margin-bottom: 0.5em;\n",
       "  /* unfitted */\n",
       "  background-color: var(--sklearn-color-unfitted-level-0);\n",
       "}\n",
       "\n",
       "#sk-container-id-1 div.sk-estimator.fitted {\n",
       "  /* fitted */\n",
       "  background-color: var(--sklearn-color-fitted-level-0);\n",
       "}\n",
       "\n",
       "/* on hover */\n",
       "#sk-container-id-1 div.sk-estimator:hover {\n",
       "  /* unfitted */\n",
       "  background-color: var(--sklearn-color-unfitted-level-2);\n",
       "}\n",
       "\n",
       "#sk-container-id-1 div.sk-estimator.fitted:hover {\n",
       "  /* fitted */\n",
       "  background-color: var(--sklearn-color-fitted-level-2);\n",
       "}\n",
       "\n",
       "/* Specification for estimator info (e.g. \"i\" and \"?\") */\n",
       "\n",
       "/* Common style for \"i\" and \"?\" */\n",
       "\n",
       ".sk-estimator-doc-link,\n",
       "a:link.sk-estimator-doc-link,\n",
       "a:visited.sk-estimator-doc-link {\n",
       "  float: right;\n",
       "  font-size: smaller;\n",
       "  line-height: 1em;\n",
       "  font-family: monospace;\n",
       "  background-color: var(--sklearn-color-background);\n",
       "  border-radius: 1em;\n",
       "  height: 1em;\n",
       "  width: 1em;\n",
       "  text-decoration: none !important;\n",
       "  margin-left: 1ex;\n",
       "  /* unfitted */\n",
       "  border: var(--sklearn-color-unfitted-level-1) 1pt solid;\n",
       "  color: var(--sklearn-color-unfitted-level-1);\n",
       "}\n",
       "\n",
       ".sk-estimator-doc-link.fitted,\n",
       "a:link.sk-estimator-doc-link.fitted,\n",
       "a:visited.sk-estimator-doc-link.fitted {\n",
       "  /* fitted */\n",
       "  border: var(--sklearn-color-fitted-level-1) 1pt solid;\n",
       "  color: var(--sklearn-color-fitted-level-1);\n",
       "}\n",
       "\n",
       "/* On hover */\n",
       "div.sk-estimator:hover .sk-estimator-doc-link:hover,\n",
       ".sk-estimator-doc-link:hover,\n",
       "div.sk-label-container:hover .sk-estimator-doc-link:hover,\n",
       ".sk-estimator-doc-link:hover {\n",
       "  /* unfitted */\n",
       "  background-color: var(--sklearn-color-unfitted-level-3);\n",
       "  color: var(--sklearn-color-background);\n",
       "  text-decoration: none;\n",
       "}\n",
       "\n",
       "div.sk-estimator.fitted:hover .sk-estimator-doc-link.fitted:hover,\n",
       ".sk-estimator-doc-link.fitted:hover,\n",
       "div.sk-label-container:hover .sk-estimator-doc-link.fitted:hover,\n",
       ".sk-estimator-doc-link.fitted:hover {\n",
       "  /* fitted */\n",
       "  background-color: var(--sklearn-color-fitted-level-3);\n",
       "  color: var(--sklearn-color-background);\n",
       "  text-decoration: none;\n",
       "}\n",
       "\n",
       "/* Span, style for the box shown on hovering the info icon */\n",
       ".sk-estimator-doc-link span {\n",
       "  display: none;\n",
       "  z-index: 9999;\n",
       "  position: relative;\n",
       "  font-weight: normal;\n",
       "  right: .2ex;\n",
       "  padding: .5ex;\n",
       "  margin: .5ex;\n",
       "  width: min-content;\n",
       "  min-width: 20ex;\n",
       "  max-width: 50ex;\n",
       "  color: var(--sklearn-color-text);\n",
       "  box-shadow: 2pt 2pt 4pt #999;\n",
       "  /* unfitted */\n",
       "  background: var(--sklearn-color-unfitted-level-0);\n",
       "  border: .5pt solid var(--sklearn-color-unfitted-level-3);\n",
       "}\n",
       "\n",
       ".sk-estimator-doc-link.fitted span {\n",
       "  /* fitted */\n",
       "  background: var(--sklearn-color-fitted-level-0);\n",
       "  border: var(--sklearn-color-fitted-level-3);\n",
       "}\n",
       "\n",
       ".sk-estimator-doc-link:hover span {\n",
       "  display: block;\n",
       "}\n",
       "\n",
       "/* \"?\"-specific style due to the `<a>` HTML tag */\n",
       "\n",
       "#sk-container-id-1 a.estimator_doc_link {\n",
       "  float: right;\n",
       "  font-size: 1rem;\n",
       "  line-height: 1em;\n",
       "  font-family: monospace;\n",
       "  background-color: var(--sklearn-color-background);\n",
       "  border-radius: 1rem;\n",
       "  height: 1rem;\n",
       "  width: 1rem;\n",
       "  text-decoration: none;\n",
       "  /* unfitted */\n",
       "  color: var(--sklearn-color-unfitted-level-1);\n",
       "  border: var(--sklearn-color-unfitted-level-1) 1pt solid;\n",
       "}\n",
       "\n",
       "#sk-container-id-1 a.estimator_doc_link.fitted {\n",
       "  /* fitted */\n",
       "  border: var(--sklearn-color-fitted-level-1) 1pt solid;\n",
       "  color: var(--sklearn-color-fitted-level-1);\n",
       "}\n",
       "\n",
       "/* On hover */\n",
       "#sk-container-id-1 a.estimator_doc_link:hover {\n",
       "  /* unfitted */\n",
       "  background-color: var(--sklearn-color-unfitted-level-3);\n",
       "  color: var(--sklearn-color-background);\n",
       "  text-decoration: none;\n",
       "}\n",
       "\n",
       "#sk-container-id-1 a.estimator_doc_link.fitted:hover {\n",
       "  /* fitted */\n",
       "  background-color: var(--sklearn-color-fitted-level-3);\n",
       "}\n",
       "</style><div id=\"sk-container-id-1\" class=\"sk-top-container\"><div class=\"sk-text-repr-fallback\"><pre>KNeighborsClassifier()</pre><b>In a Jupyter environment, please rerun this cell to show the HTML representation or trust the notebook. <br />On GitHub, the HTML representation is unable to render, please try loading this page with nbviewer.org.</b></div><div class=\"sk-container\" hidden><div class=\"sk-item\"><div class=\"sk-estimator fitted sk-toggleable\"><input class=\"sk-toggleable__control sk-hidden--visually\" id=\"sk-estimator-id-1\" type=\"checkbox\" checked><label for=\"sk-estimator-id-1\" class=\"sk-toggleable__label fitted sk-toggleable__label-arrow fitted\">&nbsp;&nbsp;KNeighborsClassifier<a class=\"sk-estimator-doc-link fitted\" rel=\"noreferrer\" target=\"_blank\" href=\"https://scikit-learn.org/1.5/modules/generated/sklearn.neighbors.KNeighborsClassifier.html\">?<span>Documentation for KNeighborsClassifier</span></a><span class=\"sk-estimator-doc-link fitted\">i<span>Fitted</span></span></label><div class=\"sk-toggleable__content fitted\"><pre>KNeighborsClassifier()</pre></div> </div></div></div></div>"
      ],
      "text/plain": [
       "KNeighborsClassifier()"
      ]
     },
     "execution_count": 91,
     "metadata": {},
     "output_type": "execute_result"
    }
   ],
   "source": [
    "#Usamos vecinos cercanos con K=5\n",
    "knn = KNeighborsClassifier(n_neighbors=5)\n",
    "knn.fit(X_train, y_train)"
   ]
  },
  {
   "cell_type": "code",
   "execution_count": 96,
   "metadata": {
    "colab": {
     "base_uri": "https://localhost:8080/"
    },
    "id": "C-FtfHT-720M",
    "outputId": "e98ce08a-4cd4-431e-8bba-7661ecf49bd9"
   },
   "outputs": [
    {
     "name": "stdout",
     "output_type": "stream",
     "text": [
      "La exactitud del modelo es: 0.338\n"
     ]
    }
   ],
   "source": [
    "#Predecimos con vecinos cercanos la exactitud de nuestro modelo\n",
    "y_train_pred_knn = knn.predict(X_train)\n",
    "accuracy_knn = accuracy_score(y_train, y_train_pred_knn)\n",
    "print(\"La exactitud del modelo es: %.3f\" %accuracy_knn)\n"
   ]
  },
  {
   "cell_type": "code",
   "execution_count": 98,
   "metadata": {
    "colab": {
     "base_uri": "https://localhost:8080/"
    },
    "id": "gIHjBS5eCxQf",
    "outputId": "0c42d09b-318d-4efa-8d40-65df648c567f"
   },
   "outputs": [
    {
     "name": "stderr",
     "output_type": "stream",
     "text": [
      "C:\\Users\\Usuario\\anaconda3\\Lib\\site-packages\\sklearn\\linear_model\\_logistic.py:469: ConvergenceWarning: lbfgs failed to converge (status=1):\n",
      "STOP: TOTAL NO. of ITERATIONS REACHED LIMIT.\n",
      "\n",
      "Increase the number of iterations (max_iter) or scale the data as shown in:\n",
      "    https://scikit-learn.org/stable/modules/preprocessing.html\n",
      "Please also refer to the documentation for alternative solver options:\n",
      "    https://scikit-learn.org/stable/modules/linear_model.html#logistic-regression\n",
      "  n_iter_i = _check_optimize_result(\n"
     ]
    }
   ],
   "source": [
    "#Aplico la regesion logisitica para el testeo\n",
    "log_reg = LogisticRegression(penalty=None).fit(X_test, y_test)"
   ]
  },
  {
   "cell_type": "code",
   "execution_count": 100,
   "metadata": {
    "id": "y4zJl4b3B_Sf"
   },
   "outputs": [],
   "source": [
    "#Predecimos\n",
    "y_test_pred = log_reg.predict(X_test)"
   ]
  },
  {
   "cell_type": "code",
   "execution_count": 102,
   "metadata": {
    "colab": {
     "base_uri": "https://localhost:8080/"
    },
    "id": "U6vZt86vBhu4",
    "outputId": "d3690586-d8a6-45cc-da9b-9c4f419ce4b3"
   },
   "outputs": [
    {
     "name": "stdout",
     "output_type": "stream",
     "text": [
      "Matriz de confusion:\n",
      "[29 12  0 ...  0  0  0]\n",
      "Accuracy Score: 0.11505273250239693\n"
     ]
    }
   ],
   "source": [
    "#Hacemos la matriz de confusion\n",
    "matriz_confusion=confusion_matrix(y_test, y_test_pred).ravel()\n",
    "print('Matriz de confusion:')\n",
    "print(matriz_confusion)\n",
    "print('Accuracy Score:', accuracy_score(y_test, y_test_pred))"
   ]
  },
  {
   "cell_type": "code",
   "execution_count": 104,
   "metadata": {
    "colab": {
     "base_uri": "https://localhost:8080/"
    },
    "id": "T766dxjJ7xk-",
    "outputId": "d1d11d76-d227-4473-a379-68a049459c36"
   },
   "outputs": [
    {
     "name": "stdout",
     "output_type": "stream",
     "text": [
      "[[-7.34679984e-05  2.50276242e-04  2.25999693e-04 ... -5.76402873e-03\n",
      "   5.43186522e-03 -7.63195315e-04]\n",
      " [ 5.60053925e-05  4.14580358e-03 -1.99956878e-03 ... -6.45147336e-02\n",
      "  -1.19570133e-02  1.33673112e-02]\n",
      " [ 1.95442094e-06 -2.75420470e-04  2.09447794e-04 ... -9.97278994e-03\n",
      "  -4.28162642e-04 -1.34735563e-05]\n",
      " ...\n",
      " [-1.60888768e-06 -5.58485352e-04  2.06353709e-04 ...  4.78325764e-03\n",
      "  -4.31944108e-04 -1.62158127e-05]\n",
      " [-1.43105566e-06 -2.08648445e-04  2.04393585e-04 ... -1.21198559e-02\n",
      "  -4.32305024e-04 -1.71892043e-05]\n",
      " [-1.61167767e-06 -5.68945618e-04  2.05650217e-04 ... -2.85213669e-04\n",
      "  -4.32812164e-04 -1.64995411e-05]]\n",
      "[[3.58525338e-02 1.36292234e-02 8.94167318e-04 ... 1.13147379e-03\n",
      "  7.77461278e-04 1.03010141e-03]\n",
      " [9.24049393e-02 4.07956376e-02 1.39197436e-03 ... 1.03454867e-03\n",
      "  1.18987285e-03 1.23306167e-03]\n",
      " [3.67883937e-02 3.16569786e-03 7.25400607e-04 ... 1.06676421e-03\n",
      "  5.89197666e-04 9.61059496e-04]\n",
      " ...\n",
      " [1.36042684e-02 4.79377846e-01 7.39057345e-04 ... 4.45601916e-04\n",
      "  7.83947462e-04 4.87782818e-04]\n",
      " [4.56763210e-02 1.77764461e-02 9.98322620e-04 ... 1.17471937e-03\n",
      "  8.93804470e-04 1.09784742e-03]\n",
      " [9.87357658e-03 5.15582915e-01 6.64089651e-04 ... 3.94437450e-04\n",
      "  6.95935604e-04 4.31235393e-04]]\n"
     ]
    },
    {
     "name": "stderr",
     "output_type": "stream",
     "text": [
      "C:\\Users\\Usuario\\anaconda3\\Lib\\site-packages\\sklearn\\linear_model\\_logistic.py:469: ConvergenceWarning: lbfgs failed to converge (status=1):\n",
      "STOP: TOTAL NO. of ITERATIONS REACHED LIMIT.\n",
      "\n",
      "Increase the number of iterations (max_iter) or scale the data as shown in:\n",
      "    https://scikit-learn.org/stable/modules/preprocessing.html\n",
      "Please also refer to the documentation for alternative solver options:\n",
      "    https://scikit-learn.org/stable/modules/linear_model.html#logistic-regression\n",
      "  n_iter_i = _check_optimize_result(\n"
     ]
    }
   ],
   "source": [
    "# Para graficar la curva ROC lo mejor es usar la funcion LogisticRegression()\n",
    "log_reg = LogisticRegression(penalty=None).fit(X_test.astype(float), y_test.astype(float))\n",
    "\n",
    "# Estimacion de los coeficientes\n",
    "print(log_reg.coef_)\n",
    "\n",
    "# Predicciones (probabilidad) (p sobrerito)\n",
    "y_test_pred_score = log_reg.predict_proba(X_test)\n",
    "print(y_test_pred_score)"
   ]
  },
  {
   "cell_type": "code",
   "execution_count": 105,
   "metadata": {
    "colab": {
     "base_uri": "https://localhost:8080/"
    },
    "id": "GMrU7S8SFyww",
    "outputId": "ad45fcc1-bd84-491c-9821-b813609d5c4a"
   },
   "outputs": [
    {
     "name": "stderr",
     "output_type": "stream",
     "text": [
      "C:\\Users\\Usuario\\anaconda3\\Lib\\site-packages\\sklearn\\metrics\\_ranking.py:1183: UndefinedMetricWarning: No positive samples in y_true, true positive value should be meaningless\n",
      "  warnings.warn(\n"
     ]
    }
   ],
   "source": [
    "# Computamos la tasa de verdaderos positivos (tpr) y falsos positivos (tpr) para construir la curva ROC\n",
    "fpr, tpr, thresholds = roc_curve(y_test, y_test_pred_score[:, 1], pos_label=2)"
   ]
  },
  {
   "cell_type": "code",
   "execution_count": 106,
   "metadata": {
    "colab": {
     "base_uri": "https://localhost:8080/"
    },
    "id": "hDdSWdRgHBzZ",
    "outputId": "f86419f5-e7a1-434d-d538-cd9334b4d594"
   },
   "outputs": [
    {
     "name": "stdout",
     "output_type": "stream",
     "text": [
      "AUC: 0.81\n"
     ]
    }
   ],
   "source": [
    "#Calculamos el AUC\n",
    "auc = roc_auc_score(y_test, y_test_pred_score,multi_class=\"ovr\")\n",
    "print('AUC: %.2f' % auc)"
   ]
  },
  {
   "cell_type": "markdown",
   "metadata": {
    "id": "MVwmdu7PgJM8"
   },
   "source": [
    "#6.\n",
    "Con el método que seleccionaron, predigan qué personas son\n",
    "desocupadas dentro de la base norespondieron. ¿Qué proporción de\n",
    "las personas que no respondieron pudieron identificar como\n",
    "desocupadas?"
   ]
  },
  {
   "cell_type": "code",
   "execution_count": null,
   "metadata": {
    "id": "rCH4ZfDFgOJU"
   },
   "outputs": [],
   "source": []
  },
  {
   "cell_type": "code",
   "execution_count": null,
   "metadata": {},
   "outputs": [],
   "source": []
  }
 ],
 "metadata": {
  "colab": {
   "provenance": []
  },
  "kernelspec": {
   "display_name": "Python [conda env:base] *",
   "language": "python",
   "name": "conda-base-py"
  },
  "language_info": {
   "codemirror_mode": {
    "name": "ipython",
    "version": 3
   },
   "file_extension": ".py",
   "mimetype": "text/x-python",
   "name": "python",
   "nbconvert_exporter": "python",
   "pygments_lexer": "ipython3",
   "version": "3.12.7"
  }
 },
 "nbformat": 4,
 "nbformat_minor": 4
}
