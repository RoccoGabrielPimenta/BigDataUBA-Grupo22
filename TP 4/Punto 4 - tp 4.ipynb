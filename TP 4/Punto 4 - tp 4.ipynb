{
 "cells": [
  {
   "cell_type": "code",
   "execution_count": null,
   "id": "b9c58873-5b54-447b-acbb-79cc8eb2e24a",
   "metadata": {},
   "outputs": [],
   "source": [
    "import matplotlib.pyplot as plt\n",
    "import seaborn as sns \n",
    "import pandas as pd\n",
    "\n",
    "#Según la tabla del punto 3, el modelo de mejor performance es el GradientBoostingRegressor (modelo 5).\n",
    "\n",
    "#Predicción en el set de test\n",
    "y_pred = modelo_5.predict(X_test)\n",
    "\n",
    "#Creamos un dataframe para graficar\n",
    "df_plot = X_test.copy()\n",
    "df_plot['salario_semanal'] = y_test\n",
    "df_plot['salario_semanal_hat_test'] = y_pred\n",
    "\n",
    "#Gráfico de dispersión\n",
    "plt.figure(figsize=(10, 6))\n",
    "sns.scatterplot(data=df_plot, x='edad', y='salario_semanal', label='Real', alpha=0.6)\n",
    "sns.scatterplot(data=df_plot, x='edad', y='salario_semanal_hat_test', label='Predicción', alpha=0.6)\n",
    "plt.xlabel('Edad')\n",
    "plt.ylabel('Salario semanal')\n",
    "plt.title('Comparación entre salario real y predicho (Modelo 5)')\n",
    "plt.legend()\n",
    "plt.grid(True)\n",
    "plt.tight_layout()\n",
    "plt.show()"
   ]
  },
  {
   "cell_type": "code",
   "execution_count": null,
   "id": "3b249759-7e31-4f9b-880d-d8a257b325fd",
   "metadata": {},
   "outputs": [],
   "source": [
    "El gráfico de dispersión nos permite contemplar la relación existente entre la edad y el salario semanal -tanto real como predicho. En el caso de que los puntos de la predicción, salario_semanal-hat_test, se acercan a los puntos reales, salario_semanal, esto indica que el modelo halla con éxito la relación entre la edad y el salario. Por otro lado, en el caso que hayan desviaciones, éstas pueden evidenciar sesgos o limitaciones del modelo en ciertos rangos de edad. Por ejemplo, sobrepredicción en jóvenes y subpredicción en mayores. "
   ]
  },
  {
   "cell_type": "code",
   "execution_count": null,
   "id": "dda61d5a-e783-4bcb-bbed-1ef959c14048",
   "metadata": {},
   "outputs": [],
   "source": []
  }
 ],
 "metadata": {
  "kernelspec": {
   "display_name": "anaconda-panel-2023.05-py310",
   "language": "python",
   "name": "conda-env-anaconda-panel-2023.05-py310-py"
  },
  "language_info": {
   "codemirror_mode": {
    "name": "ipython",
    "version": 3
   },
   "file_extension": ".py",
   "mimetype": "text/x-python",
   "name": "python",
   "nbconvert_exporter": "python",
   "pygments_lexer": "ipython3",
   "version": "3.11.5"
  }
 },
 "nbformat": 4,
 "nbformat_minor": 5
}
