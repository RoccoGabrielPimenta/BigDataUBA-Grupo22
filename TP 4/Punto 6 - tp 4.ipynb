{
 "cells": [
  {
   "cell_type": "code",
   "execution_count": null,
   "id": "6f3a6cf1-9197-4ecb-b16e-45d119f7d343",
   "metadata": {},
   "outputs": [],
   "source": [
    "#Nos aseguramos de usar el modelo entrenado con X_train y y_train\n",
    "\n",
    "log_reg = LogisticRegression(penalty=None).fit(X_train, y_train)\n",
    "\n",
    "#Tomamos las mismas features que en el entrenamiento\n",
    "\n",
    "X_noresp = norespondieron[X_train.columns]\n",
    "\n",
    "#Predecimos la probabilidad para cada clase\n",
    "\n",
    "probas_noresp = log_reg.predict_proba(X_noresp)\n",
    "\n",
    "#Identificamos la clase con mayor probabilidad \n",
    "\n",
    "clase_predicha = np.argmax(probas_noresp, axis=1)\n",
    "\n",
    "#Agregamos la predicción al DataFrame \n",
    "\n",
    "norespondieron['pred_clase'] = clase_predicha\n",
    "\n",
    "#Asumimos que la clase 2 es \"desocupado\"\n",
    "\n",
    "proporcion_desocupados = (norespondieron['pred_clase'] == 2).mean()\n",
    "\n",
    "print(f\"Proporción de personas identificadas como desocupadas: {proporcion_desocupados:.2%}\")"
   ]
  }
 ],
 "metadata": {
  "kernelspec": {
   "display_name": "anaconda-panel-2023.05-py310",
   "language": "python",
   "name": "conda-env-anaconda-panel-2023.05-py310-py"
  },
  "language_info": {
   "codemirror_mode": {
    "name": "ipython",
    "version": 3
   },
   "file_extension": ".py",
   "mimetype": "text/x-python",
   "name": "python",
   "nbconvert_exporter": "python",
   "pygments_lexer": "ipython3",
   "version": "3.11.5"
  }
 },
 "nbformat": 4,
 "nbformat_minor": 5
}
