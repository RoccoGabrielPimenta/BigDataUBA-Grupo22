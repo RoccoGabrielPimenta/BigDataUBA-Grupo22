{
 "cells": [
  {
   "cell_type": "markdown",
   "metadata": {
    "id": "jUX-HyrDeD72"
   },
   "source": [
    "#TP 4 DE BIG DATA SOBRE MÉTODOS SUPERVISADOS: REGRESIÓN &  CLASIFICACIÓN USANDO LA EHP"
   ]
  },
  {
   "cell_type": "markdown",
   "metadata": {
    "id": "54K3GvHve5qa"
   },
   "source": [
    "#A.\n",
    "Enfoque de validación  \n",
    "Utilicen la base respondieron. Para cada año, dividan las observaciones en\n",
    "una base de prueba (test) y una de entrenamiento (train) utilizando el\n",
    "comando train_test_split. La base de entrenamiento debe comprender el\n",
    "70% de los datos, y la semilla a utilizar (random state instance) debe ser 444.\n",
    "Establezca a desocupado como su variable dependiente en la base de\n",
    "entrenamiento (vector y). El resto de las variables seleccionadas serán las\n",
    "variables independientes (matriz X). Recuerden agregar la columna de unos\n",
    "(1)."
   ]
  },
  {
   "cell_type": "code",
   "execution_count": 1,
   "metadata": {
    "colab": {
     "base_uri": "https://localhost:8080/"
    },
    "id": "kjSidCXQd_jQ",
    "outputId": "9e8ced28-d24f-4d71-e6d3-386559e5eaff"
   },
   "outputs": [
    {
     "name": "stdout",
     "output_type": "stream",
     "text": [
      "Requirement already satisfied: seaborn in c:\\users\\usuario\\anaconda3\\lib\\site-packages (0.13.2)\n",
      "Requirement already satisfied: numpy!=1.24.0,>=1.20 in c:\\users\\usuario\\anaconda3\\lib\\site-packages (from seaborn) (1.26.4)\n",
      "Requirement already satisfied: pandas>=1.2 in c:\\users\\usuario\\anaconda3\\lib\\site-packages (from seaborn) (2.2.2)\n",
      "Requirement already satisfied: matplotlib!=3.6.1,>=3.4 in c:\\users\\usuario\\anaconda3\\lib\\site-packages (from seaborn) (3.9.2)\n",
      "Requirement already satisfied: contourpy>=1.0.1 in c:\\users\\usuario\\anaconda3\\lib\\site-packages (from matplotlib!=3.6.1,>=3.4->seaborn) (1.2.0)\n",
      "Requirement already satisfied: cycler>=0.10 in c:\\users\\usuario\\anaconda3\\lib\\site-packages (from matplotlib!=3.6.1,>=3.4->seaborn) (0.11.0)\n",
      "Requirement already satisfied: fonttools>=4.22.0 in c:\\users\\usuario\\anaconda3\\lib\\site-packages (from matplotlib!=3.6.1,>=3.4->seaborn) (4.51.0)\n",
      "Requirement already satisfied: kiwisolver>=1.3.1 in c:\\users\\usuario\\anaconda3\\lib\\site-packages (from matplotlib!=3.6.1,>=3.4->seaborn) (1.4.4)\n",
      "Requirement already satisfied: packaging>=20.0 in c:\\users\\usuario\\anaconda3\\lib\\site-packages (from matplotlib!=3.6.1,>=3.4->seaborn) (24.1)\n",
      "Requirement already satisfied: pillow>=8 in c:\\users\\usuario\\anaconda3\\lib\\site-packages (from matplotlib!=3.6.1,>=3.4->seaborn) (10.4.0)\n",
      "Requirement already satisfied: pyparsing>=2.3.1 in c:\\users\\usuario\\anaconda3\\lib\\site-packages (from matplotlib!=3.6.1,>=3.4->seaborn) (3.1.2)\n",
      "Requirement already satisfied: python-dateutil>=2.7 in c:\\users\\usuario\\anaconda3\\lib\\site-packages (from matplotlib!=3.6.1,>=3.4->seaborn) (2.9.0.post0)\n",
      "Requirement already satisfied: pytz>=2020.1 in c:\\users\\usuario\\anaconda3\\lib\\site-packages (from pandas>=1.2->seaborn) (2025.2)\n",
      "Requirement already satisfied: tzdata>=2022.7 in c:\\users\\usuario\\anaconda3\\lib\\site-packages (from pandas>=1.2->seaborn) (2023.3)\n",
      "Requirement already satisfied: six>=1.5 in c:\\users\\usuario\\anaconda3\\lib\\site-packages (from python-dateutil>=2.7->matplotlib!=3.6.1,>=3.4->seaborn) (1.16.0)\n"
     ]
    }
   ],
   "source": [
    "import pandas as pd\n",
    "import numpy as np\n",
    "import os\n",
    "import random\n",
    "#Para crear datos con distribucion normal en otro modulo\n",
    "from scipy.stats import norm\n",
    "#Importo matplotlib.pyplot\n",
    "import matplotlib.pyplot as plt\n",
    "#Importamos los paquetes para usar kernels\n",
    "from sklearn.neighbors import KernelDensity\n",
    "#Instalamos seaborn\n",
    "!pip install seaborn\n",
    "import seaborn as sns\n",
    "#Importamos estos paquetes para usar kernels jerarquicos y dendogramas\n",
    "from sklearn.neighbors import KernelDensity\n",
    "from sklearn.cluster import KMeans, AgglomerativeClustering\n",
    "from sklearn.preprocessing import StandardScaler\n",
    "from scipy.cluster.hierarchy import dendrogram, linkage\n",
    "#Importamos los paquetes para testear y entrenar nuestra data,vecinos cercanos y regresión, mas unos cuantos mas que no sirven para este TP.\n",
    "from sklearn.model_selection import train_test_split\n",
    "from sklearn.neighbors import KNeighborsClassifier\n",
    "from sklearn.neighbors import KNeighborsRegressor\n",
    "from sklearn.linear_model import LinearRegression\n",
    "from sklearn.metrics import r2_score, mean_squared_error, mean_absolute_error\n",
    "from sklearn.linear_model import LogisticRegression\n",
    "from sklearn.metrics import accuracy_score, recall_score\n",
    "from sklearn.metrics import confusion_matrix\n",
    "from sklearn.metrics import roc_curve\n",
    "from sklearn.metrics import roc_auc_score\n",
    "import statsmodels.api as sm\n",
    "from sklearn.preprocessing import PolynomialFeatures\n",
    "\n",
    "#Cargamos nuestra base de datos del 2024\n",
    "url = \"https://github.com/RoccoGabrielPimenta/BigDataUBA-Grupo22/raw/refs/heads/main/TP%202/usu_individual_T124.xlsx\"\n",
    "df = pd.read_excel(url)\n",
    "df.head(5)\n",
    "pd.set_option('display.max_columns', 6)\n",
    "\n",
    "#Cargamos nuestra base de datos del 2004\n",
    "url = \"https://github.com/RoccoGabrielPimenta/BigDataUBA-Grupo22/raw/refs/heads/main/TP%202/usu_individual_t104.dta\"\n",
    "df2 = pd.read_stata(url)\n"
   ]
  },
  {
   "cell_type": "code",
   "execution_count": 3,
   "metadata": {
    "colab": {
     "base_uri": "https://localhost:8080/",
     "height": 728
    },
    "id": "SeuaSX8DGoD4",
    "outputId": "3a319adc-ed5b-413a-e1eb-411c1706da02"
   },
   "outputs": [
    {
     "name": "stderr",
     "output_type": "stream",
     "text": [
      "C:\\Users\\Usuario\\AppData\\Local\\Temp\\ipykernel_9532\\2524566275.py:21: FutureWarning: Downcasting behavior in `replace` is deprecated and will be removed in a future version. To retain the old behavior, explicitly call `result.infer_objects(copy=False)`. To opt-in to the future behavior, set `pd.set_option('future.no_silent_downcasting', True)`\n",
      "  df8[\"CH04\"] = df8[\"CH04\"].replace({'Varón':1, 'Mujer':2})\n",
      "C:\\Users\\Usuario\\AppData\\Local\\Temp\\ipykernel_9532\\2524566275.py:22: FutureWarning: Downcasting behavior in `replace` is deprecated and will be removed in a future version. To retain the old behavior, explicitly call `result.infer_objects(copy=False)`. To opt-in to the future behavior, set `pd.set_option('future.no_silent_downcasting', True)`\n",
      "  df8[\"CH06\"] = df8[\"CH06\"].replace({'Menos de 1 año':0, '98 y más años':98})\n",
      "C:\\Users\\Usuario\\AppData\\Local\\Temp\\ipykernel_9532\\2524566275.py:23: FutureWarning: Downcasting behavior in `replace` is deprecated and will be removed in a future version. To retain the old behavior, explicitly call `result.infer_objects(copy=False)`. To opt-in to the future behavior, set `pd.set_option('future.no_silent_downcasting', True)`\n",
      "  df8[\"CH07\"] = df8[\"CH07\"].replace({'Unido':1, 'Casado':2, 'Separado o divorciado':3, 'Viudo':4, 'Soltero':5})\n",
      "C:\\Users\\Usuario\\AppData\\Local\\Temp\\ipykernel_9532\\2524566275.py:25: FutureWarning: Downcasting behavior in `replace` is deprecated and will be removed in a future version. To retain the old behavior, explicitly call `result.infer_objects(copy=False)`. To opt-in to the future behavior, set `pd.set_option('future.no_silent_downcasting', True)`\n",
      "  df8['ESTADO'] = df8['ESTADO'].replace({\n",
      "C:\\Users\\Usuario\\AppData\\Local\\Temp\\ipykernel_9532\\2524566275.py:31: FutureWarning: Downcasting behavior in `replace` is deprecated and will be removed in a future version. To retain the old behavior, explicitly call `result.infer_objects(copy=False)`. To opt-in to the future behavior, set `pd.set_option('future.no_silent_downcasting', True)`\n",
      "  df8[\"CH12\"] = df8[\"CH12\"].replace({\"Jardín/Preescolar\":0, \"Primario\":6, \"EGB\":9, \"Secundario\":12, \"Polimodal\":12, \"Terciario\":18, \"Universitario\":18, \"Posgrado Universitario\":24, \"Educación especial (discapacitado)\":0})\n",
      "C:\\Users\\Usuario\\AppData\\Local\\Temp\\ipykernel_9532\\2524566275.py:32: FutureWarning: Downcasting behavior in `replace` is deprecated and will be removed in a future version. To retain the old behavior, explicitly call `result.infer_objects(copy=False)`. To opt-in to the future behavior, set `pd.set_option('future.no_silent_downcasting', True)`\n",
      "  df8[\"CH13\"] = df8[\"CH13\"].replace({\"Sí\":0, \"No\":-1, \"Ns./Nr.\":0})\n",
      "C:\\Users\\Usuario\\AppData\\Local\\Temp\\ipykernel_9532\\2524566275.py:36: FutureWarning: Downcasting behavior in `replace` is deprecated and will be removed in a future version. To retain the old behavior, explicitly call `result.infer_objects(copy=False)`. To opt-in to the future behavior, set `pd.set_option('future.no_silent_downcasting', True)`\n",
      "  df9[\"CH12\"] = df9[\"CH12\"].replace({0:0, 2:6, 3:9, 4:12, 5:12, 6:18, 7:18,8:24, 9:0})\n",
      "C:\\Users\\Usuario\\AppData\\Local\\Temp\\ipykernel_9532\\2524566275.py:37: FutureWarning: Downcasting behavior in `replace` is deprecated and will be removed in a future version. To retain the old behavior, explicitly call `result.infer_objects(copy=False)`. To opt-in to the future behavior, set `pd.set_option('future.no_silent_downcasting', True)`\n",
      "  df9[\"CH13\"] = df9[\"CH13\"].replace({0:0, 1.0:-1, 9:0})\n",
      "C:\\Users\\Usuario\\AppData\\Local\\Temp\\ipykernel_9532\\2524566275.py:38: FutureWarning: Downcasting behavior in `replace` is deprecated and will be removed in a future version. To retain the old behavior, explicitly call `result.infer_objects(copy=False)`. To opt-in to the future behavior, set `pd.set_option('future.no_silent_downcasting', True)`\n",
      "  df9[\"CH14\"] = df9[\"CH14\"].replace({0:6, 1:5, 2:4,3:3, 4:2, 5:1, 6:6, 7:7,8:8, 9:9, 98:0, 99:0})\n",
      "C:\\Users\\Usuario\\AppData\\Local\\Temp\\ipykernel_9532\\2524566275.py:43: FutureWarning: Downcasting behavior in `replace` is deprecated and will be removed in a future version. To retain the old behavior, explicitly call `result.infer_objects(copy=False)`. To opt-in to the future behavior, set `pd.set_option('future.no_silent_downcasting', True)`\n",
      "  ultimo_df = ultimo_df.replace([np.nan, -np.inf], 0)\n"
     ]
    },
    {
     "data": {
      "text/html": [
       "<div>\n",
       "<style scoped>\n",
       "    .dataframe tbody tr th:only-of-type {\n",
       "        vertical-align: middle;\n",
       "    }\n",
       "\n",
       "    .dataframe tbody tr th {\n",
       "        vertical-align: top;\n",
       "    }\n",
       "\n",
       "    .dataframe thead th {\n",
       "        text-align: right;\n",
       "    }\n",
       "</style>\n",
       "<table border=\"1\" class=\"dataframe\">\n",
       "  <thead>\n",
       "    <tr style=\"text-align: right;\">\n",
       "      <th></th>\n",
       "      <th>ANO4</th>\n",
       "      <th>CH04</th>\n",
       "      <th>CH06</th>\n",
       "      <th>...</th>\n",
       "      <th>PP3E_TOT</th>\n",
       "      <th>PP3F_TOT</th>\n",
       "      <th>P21</th>\n",
       "    </tr>\n",
       "  </thead>\n",
       "  <tbody>\n",
       "    <tr>\n",
       "      <th>42025</th>\n",
       "      <td>2004.0</td>\n",
       "      <td>1</td>\n",
       "      <td>34.0</td>\n",
       "      <td>...</td>\n",
       "      <td>36.0</td>\n",
       "      <td>0.0</td>\n",
       "      <td>1000.0</td>\n",
       "    </tr>\n",
       "    <tr>\n",
       "      <th>42026</th>\n",
       "      <td>2004.0</td>\n",
       "      <td>1</td>\n",
       "      <td>62.0</td>\n",
       "      <td>...</td>\n",
       "      <td>0.0</td>\n",
       "      <td>0.0</td>\n",
       "      <td>1200.0</td>\n",
       "    </tr>\n",
       "    <tr>\n",
       "      <th>42027</th>\n",
       "      <td>2004.0</td>\n",
       "      <td>2</td>\n",
       "      <td>58.0</td>\n",
       "      <td>...</td>\n",
       "      <td>0.0</td>\n",
       "      <td>0.0</td>\n",
       "      <td>0.0</td>\n",
       "    </tr>\n",
       "    <tr>\n",
       "      <th>42028</th>\n",
       "      <td>2004.0</td>\n",
       "      <td>1</td>\n",
       "      <td>38.0</td>\n",
       "      <td>...</td>\n",
       "      <td>48.0</td>\n",
       "      <td>0.0</td>\n",
       "      <td>1200.0</td>\n",
       "    </tr>\n",
       "    <tr>\n",
       "      <th>...</th>\n",
       "      <td>...</td>\n",
       "      <td>...</td>\n",
       "      <td>...</td>\n",
       "      <td>...</td>\n",
       "      <td>...</td>\n",
       "      <td>...</td>\n",
       "      <td>...</td>\n",
       "    </tr>\n",
       "    <tr>\n",
       "      <th>45932</th>\n",
       "      <td>2024.0</td>\n",
       "      <td>2</td>\n",
       "      <td>34.0</td>\n",
       "      <td>...</td>\n",
       "      <td>30.0</td>\n",
       "      <td>0.0</td>\n",
       "      <td>160000.0</td>\n",
       "    </tr>\n",
       "    <tr>\n",
       "      <th>45933</th>\n",
       "      <td>2024.0</td>\n",
       "      <td>1</td>\n",
       "      <td>10.0</td>\n",
       "      <td>...</td>\n",
       "      <td>0.0</td>\n",
       "      <td>0.0</td>\n",
       "      <td>0.0</td>\n",
       "    </tr>\n",
       "    <tr>\n",
       "      <th>45934</th>\n",
       "      <td>2024.0</td>\n",
       "      <td>2</td>\n",
       "      <td>8.0</td>\n",
       "      <td>...</td>\n",
       "      <td>0.0</td>\n",
       "      <td>0.0</td>\n",
       "      <td>0.0</td>\n",
       "    </tr>\n",
       "    <tr>\n",
       "      <th>45935</th>\n",
       "      <td>2024.0</td>\n",
       "      <td>1</td>\n",
       "      <td>6.0</td>\n",
       "      <td>...</td>\n",
       "      <td>0.0</td>\n",
       "      <td>0.0</td>\n",
       "      <td>0.0</td>\n",
       "    </tr>\n",
       "  </tbody>\n",
       "</table>\n",
       "<p>7777 rows × 12 columns</p>\n",
       "</div>"
      ],
      "text/plain": [
       "         ANO4  CH04  CH06  ...  PP3E_TOT  PP3F_TOT       P21\n",
       "42025  2004.0     1  34.0  ...      36.0       0.0    1000.0\n",
       "42026  2004.0     1  62.0  ...       0.0       0.0    1200.0\n",
       "42027  2004.0     2  58.0  ...       0.0       0.0       0.0\n",
       "42028  2004.0     1  38.0  ...      48.0       0.0    1200.0\n",
       "...       ...   ...   ...  ...       ...       ...       ...\n",
       "45932  2024.0     2  34.0  ...      30.0       0.0  160000.0\n",
       "45933  2024.0     1  10.0  ...       0.0       0.0       0.0\n",
       "45934  2024.0     2   8.0  ...       0.0       0.0       0.0\n",
       "45935  2024.0     1   6.0  ...       0.0       0.0       0.0\n",
       "\n",
       "[7777 rows x 12 columns]"
      ]
     },
     "execution_count": 3,
     "metadata": {},
     "output_type": "execute_result"
    }
   ],
   "source": [
    "#lo primero que hacemos es tomar los datos de la region patagonica del año 2004. Para eso filtramos el inclullendo solo aquellas regiones que responden a la patagonia.\n",
    "#Luego, tomamos los datos de la region patagonica del año 2024. Para eso filtramos el inclullendo solo aquellas regiones que responden al numero 42.\n",
    "#Para concluir,juantamos las distitas que responden a esta region.\n",
    "df2[df2[\"region\"]=='Patagónica']\n",
    "df3 = df[df[\"REGION\"]==42]\n",
    "df3\n",
    "df4 = df2[df2[\"region\"]==\"Patagónica\"]\n",
    "df4.columns = df4.columns.str.upper()\n",
    "df4\n",
    "df_completo = pd.concat([df3,df4],axis=0)\n",
    "#Indicamos cuáles de esas columnas vamos a estar utilizando\n",
    "columnas_a_usar = [1,11,13,14,16,19,20,21,27,44,45,132]\n",
    "columnas_a_usar1 = [27]\n",
    "\n",
    "#filtramos las columnas que queremos en un nuevo dataset\n",
    "df_filtrado_24 = df_completo.iloc[0:4513, columnas_a_usar]\n",
    "df_filtrado_04 = df_completo.iloc[4513:7777, columnas_a_usar]\n",
    "\n",
    "#filtramos para tener los datos de los dos años en una sola base de datos\n",
    "df8 = df_filtrado_04\n",
    "df8[\"CH04\"] = df8[\"CH04\"].replace({'Varón':1, 'Mujer':2})\n",
    "df8[\"CH06\"] = df8[\"CH06\"].replace({'Menos de 1 año':0, '98 y más años':98})\n",
    "df8[\"CH07\"] = df8[\"CH07\"].replace({'Unido':1, 'Casado':2, 'Separado o divorciado':3, 'Viudo':4, 'Soltero':5})\n",
    "df8[\"CH09\"] = df8[\"CH09\"].replace({'Sí':1, 'No':2, 'Menor de 2 años':3})\n",
    "df8['ESTADO'] = df8['ESTADO'].replace({\n",
    "    'Ocupado': 1,\n",
    "    'Desocupado': 2,\n",
    "    'Inactivo': 3,\n",
    "    \"Menor de 10 años\" : 4\n",
    "})\n",
    "df8[\"CH12\"] = df8[\"CH12\"].replace({\"Jardín/Preescolar\":0, \"Primario\":6, \"EGB\":9, \"Secundario\":12, \"Polimodal\":12, \"Terciario\":18, \"Universitario\":18, \"Posgrado Universitario\":24, \"Educación especial (discapacitado)\":0})\n",
    "df8[\"CH13\"] = df8[\"CH13\"].replace({\"Sí\":0, \"No\":-1, \"Ns./Nr.\":0})\n",
    "df8[\"CH14\"] = df8[\"CH14\"].replace({\"Ninguno\":6, \"Primero\":5, \"Segundo\":4, \"Tercero\":3, \"Cuarto\":2, \"Quinto\":1, \"Sexto\":6, \"Séptimo\":7, \"Octavo\":8, \"Noveno\":9,\"Educación especial\":0,\"Ns/Nr\":0})\n",
    "df8\n",
    "df9 = df_filtrado_24\n",
    "df9[\"CH12\"] = df9[\"CH12\"].replace({0:0, 2:6, 3:9, 4:12, 5:12, 6:18, 7:18,8:24, 9:0})\n",
    "df9[\"CH13\"] = df9[\"CH13\"].replace({0:0, 1.0:-1, 9:0})\n",
    "df9[\"CH14\"] = df9[\"CH14\"].replace({0:6, 1:5, 2:4,3:3, 4:2, 5:1, 6:6, 7:7,8:8, 9:9, 98:0, 99:0})\n",
    "\n",
    "#Limpiamos los datos que no nos interesan y definimos una versión final para la base de datos\n",
    "ultimo_df = pd.concat([df8, df9],axis=0)\n",
    "ultimo_df = ultimo_df.replace(\"NaN\", 0)\n",
    "ultimo_df = ultimo_df.replace([np.nan, -np.inf], 0)\n",
    "ultimo_df = ultimo_df.apply(pd.to_numeric, errors='coerce').fillna(0)\n",
    "ultimo_df['CH13'] = ultimo_df['CH13'].replace(2, -1)\n",
    "ultimo_df.loc[ultimo_df['CH13'] < 3, 'CH13'] = 0\n",
    "\n",
    "pd.set_option(\"display.max_rows\", 8)\n",
    "\n",
    "ultimo_df"
   ]
  },
  {
   "cell_type": "code",
   "execution_count": 4,
   "metadata": {
    "id": "SFLmdJb6firf"
   },
   "outputs": [],
   "source": [
    "#Creo la variable que contiene la edad de los encuestados\n",
    "edad=ultimo_df[[\"CH06\"]]"
   ]
  },
  {
   "cell_type": "code",
   "execution_count": 5,
   "metadata": {
    "id": "lO-tmpwrHNqF"
   },
   "outputs": [],
   "source": [
    "#Creamos una variable con los datos que vamos a estar usando que son edad estado de desocupacion y el año\n",
    "edad2 = (ultimo_df[[\"CH06\", \"ESTADO\",\"ANO4\"]])"
   ]
  },
  {
   "cell_type": "code",
   "execution_count": 7,
   "metadata": {
    "colab": {
     "base_uri": "https://localhost:8080/",
     "height": 396
    },
    "id": "fcAhZCslHfiU",
    "outputId": "c11b7a88-a3ed-4a6c-e6e9-078ed1b0ede1"
   },
   "outputs": [
    {
     "data": {
      "text/plain": [
       "42025    12.0\n",
       "42026     6.0\n",
       "42027     6.0\n",
       "42028    12.0\n",
       "         ... \n",
       "45932    12.0\n",
       "45933     6.0\n",
       "45934     6.0\n",
       "45935     6.0\n",
       "Length: 7777, dtype: float64"
      ]
     },
     "execution_count": 7,
     "metadata": {},
     "output_type": "execute_result"
    }
   ],
   "source": [
    "#1ro tomamos la columnas que nos interesan para hacer la variable.\n",
    "#tomamos los datos CH12 y los remplazamos por el numero de años que equivalen cada nivel de educacion. los datos de CH13 los cambiamos por un 0 en caso de ser 1 y -1 en caso de que no halla terminado.En CH14 le restamos a 6 el ultimo año que curso, exeptuando a los EGB.\n",
    "educ=(ultimo_df[[\"CH12\", \"CH13\",\"CH14\"]])\n",
    "educ\n",
    "pd.set_option('display.max_rows', 8)\n",
    "#creamos una variable en bace a esta relacion:\n",
    "EDUC = educ[\"CH12\"]+educ[\"CH13\"]*educ[\"CH14\"]\n",
    "EDUC"
   ]
  },
  {
   "cell_type": "code",
   "execution_count": 10,
   "metadata": {
    "id": "kdnKLWS7Hnit"
   },
   "outputs": [],
   "source": [
    "#inflacion entre el 2004 y el 2024 es un 46.137,21%\n",
    "salario_semanal=(ultimo_df[\"P21\"])\n",
    "\n",
    "salario_semana04 = salario_semanal.iloc[0:4513]*11.53 #siendo este numero 461.37/40\n",
    "salario_semana24 = salario_semanal.iloc[4513:7777]/40\n",
    "\n",
    "salario_semanal  = pd.concat([salario_semana04, salario_semana24],axis=0)\n",
    "df = salario_semanal[salario_semanal != 0]\n"
   ]
  },
  {
   "cell_type": "code",
   "execution_count": 12,
   "metadata": {
    "id": "8WpZ39pgJ4v1"
   },
   "outputs": [],
   "source": [
    "#Defino una variable que contiene el estado civil de la persona\n",
    "estado_civil = ultimo_df[[\"CH07\"]]"
   ]
  },
  {
   "cell_type": "code",
   "execution_count": 15,
   "metadata": {
    "id": "m8q0jpqHWjgw"
   },
   "outputs": [],
   "source": [
    "alfabeto=ultimo_df[[\"CH09\"]]"
   ]
  },
  {
   "cell_type": "code",
   "execution_count": 16,
   "metadata": {
    "id": "ilrb-5rAbzO_"
   },
   "outputs": [],
   "source": [
    "genero=ultimo_df[[\"CH04\"]]\n",
    "femenino=ultimo_df[[\"CH04\"]].iloc[2]"
   ]
  },
  {
   "cell_type": "code",
   "execution_count": 19,
   "metadata": {
    "id": "ob6opUivGoD5"
   },
   "outputs": [],
   "source": [
    "#Dividimos la data entre los que respindieron y no respondieron\n",
    "respondieron = ultimo_df.query(\"ESTADO != 0\")\n",
    "norespondieron = ultimo_df.query(\"ESTADO == 0\")"
   ]
  },
  {
   "cell_type": "code",
   "execution_count": 20,
   "metadata": {
    "id": "OjhQ_46JPI3k"
   },
   "outputs": [],
   "source": [
    "#Definimos ocupados y desocupados\n",
    "ocupados = ultimo_df[ultimo_df['ESTADO'] == 1]\n",
    "desocupados = ultimo_df[ultimo_df['ESTADO'] == 2]"
   ]
  },
  {
   "cell_type": "code",
   "execution_count": 21,
   "metadata": {
    "colab": {
     "base_uri": "https://localhost:8080/"
    },
    "id": "zNbBtyQ_U90r",
    "outputId": "cb444907-0767-43aa-baf4-4c1498fe9189"
   },
   "outputs": [
    {
     "name": "stderr",
     "output_type": "stream",
     "text": [
      "C:\\Users\\Usuario\\AppData\\Local\\Temp\\ipykernel_9532\\4033484269.py:2: SettingWithCopyWarning: \n",
      "A value is trying to be set on a copy of a slice from a DataFrame.\n",
      "Try using .loc[row_indexer,col_indexer] = value instead\n",
      "\n",
      "See the caveats in the documentation: https://pandas.pydata.org/pandas-docs/stable/user_guide/indexing.html#returning-a-view-versus-a-copy\n",
      "  ocupados['label'] = 1\n",
      "C:\\Users\\Usuario\\AppData\\Local\\Temp\\ipykernel_9532\\4033484269.py:3: SettingWithCopyWarning: \n",
      "A value is trying to be set on a copy of a slice from a DataFrame.\n",
      "Try using .loc[row_indexer,col_indexer] = value instead\n",
      "\n",
      "See the caveats in the documentation: https://pandas.pydata.org/pandas-docs/stable/user_guide/indexing.html#returning-a-view-versus-a-copy\n",
      "  desocupados['label'] = 2\n"
     ]
    }
   ],
   "source": [
    "#Le damos labels a las dos variables\n",
    "ocupados['label'] = 1\n",
    "desocupados['label'] = 2\n",
    "\n",
    "#Unimos los dataframes para que no nos de error a la hora de hacer el testeo y entrenamiento\n",
    "estados_unidos = pd.concat([ocupados, desocupados])\n",
    "\n",
    "# Separamos los datos con X e Y para utilizalos mas facilmente en la función train_test_splint\n",
    "X = estados_unidos.drop(columns=['label'])\n",
    "y = estados_unidos['label']"
   ]
  },
  {
   "cell_type": "code",
   "execution_count": 22,
   "metadata": {
    "id": "V3iU-WtTLz-s"
   },
   "outputs": [],
   "source": [
    "#Usamos la train_test_split para hacer nuestro entrenamiento y testeo, los dividimos como pide la consigna y utilizamos la seed dada.\n",
    "X_train, X_test, y_train, y_test = train_test_split(X, y, test_size=0.3, random_state=444)"
   ]
  },
  {
   "cell_type": "code",
   "execution_count": 23,
   "metadata": {
    "colab": {
     "base_uri": "https://localhost:8080/"
    },
    "id": "MfwLMKpmWh0V",
    "outputId": "a3ed0ff8-e02e-41b3-901e-c33c31d0a1ad"
   },
   "outputs": [
    {
     "name": "stdout",
     "output_type": "stream",
     "text": [
      "(2432, 12)\n",
      "(2432,)\n",
      "(1043,)\n",
      "(1043, 12)\n"
     ]
    }
   ],
   "source": [
    "#Miramos el tamaño de nuestro entrenamiento y testeo\n",
    "print(X_train.shape)\n",
    "print(y_train.shape)\n",
    "\n",
    "print(y_test.shape)\n",
    "print(X_test.shape)"
   ]
  },
  {
   "cell_type": "markdown",
   "metadata": {
    "id": "KCegArsoMqot"
   },
   "source": [
    "#1.\n",
    "Cree una tabla de diferencia de medias entre la base de entrenamiento\n",
    "y la de testeo de las características seleccionadas en su matriz X.\n",
    "Comente la tabla de la diferencia de medias de sus variables entre\n",
    "entrenamiento y testeo."
   ]
  },
  {
   "cell_type": "code",
   "execution_count": 25,
   "metadata": {
    "colab": {
     "base_uri": "https://localhost:8080/"
    },
    "id": "jWoI-Z2_RLGG",
    "outputId": "7b443a32-910a-4d49-de29-c04296d77959"
   },
   "outputs": [
    {
     "name": "stdout",
     "output_type": "stream",
     "text": [
      "          Media del Entrenamiento  Media de la Prueba  Diferencia\n",
      "CH04                         1.44                1.40       -0.04\n",
      "CH06                        39.71               39.90        0.19\n",
      "CH07                         2.89                2.90        0.01\n",
      "CH09                         1.00                1.00        0.00\n",
      "...                           ...                 ...         ...\n",
      "ESTADO                       1.07                1.06       -0.01\n",
      "PP3E_TOT                    32.57               34.74        2.17\n",
      "PP3F_TOT                     1.13                1.20        0.07\n",
      "P21                     142674.09           152238.36     9564.27\n",
      "\n",
      "[11 rows x 3 columns]\n"
     ]
    }
   ],
   "source": [
    "#Calculo las medias con .mean y redondeo para tenem mayor limpiza visual en los números\n",
    "entrenamiento_medias = X_train.mean().round(2)\n",
    "testeo_medias = X_test.mean().round(2)\n",
    "\n",
    "#Hago la tabla\n",
    "tabla_medias = pd.DataFrame({\n",
    "    'Media del Entrenamiento': entrenamiento_medias,\n",
    "    'Media de la Prueba': testeo_medias,\n",
    "    'Diferencia': testeo_medias - entrenamiento_medias,\n",
    "})\n",
    "#Oculto el año\n",
    "tabla_medias = tabla_medias.drop(index='ANO4')\n",
    "print(tabla_medias)"
   ]
  },
  {
   "cell_type": "markdown",
   "metadata": {
    "id": "J12fxZ0rfydv"
   },
   "source": [
    "#B.\n",
    "Metodo Supervisado 1: Modelo de Regresión Lineal"
   ]
  },
  {
   "cell_type": "markdown",
   "metadata": {
    "id": "QTfj0QFofNFg"
   },
   "source": [
    "#2.\n",
    "Para los ocupados de la EPH en su region seleccionada usando la base\n",
    "de entrenamiento, estime los siguientes modelos usando como\n",
    "variable dependiente salario_semanal (y) y como predictores las\n",
    "variables creadas en el TP3:\n",
    "\n",
    "i. salario_semanal en edad\n",
    "\n",
    "ii. salario_semanal en edad y edad2\n",
    "\n",
    "iii. salario_semanal en edad, edad2 y educ\n",
    "\n",
    "iv. salario_semanal en edad, edad2, educ y mujer (donde es una\n",
    "dymmy que toma mujer=1 si CH04==2)\n",
    "\n",
    "v. salario_semanal en edad, edad2, educ, mujer y dos variables que\n",
    "haya creado y limpiado en el TP2 o TP3 que usted crean son\n",
    "relevantes para predecir salarios semanales.\n",
    "\n",
    "Complete y comente brevemente la siguiente tabla, reportando los\n",
    "coeficientes (hasta 3 decimales luego de la coma) y desvío estandar (sd\n",
    "con 2 decimales despues de la coma) de cada coeficiente entre\n",
    "parentesis:"
   ]
  },
  {
   "cell_type": "code",
   "execution_count": 34,
   "metadata": {
    "id": "qSwnBHPMaS4K"
   },
   "outputs": [],
   "source": [
    "#Utilizo el entrenamiento con nuestras variables\n",
    "X1 = edad.loc[X_train.index]\n",
    "y1 = salario_semanal.loc[y_train.index]"
   ]
  },
  {
   "cell_type": "code",
   "execution_count": 35,
   "metadata": {
    "colab": {
     "base_uri": "https://localhost:8080/"
    },
    "id": "ApUgOPlMs7Q_",
    "outputId": "45090759-8a27-4b39-c2d2-94ccb666c723"
   },
   "outputs": [
    {
     "name": "stdout",
     "output_type": "stream",
     "text": [
      "                            OLS Regression Results                            \n",
      "==============================================================================\n",
      "Dep. Variable:                    P21   R-squared:                       0.003\n",
      "Model:                            OLS   Adj. R-squared:                  0.003\n",
      "Method:                 Least Squares   F-statistic:                     8.379\n",
      "Date:                Sun, 25 May 2025   Prob (F-statistic):            0.00383\n",
      "Time:                        15:11:30   Log-Likelihood:                -39880.\n",
      "No. Observations:                2567   AIC:                         7.976e+04\n",
      "Df Residuals:                    2565   BIC:                         7.978e+04\n",
      "Df Model:                           1                                         \n",
      "Covariance Type:            nonrobust                                         \n",
      "==============================================================================\n",
      "                 coef    std err          t      P>|t|      [0.025      0.975]\n",
      "------------------------------------------------------------------------------\n",
      "const       1.943e+05   8.19e+04      2.372      0.018    3.37e+04    3.55e+05\n",
      "CH06        5686.7315   1964.624      2.895      0.004    1834.321    9539.142\n",
      "==============================================================================\n",
      "Omnibus:                     2639.007   Durbin-Watson:                   2.006\n",
      "Prob(Omnibus):                  0.000   Jarque-Bera (JB):           175241.135\n",
      "Skew:                           5.018   Prob(JB):                         0.00\n",
      "Kurtosis:                      42.213   Cond. No.                         128.\n",
      "==============================================================================\n",
      "\n",
      "Notes:\n",
      "[1] Standard Errors assume that the covariance matrix of the errors is correctly specified.\n"
     ]
    }
   ],
   "source": [
    "#Aplicamos la Regresión lineal\n",
    "model= sm.OLS(y1, X1)\n",
    "\n",
    "# Agregamos constante a X1\n",
    "X1_const = sm.add_constant(X1)\n",
    "\n",
    "# Ajustamos el modelo OLS\n",
    "model = sm.OLS(y1, X1_const).fit()\n",
    "\n",
    "# Mostramos el resumen\n",
    "print(model.summary())\n",
    "\n"
   ]
  },
  {
   "cell_type": "code",
   "execution_count": 36,
   "metadata": {
    "id": "tHq0OA2gZHvB"
   },
   "outputs": [],
   "source": [
    "#Utilizo el entrenamiento con nuestras variables\n",
    "X2 = pd.concat([edad2.loc[X_train.index],\n",
    "                edad.loc[X_train.index]], axis=1)\n"
   ]
  },
  {
   "cell_type": "code",
   "execution_count": 37,
   "metadata": {
    "colab": {
     "base_uri": "https://localhost:8080/"
    },
    "id": "GZHHCvu250NF",
    "outputId": "13b25c4d-3ae9-4d45-9dea-4b3d569a509e"
   },
   "outputs": [
    {
     "name": "stdout",
     "output_type": "stream",
     "text": [
      "                            OLS Regression Results                            \n",
      "==============================================================================\n",
      "Dep. Variable:                    P21   R-squared:                       0.066\n",
      "Model:                            OLS   Adj. R-squared:                  0.065\n",
      "Method:                 Least Squares   F-statistic:                     60.40\n",
      "Date:                Sun, 25 May 2025   Prob (F-statistic):           1.01e-37\n",
      "Time:                        15:11:30   Log-Likelihood:                -39797.\n",
      "No. Observations:                2567   AIC:                         7.960e+04\n",
      "Df Residuals:                    2563   BIC:                         7.962e+04\n",
      "Df Model:                           3                                         \n",
      "Covariance Type:            nonrobust                                         \n",
      "==============================================================================\n",
      "                 coef    std err          t      P>|t|      [0.025      0.975]\n",
      "------------------------------------------------------------------------------\n",
      "const      -6.617e+07   5.36e+06    -12.340      0.000   -7.67e+07   -5.57e+07\n",
      "CH06         815.2537    975.306      0.836      0.403   -1097.214    2727.721\n",
      "ESTADO     -1.979e+05   5.72e+04     -3.461      0.001    -3.1e+05   -8.58e+04\n",
      "ANO4        3.311e+04   2661.396     12.441      0.000    2.79e+04    3.83e+04\n",
      "CH06         815.2538    975.306      0.836      0.403   -1097.214    2727.721\n",
      "==============================================================================\n",
      "Omnibus:                     2612.133   Durbin-Watson:                   2.009\n",
      "Prob(Omnibus):                  0.000   Jarque-Bera (JB):           185083.772\n",
      "Skew:                           4.899   Prob(JB):                         0.00\n",
      "Kurtosis:                      43.428   Cond. No.                     4.40e+18\n",
      "==============================================================================\n",
      "\n",
      "Notes:\n",
      "[1] Standard Errors assume that the covariance matrix of the errors is correctly specified.\n",
      "[2] The smallest eigenvalue is 5.4e-28. This might indicate that there are\n",
      "strong multicollinearity problems or that the design matrix is singular.\n"
     ]
    }
   ],
   "source": [
    "\n",
    "#Aplicamos la Regresión lineal\n",
    "model= sm.OLS(y1, X2)\n",
    "\n",
    "# Agregamos constante a X1\n",
    "X2_const = sm.add_constant(X2)\n",
    "\n",
    "# Ajustamos el modelo OLS\n",
    "model = sm.OLS(y1, X2_const).fit()\n",
    "\n",
    "# Mostramos el resumen\n",
    "print(model.summary())"
   ]
  },
  {
   "cell_type": "code",
   "execution_count": 42,
   "metadata": {
    "id": "psn1mqAibAMf"
   },
   "outputs": [],
   "source": [
    "#Utilizo el entrenamiento con nuestras variables\n",
    "X3 = pd.concat ([educ.loc[X_train.index],\n",
    "                 edad2.loc[X_train.index],\n",
    "                 edad.loc[X_train.index]], axis=1)"
   ]
  },
  {
   "cell_type": "code",
   "execution_count": 44,
   "metadata": {
    "colab": {
     "base_uri": "https://localhost:8080/"
    },
    "id": "ZwRjrBMT5-rE",
    "outputId": "9b2e0788-459a-47cf-a38a-c0e1400c9128"
   },
   "outputs": [
    {
     "name": "stdout",
     "output_type": "stream",
     "text": [
      "                            OLS Regression Results                            \n",
      "==============================================================================\n",
      "Dep. Variable:                    P21   R-squared:                       0.068\n",
      "Model:                            OLS   Adj. R-squared:                  0.066\n",
      "Method:                 Least Squares   F-statistic:                     37.56\n",
      "Date:                Sun, 25 May 2025   Prob (F-statistic):           2.80e-37\n",
      "Time:                        15:11:31   Log-Likelihood:                -39793.\n",
      "No. Observations:                2567   AIC:                         7.960e+04\n",
      "Df Residuals:                    2561   BIC:                         7.963e+04\n",
      "Df Model:                           5                                         \n",
      "Covariance Type:            nonrobust                                         \n",
      "==============================================================================\n",
      "                 coef    std err          t      P>|t|      [0.025      0.975]\n",
      "------------------------------------------------------------------------------\n",
      "const      -6.427e+07   5.42e+06    -11.864      0.000   -7.49e+07   -5.36e+07\n",
      "CH12        1.518e+04   6069.172      2.501      0.012    3277.636    2.71e+04\n",
      "CH13        8.571e-06   7.22e-07     11.864      0.000    7.15e-06    9.99e-06\n",
      "CH14       -1061.4073   3753.338     -0.283      0.777   -8421.293    6298.478\n",
      "CH06        1187.1239    985.901      1.204      0.229    -746.121    3120.369\n",
      "ESTADO     -1.666e+05   5.85e+04     -2.848      0.004   -2.81e+05   -5.19e+04\n",
      "ANO4        3.204e+04   2695.626     11.885      0.000    2.68e+04    3.73e+04\n",
      "CH06        1187.1239    985.901      1.204      0.229    -746.121    3120.369\n",
      "==============================================================================\n",
      "Omnibus:                     2598.493   Durbin-Watson:                   2.010\n",
      "Prob(Omnibus):                  0.000   Jarque-Bera (JB):           181554.546\n",
      "Skew:                           4.860   Prob(JB):                         0.00\n",
      "Kurtosis:                      43.037   Cond. No.                     9.99e+19\n",
      "==============================================================================\n",
      "\n",
      "Notes:\n",
      "[1] Standard Errors assume that the covariance matrix of the errors is correctly specified.\n",
      "[2] The smallest eigenvalue is 1.05e-30. This might indicate that there are\n",
      "strong multicollinearity problems or that the design matrix is singular.\n"
     ]
    }
   ],
   "source": [
    "#Aplicamos la Regresión lineal\n",
    "model= sm.OLS(y1, X3)\n",
    "\n",
    "# Agregamos constante a X1\n",
    "X3_const = sm.add_constant(X3)\n",
    "\n",
    "# Ajustamos el modelo OLS\n",
    "model = sm.OLS(y1, X3_const).fit()\n",
    "\n",
    "# Mostramos el resumen\n",
    "print(model.summary())"
   ]
  },
  {
   "cell_type": "code",
   "execution_count": 46,
   "metadata": {
    "id": "MtmRWQLca3WD"
   },
   "outputs": [],
   "source": [
    "#Utilizo el entrenamiento con nuestras variables\n",
    "X4 = pd.concat([ultimo_df['CH04'].loc[X_train.index].to_frame(2),\n",
    "                educ.loc[X_train.index],\n",
    "                edad2.loc[X_train.index],\n",
    "                edad.loc[X_train.index]],axis=1)"
   ]
  },
  {
   "cell_type": "code",
   "execution_count": 48,
   "metadata": {
    "colab": {
     "base_uri": "https://localhost:8080/"
    },
    "id": "XIsdeYBi823p",
    "outputId": "4c9dad49-068c-404d-fe48-130938fddc86"
   },
   "outputs": [
    {
     "name": "stdout",
     "output_type": "stream",
     "text": [
      "                            OLS Regression Results                            \n",
      "==============================================================================\n",
      "Dep. Variable:                    P21   R-squared:                       0.072\n",
      "Model:                            OLS   Adj. R-squared:                  0.070\n",
      "Method:                 Least Squares   F-statistic:                     33.15\n",
      "Date:                Sun, 25 May 2025   Prob (F-statistic):           1.12e-38\n",
      "Time:                        15:11:32   Log-Likelihood:                -39788.\n",
      "No. Observations:                2567   AIC:                         7.959e+04\n",
      "Df Residuals:                    2560   BIC:                         7.963e+04\n",
      "Df Model:                           6                                         \n",
      "Covariance Type:            nonrobust                                         \n",
      "==============================================================================\n",
      "                 coef    std err          t      P>|t|      [0.025      0.975]\n",
      "------------------------------------------------------------------------------\n",
      "const      -6.432e+07   5.41e+06    -11.895      0.000   -7.49e+07   -5.37e+07\n",
      "2          -1.708e+05    5.3e+04     -3.226      0.001   -2.75e+05    -6.7e+04\n",
      "CH12        1.892e+04   6167.972      3.067      0.002    6823.392     3.1e+04\n",
      "CH13         5.46e-07   4.59e-08     11.899      0.000    4.56e-07    6.36e-07\n",
      "CH14       -1394.8400   3747.890     -0.372      0.710   -8744.044    5954.364\n",
      "CH06        1261.6347    984.367      1.282      0.200    -668.601    3191.871\n",
      "ESTADO     -1.512e+05   5.86e+04     -2.582      0.010   -2.66e+05   -3.64e+04\n",
      "ANO4        3.215e+04   2690.914     11.948      0.000    2.69e+04    3.74e+04\n",
      "CH06        1261.6347    984.367      1.282      0.200    -668.601    3191.871\n",
      "==============================================================================\n",
      "Omnibus:                     2578.657   Durbin-Watson:                   2.008\n",
      "Prob(Omnibus):                  0.000   Jarque-Bera (JB):           176353.900\n",
      "Skew:                           4.805   Prob(JB):                         0.00\n",
      "Kurtosis:                      42.452   Cond. No.                     2.51e+19\n",
      "==============================================================================\n",
      "\n",
      "Notes:\n",
      "[1] Standard Errors assume that the covariance matrix of the errors is correctly specified.\n",
      "[2] The smallest eigenvalue is 1.65e-29. This might indicate that there are\n",
      "strong multicollinearity problems or that the design matrix is singular.\n"
     ]
    }
   ],
   "source": [
    "#Aplicamos la Regresión lineal\n",
    "model= sm.OLS(y1, X4)\n",
    "\n",
    "# Agregamos constante a X1\n",
    "X4_const = sm.add_constant(X4)\n",
    "\n",
    "# Ajustamos el modelo OLS\n",
    "model = sm.OLS(y1, X4_const).fit()\n",
    "\n",
    "# Mostramos el resumen\n",
    "print(model.summary())"
   ]
  },
  {
   "cell_type": "code",
   "execution_count": 50,
   "metadata": {
    "id": "Mis7MTvnd3Ff"
   },
   "outputs": [],
   "source": [
    "X5=pd.concat([estado_civil.loc[X_train.index],\n",
    "              ultimo_df['CH04'].loc[X_train.index].to_frame(2),\n",
    "              educ.loc[X_train.index],\n",
    "              edad2.loc[X_train.index],\n",
    "              edad.loc[X_train.index]],axis=1)\n"
   ]
  },
  {
   "cell_type": "code",
   "execution_count": 52,
   "metadata": {
    "colab": {
     "base_uri": "https://localhost:8080/"
    },
    "id": "qu1sD_W89bHe",
    "outputId": "8a7e3901-1e47-4fb3-dd33-c7f8d3786fce"
   },
   "outputs": [
    {
     "name": "stdout",
     "output_type": "stream",
     "text": [
      "                            OLS Regression Results                            \n",
      "==============================================================================\n",
      "Dep. Variable:                    P21   R-squared:                       0.073\n",
      "Model:                            OLS   Adj. R-squared:                  0.070\n",
      "Method:                 Least Squares   F-statistic:                     28.66\n",
      "Date:                Sun, 25 May 2025   Prob (F-statistic):           2.99e-38\n",
      "Time:                        15:11:33   Log-Likelihood:                -39787.\n",
      "No. Observations:                2567   AIC:                         7.959e+04\n",
      "Df Residuals:                    2559   BIC:                         7.964e+04\n",
      "Df Model:                           7                                         \n",
      "Covariance Type:            nonrobust                                         \n",
      "==============================================================================\n",
      "                 coef    std err          t      P>|t|      [0.025      0.975]\n",
      "------------------------------------------------------------------------------\n",
      "const      -6.476e+07   5.42e+06    -11.955      0.000   -7.54e+07   -5.41e+07\n",
      "CH07       -2.225e+04   1.72e+04     -1.293      0.196    -5.6e+04    1.15e+04\n",
      "2          -1.685e+05    5.3e+04     -3.181      0.001   -2.72e+05   -6.46e+04\n",
      "CH12          1.9e+04   6167.522      3.081      0.002    6910.471    3.11e+04\n",
      "CH13       -6.837e-07   5.72e-08    -11.954      0.000   -7.96e-07   -5.72e-07\n",
      "CH14       -1330.3478   3747.729     -0.355      0.723   -8679.238    6018.543\n",
      "CH06         867.8388   1030.262      0.842      0.400   -1152.393    2888.071\n",
      "ESTADO     -1.425e+05    5.9e+04     -2.417      0.016   -2.58e+05   -2.69e+04\n",
      "ANO4        3.241e+04   2698.039     12.012      0.000    2.71e+04    3.77e+04\n",
      "CH06         867.8388   1030.262      0.842      0.400   -1152.393    2888.071\n",
      "==============================================================================\n",
      "Omnibus:                     2574.922   Durbin-Watson:                   2.007\n",
      "Prob(Omnibus):                  0.000   Jarque-Bera (JB):           175106.709\n",
      "Skew:                           4.795   Prob(JB):                         0.00\n",
      "Kurtosis:                      42.309   Cond. No.                     9.47e+19\n",
      "==============================================================================\n",
      "\n",
      "Notes:\n",
      "[1] Standard Errors assume that the covariance matrix of the errors is correctly specified.\n",
      "[2] The smallest eigenvalue is 1.17e-30. This might indicate that there are\n",
      "strong multicollinearity problems or that the design matrix is singular.\n"
     ]
    }
   ],
   "source": [
    "#Aplicamos la Regresión lineal\n",
    "model= sm.OLS(y1, X5)\n",
    "\n",
    "# Agregamos constante a X1\n",
    "X5_const = sm.add_constant(X5)\n",
    "\n",
    "# Ajustamos el modelo OLS\n",
    "model = sm.OLS(y1, X5_const).fit()\n",
    "\n",
    "# Mostramos el resumen\n",
    "print(model.summary())"
   ]
  },
  {
   "cell_type": "code",
   "execution_count": 54,
   "metadata": {
    "id": "E4-KVaXkePqI"
   },
   "outputs": [],
   "source": [
    "X6 = pd.concat([\n",
    "    alfabeto.loc[X_train.index],\n",
    "    estado_civil.loc[X_train.index],\n",
    "    #Usamos.to_frame para poder meterlo en el index\n",
    "    ultimo_df['CH04'].loc[X_train.index].to_frame(),\n",
    "    educ.loc[X_train.index],\n",
    "    edad2.loc[X_train.index],\n",
    "    edad.loc[X_train.index]\n",
    "], axis=1)"
   ]
  },
  {
   "cell_type": "code",
   "execution_count": 56,
   "metadata": {
    "colab": {
     "base_uri": "https://localhost:8080/"
    },
    "id": "KYllBMjc-x9w",
    "outputId": "52b68800-71c9-4bbe-e027-952e1d5a0a5c"
   },
   "outputs": [
    {
     "name": "stdout",
     "output_type": "stream",
     "text": [
      "                            OLS Regression Results                            \n",
      "==============================================================================\n",
      "Dep. Variable:                    P21   R-squared:                       0.073\n",
      "Model:                            OLS   Adj. R-squared:                  0.070\n",
      "Method:                 Least Squares   F-statistic:                     25.17\n",
      "Date:                Sun, 25 May 2025   Prob (F-statistic):           1.13e-37\n",
      "Time:                        15:11:33   Log-Likelihood:                -39787.\n",
      "No. Observations:                2567   AIC:                         7.959e+04\n",
      "Df Residuals:                    2558   BIC:                         7.964e+04\n",
      "Df Model:                           8                                         \n",
      "Covariance Type:            nonrobust                                         \n",
      "==============================================================================\n",
      "                 coef    std err          t      P>|t|      [0.025      0.975]\n",
      "------------------------------------------------------------------------------\n",
      "const      -6.467e+07   5.42e+06    -11.937      0.000   -7.53e+07    -5.4e+07\n",
      "CH09         2.11e+05   2.34e+05      0.901      0.368   -2.48e+05     6.7e+05\n",
      "CH07       -2.238e+04   1.72e+04     -1.300      0.194   -5.61e+04    1.14e+04\n",
      "CH04       -1.704e+05    5.3e+04     -3.214      0.001   -2.74e+05   -6.65e+04\n",
      "CH12        2.007e+04   6281.029      3.196      0.001    7757.648    3.24e+04\n",
      "CH13        1.051e-07   8.82e-09     11.916      0.000    8.78e-08    1.22e-07\n",
      "CH14       -1317.8459   3747.893     -0.352      0.725   -8667.059    6031.367\n",
      "CH06         970.1929   1036.546      0.936      0.349   -1062.362    3002.748\n",
      "ESTADO     -1.618e+05   6.27e+04     -2.580      0.010   -2.85e+05   -3.88e+04\n",
      "ANO4        3.226e+04   2703.031     11.936      0.000     2.7e+04    3.76e+04\n",
      "CH06         970.1929   1036.546      0.936      0.349   -1062.362    3002.748\n",
      "==============================================================================\n",
      "Omnibus:                     2573.889   Durbin-Watson:                   2.006\n",
      "Prob(Omnibus):                  0.000   Jarque-Bera (JB):           174904.582\n",
      "Skew:                           4.792   Prob(JB):                         0.00\n",
      "Kurtosis:                      42.286   Cond. No.                     2.31e+20\n",
      "==============================================================================\n",
      "\n",
      "Notes:\n",
      "[1] Standard Errors assume that the covariance matrix of the errors is correctly specified.\n",
      "[2] The smallest eigenvalue is 1.96e-31. This might indicate that there are\n",
      "strong multicollinearity problems or that the design matrix is singular.\n"
     ]
    }
   ],
   "source": [
    "#Aplicamos la Regresión lineal\n",
    "model= sm.OLS(y1, X6)\n",
    "\n",
    "# Agregamos constante a X1\n",
    "X6_const = sm.add_constant(X6)\n",
    "\n",
    "# Ajustamos el modelo OLS\n",
    "model = sm.OLS(y1, X6_const).fit()\n",
    "\n",
    "# Mostramos el resumen\n",
    "print(model.summary())"
   ]
  },
  {
   "cell_type": "markdown",
   "metadata": {
    "id": "CTYyyEFYfVWo"
   },
   "source": [
    "![image.png](data:image/png;base64,iVBORw0KGgoAAAANSUhEUgAAAnAAAAHQCAIAAACuhcCHAAAgAElEQVR4AeydeVxN2///351GkqnCNWQeCtc1j9d8cdFgFpEkMksow8UnszKEorri3nCvXDLPXK45NEiiRBmiMjQPp3Nav/PzfnzXYz/OOR1N0vA+f5zH2muv6f1ca+/XXsPeCxj9iAARIAJEgAgQgSITgCKnQAkQASJABIgAESACjASVGgERIAJEgAgQgWIgQIJaDBApCSJABIgAESACJKjUBogAESACRIAIFAMBEtRigEhJEAEiQASIABEgQaU2QASIABEgAkSgGAiQoBYDREqCCBABIkAEiAAJKrUBIkAEiAARIALFQECJoC5ZssQx79+HDx9UZJuenj5nzhxra+uRI0c+ePBAMeT169ft7e0nTpw4YsQIxbP59/n48aNYLM5P+NevX+dtjeO6devyk4hcGKlU6uXlderUKTn/b32oIl+pVLpr16579+596zKU7/TDw8M3bdqUmJioaOajR4/c3NxycnIUT+XHR2nL//Tp0+bNm0NDQ/OTQlHCODk52djYjBkz5u+//1adTnZ29vTp062srEaOHLl7927VgYvlrFIyhUtZRfUVLsHSECssLGzatGkTJkywsLC4efNmQYv0+++/29nZjR8/fsWKFQWK+9WbeYFSqyCB5QU1KysLAKpXr+7j47Nz50748nNwcDh58mSbNm0AICQkRAUaiURy+/btatWqAcC5c+cUQ3748MHDwwMA1NXVFc/mx8fb23vYsGFdunTR0NAYM2aM0nufMJ2MjIzg4OBJkyahLSdPngwODg4MDPT29q5du7ahoaEwcF5uuXYcEBAAACKR6O3bt3lF+Rb+KvJ1cHAAAHt7+2+Rb8VJs127dgAwY8YMOZNfvnxZo0YNTU3NV69eyZ3K56HSlj9//nwAaNmyZT4TKXSw4ODgDh06yK67NWvWqE4kNzf32bNnpqamADB79mzVgYvlrFIyhUs5r+orXGqlJFZ6enpoaGiDBg0A4MiRIwUtVUxMjI2NDQAMGDCgQHG/ejMvUGoVJLC8oMbHxwMA9r2ioqJQhLAWY2JitLW1r1279lU0eOkqFVTGWGJiYqEF9dixY6tXr8YCTJ8+HQCGDRv21fIwxrZt24a2ZGZm8vC3bt3S0dHhhyocRkZGwrNRUVG1atVq3759VlaW0P9bu/PK9/z58y1bttyzZ092dva3LkP5Tt/BwUFLS+vAgQNCM6VSaf/+/SdNmhQeHi70L6hbseUfOXJEW1t75syZBU2qEOFnz56dH0HFlDdv3lxiglrEe4IQhdLqEwYou+6hQ4cWTlAZY0eOHCmEoCIr1TfzssvzG5VcXlAjIyONjY0xMzlBZYyNGTPmxIkTXy1Kx44d8+qhFvHimTBhQt++fQMDAxljR48eBQANDY38qJqcoN65cyciIoIxZmJi8lURwruenNW5ublyPiVzqDTfFy9eKPUvmSKVfC45OTlHjhy5f//+t8hakWRGRkaxDEUoCipjTDG7b2GU7LorkKC6urqWRUEtSZ7fqJrySnbYsGHfRVBV38zzKm2F9ZcX1PDwcBcXF8ShKKgHDhzgghoWFrZw4cJRo0ZNmDBh9+7dQlXjdXDo0KHRo0dPnjz51q1bHLHibSUrK8vb29vGxsbCwmLhwoXBwcE8sJxj8uTJANC+fXvG2O+//w4A1apVkwuj9FBOUCdNmhQQEICqzEt+/PjxiRMnTpgw4eDBg8uXL8/IyIiLi1u3bl2lSpU0NTUDvvxiYmIyMzMPHz7s6+u7c+fOz58/M8YCAwP/+OOPnTt3hoSE5OTk+Pn5OTs7Hzp0CO+V//33n7Ozs5ubW3JyMi9bfHz8mjVrLC0tR48e7eLi8u7dO36KMZacnOzu7j5u3LjRo0c7Ozu/fv2aMaaYL0Z58+bNihUrLCwsrKysvL29MzIy0P/WrVv79+/fuXNnaGioWCzev3//woULDx8+LMxI6D5z5syBAwd27dollUrv37/v/OUXFBQkDJNXXuHh4X5+fp6enhcuXMjMzNy5c+eaNWs+fvwojCt7IFMdLC4ubtmyZebm5ra2tlevXhXGjYyMdHZ2Hjly5Lhx4zZs2GBhYdGqVasWLVokJCQcOnTIy8vL19eXMfbPP/8sX7788ePHGDczM9Pd3X3kyJGWlpa+vr5SqZSn+ejRo+nTp48aNWrz5s179+7FueeHDx8eOHDAy8vr/PnzPGRubu7Ro0etra3Nzc3lGmdAQMDevXu3b9/+6dOnDx8+uLq6Llmy5M6dOzyunEOu5b969erQoUM+Pj579+7FkFFRUQcOHNi9e/eZM2cYYxcvXly0aNH27duFwyrYaHGOc926ddgCeUYqrsqvCurhw4fHjRtnaWl5+fJlRUFVAZPnjg7F6wj9VbR5OTKMsbzuCbm5uYcPH0bsKSkp9+7dW7FiBeJSWn14ec6ZM8fMzMzOzk5u3UNeReUWvXr1ys/Pz8PDY8eOHYyxpKSkQ4cO7d69e9OmTWlpaRhMLBZv37599OjR06ZNu3Tp0sqVK3n0vKojPxWdmZnp6upqYWFhb28fGRmpKKjp6ek7duwY8+W3du1aFc98ij1UFXXBC48O1TdzxlheNjLGlF5lmOzRo0fzasNyBShbh/KCKiy9oqDyswEBASKRyNvbWyKRuLm5AYC1tTU/i3XQq1cvXAqB/cj//vsPA8hdPBKJpFOnTsbGxp8/f3779m3z5s21tbWx+8gT5I6IiAgzM7O//vqLMWZmZgYAy5Yt42dVOLignjx5cuXKlerq6iioPMqxY8f69++fmJj48ePH1atXA8CbN2/u3r07a9YsHKB2+vILDAxMS0tbvHgxDiBHRUUxxi5fvowDI46OjkOHDu3bt2+lSpUAYP369atWrerSpUu9evUAoEuXLiix0dHR+vr6U6ZMycrKunnzpmyMsVmzZnyNVWRkpJGRUcuWLV+8eJGZmdmtW7d69eqlp6cr5ssYu3nzZrVq1bp27frixYsbN24YGhq2aNECBfjcuXOtW7cGgIULF5qamvbv319bWxsA8NbADeeOTZs2iUQiAHBycho3btzYsWOx4i5cuIBhVOQVFBRkbm4OAFOnTh0zZgxewIojmSqChYWFGRgYtG/f/t27d5cuXdLQ0PD09MR8cWS+Tp06r169unjxIgA0bNjw6dOnd+/ejYuLc3JyAoCmTZu6uLgcOHCgTp06OMSSmpraqVOnqlWr3r9/Pzo6ulGjRuPGjcMEY2NjmzRp8vTp0/T0dH9/fz09PRzjvXz5Mi4UmDhxIoaUSqXIYe/eve/evZs1a5ZIJNqwYQOe9fDw0NPTAwAPD48eX37YVPJ6IpRr+ZGRkQitXr16mGB4eDhOXv78889Llizp06ePoaEhAIwcORIDMMbs7e0BYO/evZ8+fRo+fHjz5s35g5rqq1K1oGKbNzY23r9//6RJk3r27CnsoaqAyQuGDqXXEWNMdZuXI6PinpCbm7t169bq1asDwJ9//jlv3ryRI0eKRKK4uDjF6mOMubu7q6mp2dvbv3v3ztfXV01NzczMDFeW5VVUoUVPnz7FOqpduzZj7MOHDwsWLMBrnz8Ez507d8mSJRkZGS9evBgxYkSzZs0wBRXV8dWKzs3N7devHwCYmpr++eefgwcPxpbJ51Dj4+NNTEwMDAxu3rwZHR3dvXv3atWqXbp0SVh47pYTVNV1wWOhQ/XNXIWNeV1lqtuwXO5l7rCQgjp16lQA2LJlCzYyAKhcuTI3Hutg/vz56IOj/7169cJDuYsnNjYWAKpWrYpn58yZI0tt8+bNPDWljlu3bolEot69e8s9vCsNLJxDXbdunYWFBQDICeqECRP69OnDn/IWLVr04sULxtjr168BQFtbWy7lGjVqAAAKKmNs69at2F2Ojo5mjB0+fBhj+fj4ICIdHR0AwLN//vknXiqYJl4qOI7NGOvSpQsAYESxWKyurg4AT548wcDCfLOysurXrw8AvEeFt8Xhw4djYJwJq1atGi6l8fHxAYCePXvK2cIPa9asiaKIPmPGjAGAtm3bYo9BdV4PHz4EgObNm7u5ub1+/bpOnToeHh48Ze7IKxhavX//fgzZo0cPPT09rFxLS0sAsLW1xVMtWrQAgD/++IOnqaen98MPP4wfP54x1q1bN0tLS8bYkiVLAGDKlCkYbNmyZQCAi8u8vb0NDQ257P3111/8PuXu7i6rVi6ouICuW7dumEhmZibWIx9txrbdrVs3HOeYOHEiACxfvpyXTeiQa/mMsdDQUFldc0HF7hSud8P2iQ+1IpEI0z979iwANGrUCJPFx4u1a9fioeqrUoWgxsbGamlpAcDt27cxqc6dOwsFVQVMoYGMsbyuI9VtXo7MV+8J+NjRo0ePzMzMJUuWtGjRAvuLctX36NEjkUikoaHBe5N9+/YFADc3NxVFlbPo3r17AICCiqfwcZkLat26dR0cHFJTUxlj2dnZ2PwYY6qrIzAwUEVF//XXX3hXxEsgISGhcuXKwiFfvDadnZ2xSNeuXQMAAwMDpfdDOUFVXRdy5qu+mauwMa+rTHUblsu9zB0WUlATExMPHTr09u3bc+fOLV++HB/ZuPFYB3x0EVt5pUqVsH8md/Ewxq5cuXLnzp3w8PDff/+9U6dOALBq1SqemqLj/fv3DRo0sLW15aO1imHkfHgPFRvcsGHD8Ib16tWrsLAw2WAOf/Bs2rSptbU1l7e8BFVfX18oqJj+qFGjMN/o6Gjs3vF+Z/PmzQHg7t27jDGxWOzv7x8ZGXnr1q1t27ZhL+Tff/9ljPFRAf4CjJubm/DxQpjvv//+i+RfvnyJ+aKQq6ur4zM4DtzxN5RQzPgTtBwixhgmzuUZLzwASE9P/2pewcHBWJiYmBjFlLmP0mBxcXEYd926dQEBAf7+/kZGRlz/8KLlIqe43BFXlXMxxrxQdy0tLXGsfuDAgbIaQe05fvw4ZlerVi0zMzPeUGUEcGU7z6tPnz5yoy/GxsYAwIf1cCDO3d0dM92yZYtsbGPatGncXqFDseWHhYXJCer9+/cBoEaNGjwidoLfvHnDGMOFeG3btkWjsNEOHDgQA6u+KlUI6sGDBxEIvx2vWLFCKKgqYPJyoiOv60hFm1e6rkL1PQF7jfxpiZdBrvpWrVqF4xk8wMyZMwGgd+/eKi55HhgdWCNCQdXV1ZUtBeeC+tNPP+HF3r59e0dHR6wpNErFTVJ1RdvZ2cmWoXTt2pUXplevXlxQs7OzNTU1Zabt27cPA+BiUplpcnMleFZOUFXXBc8RHV+9medlY15Xmeo2LJd7mTsspKCGh4cPHTq0UaNGO3fu/O+///Bq5MZjHeDEBmPsjz/+EF6ucrcVqVS6adOm+vXrT5w48dy5c9bW1qoFNT09vX///gcPHsTsVq9enZ/X+OQE1cfHB4dHNmzYsGvXLuxEDho0CMsJAJqamvi0XiBB5Tfily9fAoCuri5n0rJlSwDACbbPnz9Pnz69Vq1ay5cvv3nzJt6jUVDxSRMAnj59yuMKHUJB5U2Wd6y5D06toaDyvh2KWdOmTYUJCt2YOKo+Ywzf0pH1Dl+/fs1TzisvTFxosjBl7lYaLDw8HMkvWbLER/CLjY1ljD1//rxBgwZVqlQ5evTounXrAODXX3/lTyqy4QcUVN5rxLzwMcXc3FyQng+aJpVKFyxYgLckzNfV1RVjyd2R8V5pZ2fHy48+fPQFBdXPzw8DYDPjwHksdMi1fJx/UiqowjpC63AYH/slrVq1EhrFx1pUX5UqBBWfA9TU1PgKKRcXF6GgqoApZ+OHDx+UXkcq2ryioH71noCCymuNl0Gu+lDdmzdvzgOgT7t27VRc8jwwOhQFVa6Hev/+fby6sS3Vq1cvKSkJVwyouElisnlVNHbB+/TpwwvTv39/LqhJSUmYF78Nch/eGHhExVW+qutCGJExpvpmrqLJ5XWVqW7DcrmXucPCCGpaWlqtWrV4ByImJgZrlxuPb4PxV8hxkrVBgwYYQO62gjd9/pQ9ZcoUFYIqlUqnTJkSGBiY8+UXFxdXt25dXIQSHx+/f/9+uTUavEhygor+EomkXbt2uJ5lx44dUqk0Njb24MGDtra2WlpaOAUoFNTk5OR58+ZhXKGw8SHlfAoq3oX5SF2jRo0AAAU1MjISYQqfNENCQvj4pDDf58+fY2C+DGfv3r0AUKdOHSxk4QT10KFDGB2h6ejoZGdnfzUvVErhgzwmIvevNFh6ejoOpeLsOEaJj4/HYbTIyMjx48evXLly3bp17u7ufDKep4ySIzfv3rt3b7k3SiUSCfae//nnn9evX3/+/Pn06dNLliypVasWX9kud0fG15dHjx7N88L+8Z49e9CnhAV15cqViu+t4jzCV69KFYKKC+YBgD8tjRgxQiioKmByMujI6zpS0eYVBfWr9wQUVMXvTshVH14OBgYGvJBYoTg7kFdReWB0PHr0CF/Nx0McfOI91LS0NB8fn9zc3NDQUE9PT5wCOHz48FerQ7Wgzp07FydQMFOxWFy7dm0uqIwxbIfYGcAparwVKH0Ql+uhqq4LOfNV3MxV25jXVaaiDctlXRYPVQnqkydPsJKEtzn+WC2bBXz48CGfrAIA/v4JKgTXHhys4N8kQokSiUQSiUSW2qhRo/iEYkxMDEr10qVLldLEkSgsFf/HMRYc0xs7dqzSiBs3bsTweI/GRbO4vgOFv3PnzsIH3kGDBqHgpaamqqury9Y1vH///ujRo1u3bsX08SbOm++mTZsAgC97efbsGQDwUW5ZN71x48YAgGKAoogz0CdPnsRZUr72B3FNnDgRuwspKSlDhgzhH6iSyxfnF/k6o5EjR8qmUvhltmbNGuGM4O3btwGgfv36ShHxId+ePXumpqZmZGTg5O6ECRMwvOq88AYhvHkpzSWvYDhL16dPH+x6JicnDxkyBKVizpw5w4YNO378+N9//+3r6/vnn3/evHkTGw++JlGlShUA4E8VmO+ZM2fU1NRq1qz5/v17DDZv3jycK128eLG5uTlPYf369fx5Dp8h8IaLc5w6Ojp169bFyQW8tzZu3Ji3ogEDBvAJb8bY+vXrAcDKykqp7XItnzGGjxf8AYgxduPGDWGfVSKR4OTZ8+fPGWNv377FSfSLFy9iFv7+/nPnzs3PVWlrayscrBaWUKYKuG7OwcFBKpWeP38ec5k0adJXYQrTYYzldR2pbvNyZL56T0BJ4O2cl0Gu+tLS0po1ayZb1fXo0SO85OvVq6etrY0fccurqDw1dKSlpeFqvq1bt966dWvs2LG41AAf4NLT0/loFmNMIpFUqlTp5s2bOJiv4iapuqIfPnyIKwSPHTsma6irVq2qWrUqLkbDUnl5eQlXq+3YsUN2CQif/IRW+Pn58YFufpnndf8RRmSMqbiZq7Yxr6tMRRuWy7osHuYpqIMHD8ahSAAwMjIaPHgwnxvLycn55ZdfZIuS9PT0OnTocOLECXzu6969+7Vr12SLyKtXr37mzJk+ffosWLAAH3WnTZuGs3qhoaEmJiaobR06dIiLizt79izOSTRp0sTKyurWrVuVK1c2NDRUHDdLTk6uWrWqrsIvPT1dNvuI60Hw5iKsicjIyMGDB+MNQvaI17p168GDB//888+4UBAATp48yRjr37//gAEDzM3NV61aJZtDHTp0KCbLGPvtt9/Q2L59+6anpycmJuIKGgAwMTF58ODB6tWr8RrT0tKaMmXKlStXUIoAoHv37jExMTgVh4tRr1y5smrVKjU1NQ0NDRMTk7Vr1+L7P8bGxtu3b2eMvXv3DqF17tzZ2tra1NQUbweK+eI9Ys6cOdWrV58/f/6oUaNq167t7e2N5js5OaH6amtrT5s27eLFi3htYKmE75BwXHjX+/3339u1a4dPNr17905ISMAAmZmZeeXl4eHRpEkTrNaff/4ZO/08We5QEUwikSxdurRy5cqtWrWytLTs168fXyBz+vRpHGTjj1CyR5P+/fuj/OCkO9bsggULeF6MsUOHDtWtW7dWrVrjxo3r168fJ+Pi4tKxY8cBAwYsW7bMwcGha9euuOZr27ZtSKBSpUq8IV2/ft3Y2Lhr165OTk7169c3NTXF0VdZ7gMGDNDQ0JCt8jU0NPTw8HB1dUXgOjo6/GmSl0ex5V+5cgVv9wDQq1cvsVh86NAhYR1FRkbi6nHsleIoRVBQUIcOHbS1tc3NzYcOHTpv3jx8kFV9VTo6OiLD6tWrb9y4kZeKOx4+fIiNVlNTc/jw4Th9rqmpuXDhQgyTF0yeAjryuo5UtHlFMiruCcnJyf369cPh+h9++GHw4MF88F9p9b169WrIkCFGRkbOzs6dOnX68ccfb9y4obqochYxxrZs2YJPvT/99NOTJ09wCXSDBg0wKR0dnWHDhsnmqlavXj1o0CBcKKS6OvJT0YcOHTIwMMDn8pUrV+IAg4GBAZ9f8PT0NDQ0HDt27Ny5c6tVq+bg4KB0TYmfn1+dOnVwlnfMmDEy61TUhZztqm/mqm3M6yqTvaCRVxuWy70sHuYpqF81RvZ9socPH+LFnJubGxISgktJpVIpXyMTFBR09uxZfphXmklJSffv3+f3qYSEhKCgIKWNI68UGGM5OTkhISFKdUJFLH4KewCyVxEePHig+Hm5qKgoXLvEwxfR8fbt28DAQD5AHR0dLfcVnqSkpKCgIP4Qozq7lJSUoKCgx48f816X6vB5nUU5uX//vlgsDgoKQiZygYsrL7lk8TArK+vJkydy/M+dO/fLL7/IXkFevXr1pk2b1q1bhx0UPj6pNCn0zM3Nff78eVRUFL/tylbtv3//Pi0tLTMzMzQ0NCIiIj/QoqOj7927x58tVORYMqfevn0bERHBF6/yTPO6KnkA1Y7ExMT4+HhcN/fhw4e0tDThBaUUplyCKq6jr7Z5YVLFck/gCb5//z4wMBDX7XNPFUXlYbjj06dP/AaVnJyclJTEb1CYzuvXrx88eCD37nURqwPfMsDXotLS0j59+pSRkcHnubGaHj9+/ODBA/70zwus2pHPusjPzTwvG796leXVhlWXvJSfLbyglnLDqHiFIIC9dhWfJihEmkWPIpuXlVv1ff/+/fr16wvv9UXPhVIgAkSACBSRAAlqEQGWn+g///wzjqk2btyYfw+rNJh39OjRtm3bTpo0ycnJaf78+aNHjx4+fHh+lnaXhsJTGYgAEag4BEhQK05df8XSrKyszP/75WcU9CvJFffplJSUV69excXF4WR8cSdP6REBIkAEikqABLWoBCk+ESACRIAIEAHGGAkqNQMiQASIABEgAsVAgAS1GCBSEkSACBABIkAEviKoR48etbGxGTdunKmpKd/UgqipIBAeHr5p06bExEQVYegUESACRIAIlD8CXxHUDx8+nD9/Hhd/fheRwO1ByhB3/FLXjBkziqvMT548+fTpU3GlRukQASJABIjANyLwFUHFXPHjZ99FUI2MjL6R5d8oWQcHB9n+pri/ZrFkMWbMmNL2Ymix2EWJEAEiQATKGYF8CSp+GrDkBfXIkSOKG5GW/goQfsqkiKWNjY2tXLkyCWoRMVJ0IkAEiEAJEFAuqG/fvnV0dJR9QHzFihUpKSmKghoXF7ds2TJzc3NbW1vhviiKJc4rZEBAwN69e7dv3/7p06cPHz64urouWbKEK0dcXNy6desqVaqkqamJWz/GxMQkJCQcOnTIy8sLPxX7zz//LF++nH8SPTMz093dfeTIkZaWlr6+vvwzOrdu3dq/f//OnTtDQ0PFYvH+/fsXLlwo3AITd8/29va2sbGxsLBYuHAh39rl5cuXBw4c2L179+nTpxljV69eXbZsmbu7O34b/fnz5y4uLqtWrXr27Bka/vDhwwMHDnh5efEtRfFzu4UoWGZm5r59+xo2bCj7mOemTZsCAgLwi96MsfT09B07doz58lu7dm1+vsCnWC/kQwSIABEgAsVLQImgvn//Hj+mvGjRIh8fn2HDhuHWWryHGhYWZmBg0L59+3fv3l26dElDQ8PT01NpsVSE9PDwwJ2TPTw8enz5AYC6ujqK2d27d2fNmoU+Tl9+gYGBcXFxTk5O+Il5FxeXAwcO1KlTBzfeSk1N7dSpU9WqVe/fvx8dHd2oUSO+8cu5c+dat24NAAsXLjQ1Ne3fvz/uHcF3aJFIJJ06dTI2Nv78+fPbt2+bN2+ura2NW0lERESMGzcON2pwcnLq0aMHkhk0aNCpU6fat2/ftm1b/G4+7jZ8+fJl/MI438et0AVLSEhwcnLCbwHiR4JwV5z4+HgTExMDA4ObN29GR0d37969WrVquLer0iogTyJABIgAESgZAkoEdcaMGQAwaNAgLMHp06flFiXhXiv79+/HAD169NDT08vMzFQsseqQuHdgt27d8DPTuF3M8uXLMR3hRqTClPX09H744QfcYKtbt26WlpZ8C7kpU6ZgyGXLlvHtWhljmzdvBoBq1arhV9d9fHwAoGfPnhg4NjYWAKpWrYqHc+bMAYDNmzfjYVBQEACIRCJ/f3/G2Js3b3CDkalTp+KmYGjj3r17Mby7u7twxzTclaxwBWOMNW3alG9Ljunj9ry4owVjDDckNzAwUMofo9A/ESACRIAIlAABJYLavHlzAHBycsLsxWIx7syHPdS4uDjU13Xr1gUEBPj7+xsZGQnVixf6qyFxzxB3d3eMsmXLFgCYNm0aHuYlqLhDFpdzDNyiRQsAsLS0xPFh3BuV7+CN+xWPGDECAz98+BAAmjVrhoeMsStXrty5cyc8PPz333/H7cD419hxx0p9fX0eGLf25QPddnZ2AMC3xJLb4riIBZMT1OzsbNy4at++fVie+Ph4rA5eHl5OchABIkAEiEBJElAiqDgSyxVFKpXiTRwFNTw8HO/gS5Ys8RH8YmNj5cr91ZAoqHx7P9wcmG+DqlpQ79+/L8zO0NAQAMzNzQUl8rl79y6GQUHlKaNGNm3aFM9KpdJNmz2ZcBEAACAASURBVDbVr19/4sSJ586dk+1rCADcfAxcr149nh3Oa/ICYId+w4YNGEBOUItSMMUealJSEsI/ePAgZsd9AgICeAnJQQSIABEgAiVPQImg4rygnZ0dliY0NBRv4iio6enpOKX6119/8eLGx8fjOh3ug2tnVIfMv6AmJyfzHZuxh4pznDy73r17A4Dw7U+JRMI3E1UtqHh24MCBmNqUKVOKUVCLUjA5QbW2tmaMYf94165dWNro6GisnadPn3Ia5CACRIAIEIGSJ6BEULGnqK+vHxUVlZqaamFhgT3U6OhoLB/OC/bp0wc3bU5OTh4yZAg/K7RBdcgBAwYAgI+PD0ZZv349AFhZWeFhamqqurq6mpra+/fvjx49unXrVpyzrFKlCgDwxb0Y+MyZM2pqajVr1nz//j0Gmzdv3pEjR/DsmjVrhPOat2/fBoD69evj2VGjRgGAqakpYywmJqZWrVoAsHTpUjx77949AJBtyYmHjLG6desK5zVtbGxkk6yy5b4YAOnhFC9jrCgFY4zhBK2/v39cXNyYMWMYY15eXgAwcuRIzG7Hjh0yGqNHj+bFIwcRIAJEgAh8FwJKBFUikSxZskRbW1tNTc3AwODkyZO4SrZly5YhISGMMYlEsnTp0sqVK7dq1crS0rJfv363b99WWnoVIQcMGICrewwNDT08PFxdXbHrqaOjwzujv/32G66h7du3b3p6+o0bN3CCEwBat269YMECYaaHDh2qW7durVq1xo0b169fP29vbzzr5OSEKWtra0+bNu3ixYuNGjXCXl337t2lUunZs2fxvaAmTZpYWVndunWrcuXKhoaGtra2AQEBOIsJAJ07d46OjsYeJwC0bNny4sWLs2fPxrg1a9bc9uWnr68ve9GlUqVKc+fOxQIUumAyQT179qyWlpampqaxsXF4eDgm6OnpaWhoOHbs2Llz51arVs3BwQFXdQlpkJsIEAEiQARKmIASQcUS5OTkxMTEZGdnM8aSvvzk7tpZWVlPnjzBdbOqC53/kIrpREVFhYWFKfor9cnNzX3+/HlUVBR2nZWGUeqZlJR0//79169f49mEhISgoCA5e5VGzKdnoQvGGIuPj3/w4IFcYcRi8ePHjx88eJCenp7PMlAwIkAEiAAR+KYE8hTUb5orJU4EiAARIAJEoJwRIEEtZxVK5hABIkAEiMD3IUCC+n24U65EgAgQASJQzgiQoJazCiVziAARIAJE4PsQIEH9PtwpVyJABIgAEShnBEhQy1mFkjlEgAgQASLwfQiQoH4f7pQrESACRIAIlDMCJKjlrELJHCJABIgAEfg+BEhQvw93ypUIEAEiQATKGQES1HJWoWQOESACRIAIfB8CJKjfhzvlSgSIABEgAuWMAAlqOatQMocIEAEiQAS+DwES1O/DnXIlAkSACBCBckaABLWcVSiZQwSIABEgAt+HAAnq9+FOuRIBIkAEiEA5IyAvqLjzNv0TASJABIgAESiFBEqzBssLamkuK5WNCBABIkAEiECpJSAvqKXweYSKRASIABEgAkQACZRaNWWMyQtqaS4rlY0IEAEiQASIQKklQIJaaquGCkYEiAARIAJliQAJalmqLSorESACRIAIlFoCJKiltmqoYESACBABIlCWCJCglqXaorISASJABIhAqSVAglpqq4YKRgSIABEgAmWJAAlqWaotKisRIAJEgAiUWgIkqKW2aqhgRIAIEAEiUJYIkKCWpdqishIBIkAEiECpJUCCWmqrhgpGBIgAESACZYkACWpZqi0qKxEgAkSACJRaAiSopbZqqGBEgAgQASJQlgiQoJal2qKyEgEiQASIQKklQIJaaquGCkYEiAARIAJliQAJalmqLSorESACRIAIlFoCJKiltmqoYESACBABIlCWCJCglqXaorISASJABIhAqSVAglpqq4YKRgSIABEgAmWJAAlqWaotKisRIAJEgAiUWgL5EtTHjx87Cn6nTp1Ce1auXMm9Hz16VFxGXrt2jSeLjiVLlmzduvXJkyfFlQWl4+npySE7OTlJpVIhk+XLl/Oza9asEZ76qnvDhg3W1tZjxoyZPXv2VwNfv37d3t5+4sSJI0aM+GrgYglw4cIFbpqjo2N0dLQw2b179wrPfvjwQXhWtfvo0aM2Njbjxo0zNTVNTk5WHfjt27ezZ8+ePHnyiBEjwsPDVQculrNkONYs1Tg2p3Lc1IvleilcIvkSVIlEEhISUqdOnR9++OHjx4/Z2dmYWWpq6vbt23V0dK5cuSKRSApXAsVYYrE4OTl50KBBABAUFJSamhofH//333/Xq1dv2bJliuHJpxAEoqKijh071qRJE/jy+/fff3ki9+7dq1+/Pvq7u7sX9Hb/6tUrFxcXAGjdujVPMy/Hhw8fPDw8AEBdXT2vMMXr/+7du3v37jVo0KBhw4YAsGrVKp5+dna2iYmJuro6AEyaNCk4OJg3dR5GhePDhw/nz59HbomJiSpCMsYyMzP//fffypUrA8CNGzdUBy6Ws2Q41ThvSOW7qXMzS96RL0HFYrm4uKipqUVFRQlLefr06Tlz5gh9isttbW0NAKmpqTzBBw8eiEQiDw8P7kOOohBITU0dMGBAx44dAWDmzJk8KUdHx4ULF6IwBAcHc//8OwIDA/MpqIyxxMTEkhRUtKJr166Ojo4AYGJiwu06derUvHnzUFC3bdvG/QvkQI38qqBimq1bty4xQcUcyXCqccZYRWjqBbpsiytwAQT1zZs36urqTk5OwrwnT55cuHuuMBGlbkVBZYz17du3Zs2amZmZSqOQZ4EIoKBu2rQJAGrXrs1Hfdu2bXvp0qWiCOr9+/dLv6Deu3cPbXz8+DFymzRp0u3bt4soqLq6ugBQmgWVDKcarwhNvUA3w+IKXABBZYyZmprWrl1bLBZj9mlpaT169BAWJTk52dfXd/Xq1V5eXklJSXjq9evXBw4c8PT0fPnyZUpKiq+vb2BgoDCWUrdSQV2+fDkABAQEYJSUlBQvL69169adOXMmNzeXMfb+/fsDBw54eHikpqa+ePHC09PzwoULPP3c3Nzt27cX43QvT7ksOlBQX758ibqCo7537tyZNGnSjRs3FAU1PT19x44dY7781q5d+/btW6HV9+7ds7W1HTFixJ49e5T2UB88eDBz5kxzc3MHB4dnz57xuIo91Nzc3KNHj1pbW5ubmy9cuPBbPLF17dqVMdaoUSM+6pudnd22bdvc3FylghoYGDhnzhwzMzM7Ozu+hgBNePv2raOjo7m5+YoVK1JSUhQFNS4ubtmyZebm5ra2tlevXuWGM8YUe6hv3rxZsWKFhYWFlZWVt7d3RkaGMHzR3WQ41XgFaepFv1gKkULBBPXkyZMAcPToUczJz89vy5YtPNcnT560b98+JCTk3bt39vb2jRs3TktLwzE9f3//SpUqnT592srKys7OrnLlyl+dnVIqqHv27AEANzc3xlhcXJyxsfGlS5dycnJWrVo1ceJExlhSUhKG2bJly4IFC/z9/Tt37jx58mQsZFRUFABYW1vzMldkBwoqY6xz58581NfBweH06dOKghofH29iYmJgYHDz5s3o6Oju3btXq1bt0qVLCPDSpUsaGhpVqlTZuXOni4tLv3795HqoBw4cUFdXnzZtWlJS0po1a3R1de/fv49x5QRVKpWOHTsWAPbu3fvu3btZs2aJRKINGzYUb02hrixevJiP+p44cWLRokWMMUVBdXd3V1NTs7e3f/funa+vr5qampmZmazV4QNcnTp1AGDRokU+Pj7Dhg3T0dER9lDDwsIMDAzat2//7t07pOTp6cltkRPUmzdvVqtWrWvXri9evLhx44ahoWGLFi1ev37NwxfdQYZTjVeQpl70i6UQKRRMUCUSSb169YYMGYI5DR069P379zxXJycnTU1NnPWMj48HgJs3b/KzJiYm1tbW9+/fP3LkSK9evbh/Xg6lgrpv3z7+gDlp0iQbGxuMLpVKa9asyTuj6urqgwYNwlPR0dFqamr81OXLl4Vlziv3iuDPBdXV1RVHfXNyctq1aycWixUFdcyYMQDg7OyMZK5duwYABgYGOPzeqlUrAFi/fj2eXbRokVBQExMTcWYxJiaGMZaVlaWmpjZw4EAMLCeouEapW7dueDYzMxMligsw+hfxH3UFh6YB4PHjxxMnTnzw4IGioD569EgkEmloaODTIc478Ke6GTNmAABvbKdPn8aePR/y7dKlCwDs378fC9yjRw89PT0+ZyEU1KysLFwLdv78eQy8evVqABg+fHgRjRVGJ8P5OD/VuNyzYzlr6sJmX2LuggkqY2zFihUikSg2NjYuLs7MzExY0FevXv3555+Msejo6AMHDgCAcO1o69atu3fvLgyv2q1UULdv3y679e/evZsxVr16dWdn54gvv4cPH1apUmXhwoWYprq6uru7O0+/bt26c+fO5YfkQAJcUGNiYvAus27dOltbW8aYnKBmZ2dramoCwL59+zAuPjABwNWrV9++fYvRz507h2cvX74sFNRDhw4BgEgkOnbsWEBAgI+Pj0x9tbS0cJReTlD79OkjN4pgbGwMACtXrizGikNdYYw1btwYHxTat2+P6cvdZVatWiUzvGHDhjz3mTNnygzv3bs3Y6x58+YAwBcWiMVikUjEe6hxcXEcbEBAgL+/v5GRkfBBUyio//77LwZ++fIl5nX48GFcroW9YV6AojjIcKrxCtLUi3KZFDpugQU1JiZGJBKtWrXK1dXV399fmLFEItm1a5eVlZWnp+f169cVBXXWrFnC8KrdSgV17ty5APDo0aOMjAwAsLS09BH8rl+/jmmqq6sfPHiQp29sbGxpackPyYEEuKAyxrAjpaWldfHiRUVBTUpKwns9p8p9AgICHj58iGf589N///0nFFTsdIpEIkFd/X8nTsbLCepPP/0EAHZ2drya0Gf+/Pncp+gOritLlixBdedvZMkJ6oIFCwCgefPmPFP0adeuHWNMT0+PD5kwxqRSKT55YA81PDwcySxZskRoe2xsLKYmFNTjx49jYD45zX0+f/7Mcy+igwynGq8gTb2IV0rhohdYUBljgwcPbtCgQe/evbOysoS5Tps2rWfPnrhYFJe68Dssrr9wcXERhlftVhRUiUTSpEkTPhhYp04d3jPApD5+/IgOdXV14WsP+vr6ciFVZ11Bzn78+LFPnz5orJubGwAYGhri+8RyPVTGWIMGDWRjvLt27cLw0dHRePd/+vTpx48f0c3l1t3dXSioV69exQDv3r3jbF+8eKG0hzpp0iTZGOzo0aN5SMx6z5493Kfojnbt2qGlDx48wLLxpWpygrp3714c3OaZYgnHjx/PGGvbtq1Q/kNDQzE1FNT09HQcr/7rr7949Pj4eP4ymFBQnz9/jnH5GlTMuk6dOjxu0R1kONV4BWnqRb9YCpFCYQT1n3/+AQB7e3u5/PT19RcsWICeGzduBAC+aAUFVe6bOxERERMnTnz16pVcOniIgpqSkoKHWVlZc+bMqV+/Pv/QyZo1axo2bMhnto4ePcpnqtTV1Xv16oXSfufOHXV19bCwMJy9s7OzO336tNIcK5qnh4dHlSpVnj9/zhiLjY1VU1Pjb6NeuXIFb+58PbaXl5dsbGDkyJFIaceOHULZMzc3l1V3z549U1NTo6OjUSeMjIwwcG5ubrdu3QCAPxpHREQMGjQIF6a9fv0aB4RR4UJDQ3V0dOrWrYuPa48ePQKAxo0bcxEqejWFhIRoamr+/fffmFTTpk2NjY3RzcdsN2/ejD5paWnNmjXDcRH8IEO9evW0tbVxwnXbtm0AoK+vHxUVlZqaamFhgT1U3kqxP9SnTx/sjicnJw8ZMoSfbdq0KQ6bY16WlpYAsGPHDjwcOXKk8CEGPYvyT4YjPapxxlj5bupFuUyKErcwgioWi2vXrn3nzh25jJ2dnQ0NDd3c3ObPn+/n52dmZta9e/edO3c+fvzYxsZGQ0OjcePGs2bNioyMxIg4l3b8+HG5dGTrhuzt7Q0NDQHA3Nwcv9DWu3fvxYsXCz8FJxaLp06d2qpVK2dn5xkzZuDSX0xKXV39t99+s7S0dHZ2btGihZ+fH/rHxMTgWlO5HCvgoa2tLUpmpUqV8FsZ3bp1u3btGr4chfNMstU0jRo1srKyQj6enp6GhoZjx46dO3dutWrVHBwc+BBFQkKCmZkZLt5p1arV7du3MfEePXrgY01iYuLIkSNFIlHv3r1HjRplYWERFxfHGAsNDTUxMcHAHTp0QM/r168bGxt37drVycmpfv36pqamxbjS1cfHB3uNampqkyZNkj1mOTs7r169mjG2fPly/MwFAFSvXn3QoEFYnlevXg0ZMsTIyMjZ2blTp04//vgj/7aRRCJZsmSJtra2mpqagYHByZMn8WGiZcuWISEhsjUHEolk6dKllStXbtWqlaWlZb9+/W7fvo08e/XqhYY3atQIFyJlZmbOmTOnevXq8+fPHzVqVO3atb29vYurcZLhVOMVpKkX1yVTiHQKI6iMMezwKeb39u3bx48fY88jJycnLCyMv7SqGDg3NzciIkLRv0A+8fHxwcHBvCOLcdXV1Y8cOZKZmYmzrcIEX7x4wddYCv3JnR8CYrH48ePHDx48SE9PVwyflpYWGxvLB3JTUlLkav/z58/h4eF8BaxiCkKf6Ojoe/fuJSQkCD2/o/v9+/eBgYEvXrxQLENOTk5MTAw2+6QvP/6ogYGzsrKePHmS12CMXIIpKSlBQUGPHz8uxs95ymVRoEMyXBEX1Ti+o5iUlFSemrpiRRfUp5CCWtBsSji8urr64cOHSzhTyo4IEAEiQAQqMoHyJqhPnz6dOHGi7GtK7dq145NkFbmCyXYiQASIABEoGQLlTVBLhhrlQgSIABEgAkRAjgAJqhwQOiQCRIAIEAEiUBgCJKiFoUZxiAARIAJEgAjIESBBlQNCh0SACBABIkAECkOABLUw1CgOEZAjkJubm5CQgK8MyZ0q34disfj9+/el5A2fkkedk5Mj985eyZehxHLMzs4W7icoFov5JsolVoZSnlFJCOrFixdnzZo1ZcqUcePGKX1/sUCMZB+9W716Nf/WTIHilo/AL168mDt3rq2traWlZfHuwVJEPvHx8Tt27OjYseObN2+KmFQZip6RkbF48WJTU9MmTZro6uouX768gtxlUlJSpk6damZm1rp1a319fVdX1zJUa8VV1GnTphXvV6aLq2DfIp0bN26IRCIjI6P27du3a9euRo0axfiV6W9R4JJPsyQE9dOnT7gRFX5PvIhGDh06FACGDh1axHTKbvSMjIwLFy7g5/qEn476jhY9ffq0e/fuuDOobK8Yvl/KdyxSiWU9b948/MIU7tsMABVEWhwdHdu0aZOamiqRSPCbxnyn5BKD/30zOnLkCABUHEHF/bDx816amprF+3nt71uVxZV7SQgqYwx3cl66dGnRy71161YdHZ2tW7cWPamym8KZM2cAoEDb4ZWAsRKJBL/qV6EEtW7dunZ2dviRQtwNKT/b/ZZAdXzrLIYMGQIAGzduZIxNnz4dAObNm/etMy096cfGxlavXr1CCer+/fs3bdp0+fLlCxcuxMfHl566KD0lKSFBbdOmDQDwL6CWHvvLaEnmzJkj2ylTbrOB0mCLrq5uReuh4hanDg4OjDErKysAkNsnuDTUy7cow927d21sbPBbjOPHjxfuo/4tsitVaUokkoEDB44dO7ZCCeq2bdsuXbr05s2b8PBwua+Klqra+Y6FKZigXr16debMmdbW1nPnzn369Ckvd25u7qlTp5ydnffu3ZuSkrJ//37caRwDvHr1CgBq1KghXLmQkZHx+++/L168+OrVq8+fP/fx8bly5QqGv3Xr1r59+9zd3cPCwhITE93c3NauXZuenv7y5Us/P7/du3e7ubl9+vSJ556QkLBx48bx48fb2toK98niARQdUVFRixYtmjRpkp2dHe4AimGkUumZM2fs7e0tLCxcXFzw66wXL17cu3evu7v7tWvXPn36tGXLluXLl+OmlY8ePVqxYoWbm5vc94Hj4uJcXV2dnZ2jo6Nv3brl6en57NkzxlhycvKBAwe8vLy2bNny+vXr+Pj4jRs3rl27Njk5WVhI1TwZY7hLycOHD4WxSoO7AgrqsWPHTE1NQ0JCsrOzcUeHCxculIa6KIEyZGdnBwUF+fv7V69e3cnJqeKsyfrtt988PDzWrFlToQR1xYoVP/74o4WFRbNmzXR1dSv4MKHS66sAgiq79WtoaOAm3qNHjzY0NMzJyWGMpaWl4eCPnZ3dwoULBwwYAAA2NjY8P9z5a9y4cdwnMjKySZMmlStXdnFxGTFiRO/evWVbdP3xxx8Y4Pjx440aNQKAf/75Z9SoUWPGjJHpsbu7e0hIyNSpU3FzSr7u47///tPX12/SpEnsl5+ent6cOXN4Rkod//33n5aW1oYNG3Jzc3ft2iUSiYKCghhjCQkJffv2rV+//tOnT3HPyy1btjDG/vjjj1q1asnmLF1cXCwsLIYNG4Y7l+3atcvS0hJ3F9m0aRPP6+TJk5UrV27cuPH27dvNzc3r1asnA4J7Sr9+/fp///sfAGhoaJw5c6Zv3749evQAgBkzZvDoX+X57NkzAKhTp04pvH9VQEHlFbd+/XoAWLx4Mfcp944nT56MGjWqZ8+eRkZGxbgxTinndv369REjRjDGKpqgtm3bFtcbpqWl1a9fHwC8vLxKeWWVcPHyK6hSqbRq1arVqlXDVTATJ05s1KgRduBwI7Dp06czxqRSqUgkAgBhT9HCwkKol1lZWbhj16FDhxhj165dw1lunIVC+83MzCpXrmxlZfXx48eDBw/q6en9999/jLE9e/YAAN9Q7MOHD9gnOHPmDEbs1KkTAPAd4pTSREW8fPkyY0zW361SpUpISIhUKkVdx771lClThKtLUBRHjBiRlZWF22Xr6+vjnl/Lli0DgP/973+Y17Nnzyp9+eE6ZFyN1bJlS14S3OCzVq1aEydOzMrKws1lR40axQN8lef27dvlHll43O/uqLCCev36dV1dXdwI77vXQskXYMSIEaVzDqLYUXz69Klbt254G6xogorDcojUzs4OADp37lzshMt0gvkVVIlEoqenJ9MYXV1da2vru3fvYvfoxYsXal9+qB+ZmZm4+pRv0SUWi/X09GSbV/NJ7H379uFGm5jCuXPnAKBt27ZCjk2bNtXX11+7dq3QE7fqBABUYsaYq6srANSrV493WHFCS/VqQ1wnLBKJBg8efOTIEYx74sQJ2QoLHR2dzMzM8+fPa2pqduvWDd8wCw0NBQBtbW3cldPNzQ0AmjVrhiPYXbp0AQA+boz7oltbW2PJnZycAGDu3LnckA0bNsie7H744Qdcce7g4AAA69evxwBf5ckYGzx4MAAcOXKEp1l6HBVTUJ89e9alSxc+Ao/dl9JTKd+iJBKJZMiQISYmJnil497GhoaG3yKvUpXmunXr+vbt6/jl17NnTwDo0KGDo6NjUlJSqSpnsRdGKpVaW1sPGjQI56dwnWmDBg2KPaMynWB+BZUxdv78eVwcj5KJErJ7924AMDExQQp3794FgE6dOnEoV65ckXuQGTduHADMmjULw2zcuBEAFi1axKPExMTINEZLS4urMp7KysrS1dVVV1f/+PEj+uCigMmTJ+MhTtYCAHZneYJyjqioqF9//VVNTQ17xitWrGCMzZ49GweTTU1Nf/3113379vEZXyyhpaUlptOvXz/ZBtTbt29njMmGcNXU1GrWrImj37Iub+3atWVA/P39MTAOhp8+fZqXAbeV5l0ZHNx+9OgRBvgqz/T0dB0dHQ0NjdJ5AVdAQU1ISBg5cmR8fHzOl9+1a9cqgq68ePECZy5wcYCvry+uk+DtvLw6IiIiAv7vN2HCBAAYPnx4QECA3CqK8md+cHAw3jBxM2wcw+vTp0/5s7QoFuVXUEeNGmVhYcEYCw4O7tu3LwAsWLCAMbZu3ToAGDRoEBYC+1vLli27cePG3bt3+QszK1euDAoKCgwMZIz98ssvwj5Zhw4dsIfn4+ODIoGiMmzYMDnD8OXLnj17SqVS1DOsVD5/uXnzZuywqliB5urq2rZt28TExDdv3qCI/vTTT4wxnJ0dOXIk7+zy3HEo+MSJE7iqSPPLD4vq7u4OALJvVkRERODLiJqamjIgt2/fZozJ1hzp6OhoaWmlpaW5ubkxxj59+qSurq6jo4NPedhGmzZtmp2dvWHDhvzwxBdmevfunZqaynvqvKjf1yEWi7W0tAAgKirq+5akxHKXSCR9+vTBGw3/b9asWYkV4HtllJOTo6+v7+vriwXAVb780fZ7laqE88VeGu8blHDuJZxdUlJSpUqV/Pz8ZHf19PR0fOn82LFjJVyMUp5dvgQVb5RdunRBY7Zt28ZnSY8fPw4AHTt2ZIzdv38fOyj+/v7Dhw/HjyJhf+7kyZMDBw7EQc4FCxYAgKOjI2PMw8NDTU1NJBLhEnxM38zMDAB+//13OXarVq0CANn/6tWrsQuILxrj2yOfP3+uW7euSCRC5ZOLyw/79eunq6ubkJCADwd8QRA+Yrdu3Ro7phEREWPGjJFKpUlJSRoaGlpaWqmpqYwxfJV7wIABmKC5uTkA7Nix49dff8X+9E8//SQDcurUKYlEgg+w3bt39/b23r17N2Psr7/+AoAhQ4ZgdA8PDxwQXrFixcmTJxljX+WJa5pWrVplY2Nz69Ytbtd3d1haWrZr1w5FpU2bNoMHD8YR8u9esG9agLNnz+oq/Hr37v1NMy0liV+5cqVXr17z588fNmyYmpra+PHj5Rarl5JyfotixMXFDRo0iM+CVZCVaAEBAf379587d26bNm1q1KhBH3ZQbFr5ElTG2LZt20xMTGQveDg4OBgYGOAwKWMsNzd31KhROOo7bdo0R0dHAGjatGl4xGetvwAAIABJREFUeDhmhqOyrVq1Cg4ORp93797JktLQ0Gjfvv2uXbu6du0KAL/88gsqVnZ2dpUqVQBAOAGOEb29vXH2cefOndwSV1fXunXrLl26tGPHjo0bN0ZZ4mcVHdeuXWvatKlsanP16tWNGze2sLDAiVKpVIqrgUxMTAYPHmxpafn+/XtFBcU+MV8vvnDhQgBo3rw5H7O9du1a9S+/Ll26HD9+vHLlyurq6vx6w8XDO3bswIJdvXpVQ0OjevXq2H/ND09PT08AMDQ0xEdFRQPJhwiUGIGcnJzIyMjg4ODSOQFRYhwqTkZZWVlhYWEhISEqRgErDg1FS/MrqNjNDw8PDw0NVfwe74sXL/DjOBKJJCwsDFf/YmZYAUIfxlhOTk54eDiulEtJSYmIiOBvgEil0uTkZD4lKVfiJ0+eKH49MjMzMywsLP/DjBKJJCoqKigoSPG7fR8/fgwODhb6i8XirKwsXrysrCxhS8rNzX316pXcKHFaWlpoaCh+Rfrt27fCjlp6erocig8fPih+XFsFT8ZYeHh4xekKyDUAOiQCRIAIlFoCBRDUUmuDYsE+fPjQMY8fPUor4iIfIkAEiAARKDqB8imoRedCKRABIkAEiAARKBABEtQC4aLARIAIEAEiQASUEyBBVc6FfIkAESACRIAIFIgACWqBcFFgIkAEiAARIALKCZCgKudCvkSACBABIkAECkSABLVAuCgwESACRIAIEAHlBEhQlXMhXyJABIgAESACBSJAglogXBSYCBABIkAEiIByAiSoyrmQLxEgAkSACBCBAhEgQS0QLgpMBIgAESACREA5ARJU5VzIlwgQASJABIhAgQiQoBYIFwUmAkSACBABIqCcAAmqci7kSwSIABEgAkSgQARIUAuEiwITASJABIgAEVBOgARVORfyJQJEgAgQASJQIAIkqAXCRYGJABEgAkSACCgnQIKqnAv5EgEiQASIABEoEAES1ALhosBEgAgQASJABJQTIEFVzoV8iQARIAJEgAgUiAAJaoFwUWAiQASIABEgAsoJkKAq50K++SGQmJi4YcMG1SFdXV3j4uJUhylzZ3NyclasWJGdnc1Lnpubm5CQkJuby338/f1v377ND8uHQ9FwsVj8/v17iUTCDawghqO9OTk5KSkp6C73hmdnZ2dkZPCKFovFUqmUMVYuDedmFsiRL0F9/Pixo+B36tQpzGPlypXc+9GjRwXKmDGWkZExc+bMkJAQ1REPHTo0ffr0CRMmiMViuZAPHz6cNWuWtbX1oUOH5E7R4bcmEBsb26JFi7t37/KM4uPjd+zY0bFjxzdv3nDPR48etWrV6tmzZ9ynrDuys7N//fXXrVu3oiEZGRmLFy82NTVt0qSJrq7u8uXL8S6TkpLSvn3748ePl3V7efnlDE9JSZk6daqZmVnr1q319fVdXV0xZLk3nANhjE2bNm3+/PkVxPAbN26IRCIjI6P27du3a9euRo0anz9/ZoyVvxoXVnGB3PkSVIlEEhISUqdOnR9++OHjx4/8wTw1NXX79u06OjpXrlwRPqLmswRxcXFVqlTx8fFRHT49Pd3FxQUAMjMz5ULm5ORER0fXrl3byclJ7hQdflMCnz9/bt68+ezZszGXp0+fdu/evU6dOvDl9/LlS2HuS5cuNTIyev/+vdCz7LrHjBnTtm1b3hmdN2/etWvXGGPZ2dlt27YFAC4tFy5c0NLSwrNl115ecjnDHR0d27Rpk5qaKpFI0PCjR49i4PJtOAdy5MgRAOCCyhgr34afPHkSL3AA0NTU3LNnD0dRzgzndhXUkS9BxURdXFzU1NSioqKEeZw+fXrOnDlCnwK58ynDly5dUiqomFfXrl1JUAuEveiBx44dCwByjUEikejo6ACAnKDGxsYCwNChQ4ue73dPwdPTEwCET4F169a1s7PDYe25c+cCQK9evXg5GzduXLduXXyQ555l0aFo+JAhQwBg48aNjLHp06cDwLx587hp5dhwtDE2NrZ69epygsoYK8eG79+/f9OmTZcvX75w4UJ8fDyva3SUG8Pl7CrQYQEE9c2bN+rq6nLSNXny5ODg4AJlWYjAJKiFgPbtoty5cwcA6tevr5iFrq6uoqAyxpo1aybT1MDAQMUoZcgnNTVVX18fAJ4/f86LbWRkBAAODg6MMSsrKwAwMzPjZ6dNmwYAmzdv5j5l0aHU8Lt379rY2Lx48YIxNn78eADYv38/t64cG84Yk0gkAwcOxMdKYQ8VB4HLa41v27bt0qVLb968CQ8PV5yAKx81zhtw4RwFEFTGmKmpae3atTnKtLS0Hj16CDNOTk729fVdvXq1l5dXUlISnnr9+vWBAwc8PT1fvnyZkpLi6+sbGBgYGxv7999/79+/X3iTVRqdMYaCmpqa+scff6xevfrWrVvCTOV6qCkpKV5eXuvWrTtz5gwfl2OMRUZGent7nzhxIiEhITIyUpgCuQtEwN7eHgAsLCwUY+UlqHjrmTFjhmKUMuTz999/A0D16tWFZT527JipqWlISEh2drahoSEAXLhwgQfAjl3Lli25T1l0KDUcR7mDgoL8/f2rV6/u5OQkvNzKt+G//fabh4fHmjVrFHuo5djwFStW/PjjjxYWFs2aNdPV1eXLCLBJlw/Di3h5FkxQcQydz5T4+flt2bKFl+DJkyft27cPCQl59+6dvb1948aN09LSGGOJiYn+/v6VKlU6ffq0lZWVnZ1d5cqVY2Ji/Pz8dHR0eJc3r+hcUKdMmXLmzJkTJ07Url179+7dPF+hoMbFxRkbG1+6dCknJ2fVqlUTJ07EYFeuXHF2dg4PDz969GjDhg09PDx4dHIUlECXLl0AYNq0aYoR8xLUWbNmAYDc45di9FLus2TJEgBo1qyZ0nKuX78eABYvXiw86+/vDwBqampZWVlC/7LlzsvwJ0+ejBo1qmfPnkZGRt7e3kKjyrHh169fHzFiBGNMqaCWY8Pbtm2L6w3T0tLq168PAF5eXrzSy4fh3JzCOQomqBKJpF69ekOGDMHMhg4dKlxp4uTkpKmpmZqayhiLj48HgJs3b/JimZiYWFtb379//8iRI3ySqUuXLlxQVUTHHipfXezh4VG1alU+LyUU1EmTJtnY2GCmUqm0Zs2a2F2wsLCIjo5G/1OnTrm4uPCCkaOgBJo3bw4Ajo6OihHzEtTly5cDQMOGDRWjlCEfOzs7AOjYsaNima9fv66rq6v4oIZNV+kwuGIipdZHheFY5hEjRgDAmjVruAnl1fBPnz5169btw4cPeQlqeTWcMfb27Vtev9gkOnfuzH3Kh+HcnMI5CiaossmDFStWiESi2NjYuLg44VwRY+zVq1d//vknYyw6OvrAgQMA8O+///JitW7dunv37vwQHUItVBEdqwobMWPswYMHAMAXTwoTqV69urOzc8SX38OHD6tUqbJw4ULG2IwZM4yNjdevX3/x4sXPnz8L3+uQKxIdfpVAjx49AGDmzJmKIfMS1MWLFwNAq1atFKOUIZ9ly5YBgLGxsVyZnz171qVLl4cPH6I/dl/QfebMGVwYKXz0lIte+g8VDZdIJEOGDDExMUlMTGSM+fj4AIChoSG3pbwavm7dur59++Lrgj179gSADh06ODo68hmu8mq4VCq1trYeNGhQcnIyYwyv6AYNGpSzGufmFM5RYEGNiYkRiUSrVq1ydXX19/cX5iqRSHbt2mVlZeXp6Xn9+nVFQZ01a5YwPGNMqIUqoqOg8tdmnj59CgBnz57F1HgiGRkZAGBpaekj+F2/fp0xlpqaOmXKlBo1asjWJero6Pj6+sqVhA7zT8Da2hoAxo0bpxglL0G1sbEBgNGjRytGKUM++/btA4DatWsLy5yQkDBy5Mj4+PicL79r164JdUU26w8ABgYGwihlzq1o+IsXLwBAQ0MD3zCWrZwAgBo1anDTyqvhERERAf/3mzBhAgAMHz48ICCA353Kq+HBwcH4aBgWFsYYmzJliuwO36dPn3JW49ycwjkKLKiMscGDBzdo0KB3795y00LTpk3r2bMnvtX+8uVLRUFVHGjlWoir4/KKjoL6+vVrNPLq1asAgMsL5VS5Tp06fAwZA3/8+JExtnr1asZYbm7u06dP//e//9WqVatwvCiWDPi5c+cAoE2bNnI0xGKxlpaW4us0svfzunfvDgAHDx6Ui1K2Dj9//lypUiU1NTXsluFqzz59+vCX89AhnGRdunQpANjZ2ZUtS+VKq2h4Tk6Ovr4+fzDFVb6TJ0/mEcur4dxA3kuT6yeUV8OTkpIqVark5+cnMzw9PR1fOj927BgHUj4M5+YUzlEYQf3nn38AwN7eXi5LfX39BQsWoOfGjRsB4NKlSzxM69athVMs6N+5c2eufyqiHz9+XDgBPmfOHOGomjCRNWvWNGzYEBdDMcaOHj2KS/nbt2/P116KxeK2bdvygpGjoASkUmnbtm2FusIYs7S0bNeuHSpKmzZtBg8ezB+AUlNTNTU1W7VqxdeHFzTH0hN+9uzZAMDX5Z09e1ZX4de7d29e4O7du2trawtfs+GnypZDznDG2JUrV3r16jV//vxhw4apqamNHz8eBwPRrnJsuOy927i4uEGDBunp6cm+46GrqytciVaODQ8ICOjfv//cuXPbtGlTo0YN4Ycd8KG5fDT1olyYhRFUsVhcu3btO3fuyGXs7OxsaGjo5uY2f/58Pz8/MzOz7t2779y58/HjxzY2NhoaGo0bN541axa+svLy5UtbW1stLS2Z/i1atIgxlld0xtjOnTuPHTs2c+bM1atXL1q0aPjw4dhFiI6OtrGx0dTUbNiw4dKlSxljYrF46tSprVq1cnZ2njFjhpubGxayf//+VlZWy5cv9/b2njJlCp9/lTOBDvNJICQkRFdXN5+vV/r4+FSpUiU0NDSfiZfmYCkpKcbGxvn8SEVkZKSamtrevXtLs0X5LJtSw3NyciIjI4ODg/kMIqZW7g3PC1q5NzwrKyssLCwkJETu4bg8GZ5X5ebHvzCCyhjDYXTFDN6+ffv48WP8NmFOTk5YWJgcd8UoQp+8ovNEUlNThU/BwrhCd3x8fHBwMP9oNWMMFzQlJiaGhYXJjVQLI5I7/wQuXLhgZGT01Q/fJycnN2nS5OTJk/lPuZSHjImJadKkiXD0Ja8Cm5mZ4XNeXgHKlj8Z/tX6ohr/KqLyHaCQglq+oZB1+SRw69YtxZF/ubiLFy++ceOGnGdZP8Ql7vyj1krN8fPz27lzp9JTZdeTDFdRd1TjKuBUkFMkqBWkor+VmbgGTUXqwq/nqAhW5k6R4XlVGdV4XmTKqH+FbeqFqC95QZVbr0iHRIAIEAEiQARKD4FC6FyJRSFBLT3thEpCBIgAESACXyFQYupYiIzkBbUQSVAUIkAEiAARIAJEgASV2gARIAJEgAgQgWIgQIJaDBApCSJABIgAESACJKjUBogAESACRIAIFAMBEtRigEhJEAEiQASIABEgQaU2QASIABEgAkSgGAiQoBYDREqCCBABIkAEiAAJKrUBIkAEiAARIALFQIAEtRggUhJEgAgQASJABEhQqQ0QASJABIgAESgGAiSoxQCRkiACRIAIEAEiQIJKbYAIEAEiQASIQDEQIEEtBoiUBBEgAkSACBABElRqA0SACBABIkAEioEACWoxQKQkiAARIAJEgAiQoFIbIAJEgAgQASJQDARIUIsBIiVBBIgAESACRIAEldoAESACRIAIEIFiIECCWgwQKQkiQASIABEgAiSo1AaIABEgAkSACBQDgeIXVLFY7ODgYGdnN3HiRD8/v0KU0d3d3d7efvLkyc7OzoWITlGIABEgAkSACJQ8geIX1Ozs7AcPHtSqVQsATp06VQiTnjx58ssvvwCAo6NjIaJTFCJABIgAESACJU+g+AWVMZaUlKShoaGtrZ2WllY4kzp37gwAly9fLlx0ikUEiAARIAJEoIQJfBNB9ff3B4BffvmlcMbEx8erqalVqVIlOzu7cClQLCJABIgAESACJUygYIIqlUrPnDljb29vYWHh4uLCBU8sFnt5eY0dO9bW1jYiImLKlCkAsG3bNqExDx8+XLVq1fr161NTU//555/t27dnZmbyAOfOnbO2th4zZsy5c+f2798PAObm5vwsOYgAESACRIAIlHICBRDUhISEvn371q9f/+nTp5MmTQKALVu2MMYyMzP79+8PAIMHDw4ICBg6dKihoSEAPH36lBu/fPlyAOjXr9/WrVuHDx8OAI0bN+Znly1bBgBNmzb9+++/p0yZ0rp1awDYs2cPD0AOIkAEiAARIAKlnEB+BVUqlfbu3RsA/vzzT8YY9kFdXV0ZYyiHLVq0wB7nzp075fTSz88PANq2bYs92r59+wLAjBkzEM3FixcBQFNTEwU4LCwMvvxiY2NLOTsqHhEgAkSACBABTiC/gnrixAkA0NHRyczMPH/+vKamZrdu3VJSUtLS0vT09ADA19cXE/3tt98AYNasWXiYm5vbuHFjANi3bx/6dO3aVaavR48excN+/foBwOTJk/HwypUrAGBiYoKH9E8EiAARIAJEoEwQyK+gzp49GwAMDAxMTU1//fXXffv2SSQSxtilS5cAQE1N7dOnT2hwjx49AOD06dN4GBERgT3OhIQExlhOTo6enp66unpSUhJjLDs7WyQSAUBAQACGx/7uokWLygQ+KiQRIAJEgAgQASSQX0GdOnUqAIwcOVIqlQrZ4YJefX199AwNDQUAbW3t9PR0Dw+PjIyMW7duoQ8GwJ5ujx49Pn365Ovrm5CQgHIbFhaG07F169YFgCtXrly6dCkkJESYF7mJABEgAkSACJRaAvkVVF9fXwBo3bo1dkwjIiLGjBkjlUojIyNFIpGWltbHjx+TkpK6dOkCAH379r169aq9vT1jLDExUVNTUyQSJSUlffjwwcTEBACcnZ1tbW1DQ0MZYw0aNMBPQEilUnt7ewDQ0tJ6+fLloEGDxGJxqQVHBSMCRIAIEAEiICSQX0GVSqW2trY4uzl48GBLS8v3799jQhs2bBCJRLVq1ercufPly5f19PS0tbUtLS2zsrIwwNatW0UikZGR0cCBA1GYq1at6u///9i787ia0/9//M82km3sDMbEyNIwM96DxJAl2fctOyE7CUXIvkvJToWQfc++DTIz1olIiyQtaFE6bed0zvXr5vp9rtv5niVljNMcj/NHt+t1va7Xtdxfp/M8r+W8rkN87cWLF7/55hszMzNLS8uAgAArKysisrKyio6OVu4o0hCAAAQgAIGiLFDQgMrHkJyc/PDhw6SkJJUhJSUlPXr0iB+8vn79OioqSqVAYmJiSEiIQqFgjIWFhfELqKJMRkZGcHAwf6ySRCJ58uQJr0oUQAICEIAABCBQxAUKF1CL+GDQPQhAAAIQgICuBBBQdSWPdiEAAQhAQK8EEFD1andiMBCAAAQgoCsBBFRdyaNdCEAAAhDQKwEEVL3anRgMBCAAAQjoSgABVVfyaBcCEIAABPRKAAFVr3YnBgMBCEAAAroSQEDVlTzahQAEIAABvRJAQNWr3YnBQAACEICArgQQUHUlj3YhAAEIQECvBBBQ9Wp3YjAQgAAEIKArAQRUXcmjXQhAAAIQ0CsBBFS92p0YDAQgAAEI6EoAAVVX8mgXAhCAAAT0SgABVa92JwYDAQhAAAK6EkBA1ZU82oUABCAAAb0SQEDVq92JwUAAAhCAgK4EEFB1JY92IQABCEBArwQQUPVqd2IwEIAABCCgKwEEVF3Jo10IQAACENArAQRUvdqdGAwEIAABCOhKAAFVV/JoFwIQgAAE9EoAAVWvdicGAwEIQAACuhL4/AFVKpU6OTmNHTt2yJAh/v7+nzAwLy+v8ePHDx8+3NXVVWXzrKwsiUSikolFCEAAAhCAgM4FPn9AzcnJuXfvXuXKlYno9OnTnzDCp0+f2traEpGzs7PY/MGDB+3bt7e0tDQ2Nra0tLx+/bpYhQQEIAABCEBA5wKfP6AyxlJTU42NjYsXL/7JR5NNmzYlosuXL3OghISEevXqxcbGMsYuXLhARGXKlHn79q3O+dABCEAAAhCAABf4VwLqoUOHiMjW1vbTlN+8eWNgYFCqVKmcnBxeg5+fX9myZTdv3swXixcvTkSBgYGfVj+2ggAEIAABCHx2gcIFVLlcHhgYOH78+F69ei1evFgEPKlUum3btgEDBjg4OISGho4cOZKI1q9fr9zd+/fvu7u7L1++PD09/ciRI56enllZWaLAuXPnRowY0b9//3Pnzu3atYuIevbsKdaePHmSPrxevnyZkJBARAYGBuHh4aIAEhCAAAQgAAHdChQioL59+9bGxqZGjRrPnj0bNmwYEa1bt44xlpWV1a5dOyKys7M7fvx4ly5dKlWqRETPnj0TY3NzcyOitm3benh4dOvWjYjMzc3F2rlz5xJRnTp1Dhw4MHLkSEtLSyLaunWrKKBQKDw8PJYtW6ZQKJydnYlowoQJYi0SEIAABCAAAZ0LFDSgyuXy1q1bE9GePXsYY/wYdM2aNYwxHg4tLCz4Eae3t7dKvPT39yeiRo0a8SNaGxsbInJ0dOSDv3jxIhGZmJjwAPz48WNxMKqus3XrViMjIxcXF7lcrr4WORCAAAQgAAFdCRQ0oPKTrqampllZWefPnzcxMbGysnr//r1EIildujQR+fr68jHMnz+fiCZOnMgXFQqFubk5Efn5+fGc5s2b58XXo0eP8sW2bdsS0fDhw/nilStXiKhhw4Z8UfyVy+UzZ85s0KDBrVu3RCYSEIAABCAAgSIiUNCAOmnSJCKqWLFi9+7dO3fu7Ofnl5ubyxi7dOkSv6KZkpLCh2RtbU1EZ86c4YuhoaH8iJPflCuTyUqXLm1kZJSamsoYy8nJMTQ0JKLjx4/z8vx4d+bMmcpA2dnZAwYMcHNz48e44eHhOEJV9kEaAhCAAAR0LlDQgDp69Ggi6tOnj0ok4zf0VqhQgY8kODiYiIoXL56RkbFp06bMzMygoCCewwvwI11ra+uUlBRfX9+3b9/ycPv48WN+Ofbbb78loitXrly6dOnvv/9mjGVnZ/fs2fPUqVO8hsTExLZt2+ocDh2AAAQgAAEIKAsUNKD6+voSkaWlJT8wDQ0N7d+/v1wuDw8PNzQ0LFasWHJycmpqarNmzYjIxsbm6tWr48ePZ4wlJiaamJgYGhqmpqYmJSU1bNiQiFxdXR0cHIKDgxljNWvW5I+AkMvl48ePJ6JixYq9ePGiY8eOUqlUoVD079+/VKlSdf7vVbZs2SVLliiPAWkIQAACEICAzgUKGlDlcrmDgwO/umlnZ2dvb//69Wve+xUrVhgaGlauXLlp06aXL18uXbp08eLF7e3ts7OzeQEPDw9DQ8PvvvuuQ4cOPDCXKVPm0KFDfO3Fixe/+eYbMzMzS0vLgIAAKysrIrKysoqOjmaM+fn58UNY5b8RERE6h0MHIAABCEAAAsoCBQ2ofJvk5OSHDx8mJSUpV8EYS0pKevToET94ff36dVRUlEqBxMTEkJAQhULBGAsLC+MXUEWZjIyM4OBg/lgliUTy5MkTXpUogAQEIAABCECgiAsULqAW8cGgexCAAAQgAAFdCSCg6koe7UIAAhCAgF4JIKDq1e7EYCAAAQhAQFcCCKi6kke7EIAABCCgVwIIqHq1OzEYCEAAAhDQlQACqq7k0S4EIAABCOiVAAKqXu1ODAYCEIAABHQlgICqK3m0CwEIQAACeiWAgKpXuxODgQAEIAABXQkgoOpKHu1CAAIQgIBeCSCg6tXuxGAgAAEIQEBXAgioupJHuxCAAAQgoFcCCKh6tTsxGAhAAAIQ0JUAAqqu5NEuBCAAAQjolQACql7tTgwGAhCAAAR0JYCAqit5tAsBCEAAAnolgICqV7sTg4EABCAAAV0JIKDqSh7tQgACEICAXgkgoOrV7sRgIAABCEBAVwIIqLqSR7sQgAAEIKBXAgioerU7MRgIQAACENCVAAKqruTRLgQgAAEI6JXA5w+oUqnUyclp7NixQ4YM8ff31ystDAYCEIAABCCgReDzB9ScnJx79+5VrlyZiE6fPq2lXWRDAAIQgAAE9Erg8wdUxlhqaqqxsXHx4sUlEoleaWEwEIAABCAAAS0C/0pAPXToEBHZ2tpqaRTZEIAABCAAAX0TKFxAlcvlgYGB48eP79Wr1+LFi3NycriHVCrdtm3bgAEDHBwcQkNDR44cSUTr16/na48fP+7j47Nhw4Zjx47xnCdPnhw+fDg4OFhwyuXyo0ePjho1ql+/fuvXr5fJZGIVEhCAAAQgAIGiL1CIgPr27VsbG5saNWo8e/Zs2LBhRLRu3TrGWFZWVrt27YjIzs7u+PHjXbp0qVSpEhE9e/aMMaZQKLZv316+fHki8vDw4CK2trZEdPDgQb6Ynp7esWNHU1PTEydOpKSk/PjjjytWrCj6dughBCAAAQhAQAgUNKDK5fLWrVsT0Z49exhj/Bh0zZo1jLG5c+cSkYWFRVZWFmPM29ubiMzNzUUbOTk5ZcqUIaKXL18yxpKTk42NjU1NTdPT03kZHp7nzp3LGJszZw4RjRs3TmyOBAQgAAEIQKDoCxQ0oJ48eZKITE1Ns7Kyzp8/b2JiYmVl9f79e4lEUrp0aSLy9fXlo50/fz4RTZw4UQz+zJkzRNS0aVOes2nTJiLq2bMnX4yIiDAwMCCihIQExlhUVNTChQvj4uLE5khAAAIQgAAEir5AQQPqpEmTiKhixYrdu3fv3Lmzn59fbm4uY+zSpUtEZGBgkJKSwkdrbW1NRGfOnBGDHz16NBGtWrWKnwG2tLQUR7qMsW3bthFRhQoVRHkkIAABCEAAAv85gYIGVB4U+/TpI5fLlQfJb+gV4TA4OJiIihcvnpGRsWnTpszMTMZYlSpViCg8PJwx5uXlRUQmJiapqanbtm2Ty+UbNmwgonr16olqFQpzcDDgAAAgAElEQVSFSCMBAQhAAAIQ+E8IFDSg+vr6EpGlpSU/MA0NDe3fv79cLg8PDzc0NCxWrFhycnJqamqzZs2IyMbG5urVq+PHj+e/SSUiIyOjrKys3bt329nZEVGbNm3Onz8/a9YsxtjDhw8NDQ2LFy/+6tUrxlh8fHzXrl3fvXv3n+BDJyEAAQhAAAJcoKABVS6XOzg4EFHDhg3t7Ozs7e1fv37Nq1ixYoWhoWHlypWbNm16+fLl0qVLFy9e3N7ePjs7mxdo2rQpEVWqVGnVqlVhYWH8jqTBgwdLpVJewMvLy9TUtHLlyra2tl27dg0NDeX5+AsBCEAAAhD4rwgUNKDy8SQnJz98+DApKUlleElJSY8ePeIHr69fv46KilIuIJPJIiMj+T3AjLFXr169ePFCuQBjTCKRBAcHx8fHq+RjEQIQgAAEIPCfEChcQP1PDAmdhAAEIAABCHx5AQTUL2+OFiEAAQhAQA8FEFD1cKdiSBCAAAQg8OUFEFC/vDlahAAEIAABPRRAQNXDnYohQQACEIDAlxdAQP3y5mgRAhCAAAT0UAABVQ93KoYEAQhAAAJfXgAB9cubo0UIQAACENBDAQRUPdypGBIEIAABCHx5AQTUL2+OFiEAAQhAQA8FEFD1cKdiSBCAAAQg8OUFEFC/vDlahAAEIAABPRRAQNXDnYohQQACEIDAlxdAQP3y5mgRAhCAAAT0UAABVQ93KoYEAQhAAAJfXgAB9cubo0UIQAACENBDAQRUPdypGBIEIAABCHx5AQTUL2+OFiEAAQhAQA8FEFD1cKdiSBCAAAQg8OUFEFC/vDlahAAEIAABPRRAQNXDnYohQQACEIDAlxdAQP3y5mgRAhCAAAT0UKAQAVWhULi4uDj/3+vp06cqHh4eHv+30lkikaisVV9MSkpyd3cPCgpSX4UcCEAAAhCAwH9LoBABVSaT3b17d+jQofThtXv3buWhnjlzhue3b9++gDFy1qxZRFSzZk3lepCGAAQgAAEI/BcFChFQ+fDs7e2LFy9ORCtWrBADlkgkDRo04AH13LlzIj//xJkzZ0qWLDl27Nj8i2EtBCAAAQhAoOgLFC6gKhSKH374wc7OjoimTJkihufs7DxgwAAiMjExKcjJXrEhEhCAAAQgAAH9EChcQH3w4EHPnj3HjRtHRH379uUEDx8+bNWqlYuLCxG1bNmSZx4/ftzHx2fDhg3Hjh3jOU+ePDl8+HBwcDBfPHz48M6dOz09PW/evMlzGGNyuTwwMHD8+PG9evVavHhxTk4OYywoKMjPz8/Ly+vx48eJiYlr165dunRpRkaG2AoJCEAAAhCAgM4FChdQV61atWnTpoULFxKRtbU1D4HW1tbBwcG//vorEc2fP58xplAotm/fXr58eSLy8PDgg7S1tSWigwcPMsZkMtnOnTsrVKhAREeOHOEF3r59a2NjU6NGjWfPng0bNoyI1q1bxxg7ceLE999/z0v27du3f//+ROTl5aVzO3QAAhCAAAQgIAQKF1Dbt28fERGxY8cOIvr+++8ZYxs2bJg1a1ZSUpKhoSERXbt2jVedk5NTpkwZInr58iVjLDk52djY2NTUND09nRdQKBQ8oL5+/ZoH5tatWxPRnj17GGMjR44kojVr1vDCPXr0MDMzGzp0aHJy8r59+0qXLn3jxg0xBiQgAAEIQAACOhcoREDNzMysX78+Y+zs2bN5NyUVL148Nja2cePGGRkZBw4cIKISJUpkZ2fzIfGbfps2bcoX845riahnz55iwI8ePSKiunXr8pyTJ08SkampaVZW1vnz501MTKysrN6/f8/X1qlTp0KFCkuXLhWbIwEBCEAAAhAoUgKFCKjnz58fN24cYyw4OJjf0NuuXbvAwEDGmIODAxG1b99ejG306NF5IXbVqlX8DLClpaU4+uRlNm7cSESjR4/mi5MmTSKiihUrdu/evXPnzn5+frm5uXxVdHQ0ERUrViwxMVHUjwQEIAABCECgSAkUIqBOmjRp7969jLGkpCQeUPv168cH89133+Xd4rts2TIxtipVqhBReHg4Y8zLy4vfAJyamrpt2za5XM4Y43cF+/r68k14AO7Tpw9fK+phjG3ZsoWIunbtqpyJNAQgAAEIQKBICRQ0oD569KhkyZLe3t6896ampmXKlImLi1M+YBXXNVNTU4nIyMgoKytr9+7d/Gc2bdq0OX/+/KxZs3gNVatWJaKIiAi+6OvrS0SWlpb8wDQ0NLR///48uPbo0YOIdu7cWaTg0BkIQAACEICAskCBAuqmTZtKlCjBY6STkxNjrHbt2hs3bmSM9evXjx+M5t3B26BBg7lz5/LamzZtSkSVKlVatWpVWFgYvyNp8ODBUqmUMRYaGkpEderUEV2Ry+X8vHHDhg3t7Ozs7e35zUo5OTmlSpUiIh68RXkkIAABCEAAAkVKoEAB9RN6LJPJIiMjs7Ky+LavXr168eIFY4w/9oGfBF64cKFKzcnJyQ8fPsx7xq/Il8vlaWlpMplM5CABAQhAAAIQKIIC/1ZA1TjUjRs3GhkZPX782MrK6ocffkhLS9NYDJkQgAAEIACB/5zAFw2oJ06cKF68+I8//titW7dXr17957DQYQhAAAIQgIA2gS8aUBljOR9e2nqDfAhAAAIQgMB/VOBLB9T/KBO6DQEIQAACEMhfAAE1fx+shQAEIAABCBRIAAG1QEwoBAEIQAACEMhfAAE1fx+shQAEIAABCBRIAAG1QEwoBAEIQAACEMhfAAE1fx+shQAEIAABCBRIAAG1QEwoBAEIQAACEMhfAAE1fx+shQAEIAABCBRIAAG1QEwoBAEIQAACEMhfAAE1fx+shQAEIAABCBRIAAG1QEwoBAEIQAACEMhfAAE1fx+shQAEIAABCBRIAAG1QEwoBAEIQAACEMhfAAE1fx+shQAEIAABCBRIAAG1QEwoBAEIQAACEMhfAAE1fx+shQAEIAABCBRIAAG1QEwoBAEIQAACEMhfAAE1fx+shQAEIAABCBRIAAG1QEwoBAEIQAACEMhfoBAB9fLly85Kr7Nnz/KqfXx8RPbff/+df3v5r/X58Mq/jFgrk8mcnJzGjRs3dOjQu3fvinyeiIqKmjJlioODg729vfpalcL5LGZkZMjl8nwKYBUEIAABCECAMVaIgBoTEzN27Fj68Nq6dWtiYiIXfPDgQdOmTUuXLu3l5fX+/ftPZr1z5w6v/M6dOwWpJCcnJyAggIgMDQ2TkpJUNsnMzLxw4YK2tSqF1Rfj4uL++OOPhQsXVqlSJSsrS70AciAAAQhAAALKAoUIqIyx+/fv85j3+PFj5Vq6d+8eEBCgnPMJ6eTk5LofXsnJyQXcnIfMFi1aaCwfGBhIRNrWatyEZyYmJg4ePPj7778nIltb23xKYhUEIAABCECACxQuoKampvKAeuLECSF4/fr1bt26icUvmZg+fToRLVmyRGOjkydPzmetxk2UM+fMmUNEq1atUs5EGgIQgAAEIKBRoHABlTFWoUIFIlq3bh2vLjs7u0mTJtHR0cq1379/393dffny5enp6UeOHPH09ORnTSMiIvz9/Tdt2nT27FmZTObr6+vq6vrixQvG2KlTp3x8fDZs2HD69GnlquLj49esWePq6vr8+fOgoKDNmzeHhYWJAhYWFkR05syZqVOn9uvXz9/fX6xijNWpU4eI8jojMiUSyY4dO0aMGNG3b9+9e/eKfI2Jpk2bEtGDBw80rkUmBCAAAQhAQFmg0AG1WbNmRDRp0iRey7x58zw8PJRrdHNzI6K2bdt6eHh069aNiMzNzXmBu3fv2traEtHy5cvt7e1nzpxJRL1792aM+fj4VKlShYi8vLxEbadOnTIzMzM3N/f09OzZs2f16tWJ6OXLl7zA8+fP8w5AjYyMunbtumDBgpIlSxLR4cOH+dqwsDAiqlq1qkKhEK3XqlXL1tY2Pj6eR+J79+6JtlQSKSkphoaGFStWFJurFMAiBCAAAQhAQFmg0AHV3t6eiDp16sQYCwkJsbKyys3NFTX6+/sTUaNGjXJychhjNjY2ROTo6CgKeHh4EFG/fv2uXbsWHh5erly51atXM8YUCkW1atWIKCIighcOCwsr8eH1/PnzvLunFi5cSET16tUTVXl7exNR7dq109LSGGPDhg0jokGDBvECnp6eedF31KhRfDEuLq5y5comJia8NnNzcyLK5+7fI0eOKNcmGkUCAhCAAAQgoFGg0AF13rx5RFS3bl25XN6qVSvlE6oKhYIHKj8/P95Y8+bN8+Lr0aNHRdsODg4GBgYDBgwQOTzBb3eysLAQ+SNGjCCiESNG8BwXFxcimjJliijQpUsXIvLx8eE5w4cPJ6K+ffvyRTs7O+UDVicnJyKysbFRKBQLFiwgookTJ4qq1BPjx49Xrly9AHIgAAEIQAACygKFDqh+fn5EZGJikvcjmRkzZijXFRoaym9Zevv2LWNMJpOVLl3ayMgoNTVVFOMR9+TJkyKHJ5YsWUJETk5OIp+fAT506BDP6dSpE79cyhezs7NLlChhbGwsKufBm9+glJGRYWpqqrzW0tIyL75aWlq2a9du8ODBV65cEQ1pTPDrr+L0ssYyyIQABCAAAQgIgUIH1Js3b/KoaWFhIZFIREWMsaCgICIqXrw4zzx58iQRWVtbp6Sk+Pr6MsZ4xC1XrpxUKlXekDHWokULIrr04fXo0SPGmImJCRHdvn2bMfbmzRtTU9NixYpJJJK1a9cyxiIjI4lIHNHGxMQYGhqWKFEiNjaWMcZ/MNO6dev09PT9+/czxmrXrk1Enp6eKu1qXHzx4oVy5RrLIBMCEIAABCCgLFDogBofH88DamBgoHJFjLHExEQTExNDQ8PU1NSkpKSGDRsSkaurq4ODQ3BwMGOMX0AdOnSoyoYymczY2LhYsWJRUVHdunXj4fbnn38motOnT+fm5g4ePJj/onT79u1btmxhjEkkEjMzM0tLS17V0KFDDQwMdu7cyRcXLVpERO7u7qNGjQoKCmKM8RPC48eP5wVOnDgxd+5clW6IRX51duzYsSIHCQhAAAIQgED+AoUOqIwxMzOzgQMHaqzXw8PD0NDwu+++69Chg6+vLxGVKVNGnLblt/jyQ0blzeVyeY0aNQwMDDp06BAfH89XXb9+/ZsPr2bNmp04ccLMzMzIyGjWrFliQ39//5IlS06dOrVPnz7169dX/mns5s2biahSpUrihzQJCQnW1tZE1Lp167Zt27q6uqofJTPGrly5Ymtry28YLleuXMeOHRMSEkSLSEAAAhCAAAS0CXxKQP3jjz9SUlK01ZiYmBgSEsJ/bRIWFiaucTLG0tLSsrOzNW747t270NBQld+oSCSS4ODgzMxMxlhcXNyrV69UtpVIJA8fPlT5FSwv8+TJE373r/ImMTExwcHBGRkZyplIQwACEIAABP65wKcE1H/eKmqAAAQgAAEI6JkAAqqe7VAMBwIQgAAEdCOAgKobd7QKAQhAAAJ6JoCAqmc7FMOBAAQgAAHdCCCg6sYdrUIAAhCAgJ4JIKDq2Q7FcCAAAQhAQDcCCKi6cUerEIAABCCgZwIIqHq2QzEcCEAAAhDQjQACqm7c0SoEIAABCOiZAAKqnu1QDAcCEIAABHQjgICqG3e0CgEIQAACeiaAgKpnOxTDgQAEIAAB3QggoOrGHa1CAAIQgICeCSCg6tkOxXAgAAEIQEA3AgiounFHqxCAAAQgoGcCCKh6tkMxHAhAAAIQ0I0AAqpu3NEqBCAAAQjomQACqp7tUAwHAhCAAAR0I4CAqht3tAoBCEAAAnomgICqZzsUw4EABCAAAd0IIKDqxh2tQgACEICAngkgoOrZDsVwIAABCEBANwIIqLpxR6sQgAAEIKBnAoUIqJcvX3ZWep09e5Zb+Pj4iOy///77nwD5fHgVsAaZTObk5DRu3LihQ4fevXtXZauoqKgpU6Y4ODjY29urr1UprHExNzc3JSVF4ypkQgACEIAABFQEChFQY2Jixo4dSx9eW7duTUxM5HU9ePCgadOmpUuX9vLyev/+vUoDBV+8c+cOr/zOnTsF2SonJycgIICIDA0Nk5KSVDbJzMy8cOGCtrUqhVUW37x5M2TIkJ9//rlUqVKVK1fevHmzSgEsQgACEIAABFQEChFQGWP379/nMe/x48fKFXXv3j0gIEA55xPSycnJdT+8kpOTC7g5D5ktWrTQWD4wMJCItK3VuAnPbNmy5fnz5xlj8fHx5cuXJyK+mM8mWAUBCEAAAl+5QOECampqKg+oJ06cEHDXr1/v1q2bWPySienTpxPRkiVLNDY6efLkfNZq3IQx9uLFCyKaMWNGeno6Y8zOzo6IZs2apa088iEAAQhAAAKMscIFVMZYhQoViGjdunWcLzs7u0mTJtHR0cqa9+/fd3d3X758eXp6+pEjRzw9PbOyshhjERER/v7+mzZtOnv2rEwm8/X1dXV1ffHiBWPs1KlTPj4+GzZsOH36tHJV8fHxa9ascXV1ff78eVBQ0ObNm8PCwkQBCwsLIjpz5szUqVP79evn7+8vVjHG6tSpQ0R5nRGZEolkx44dI0aM6Nu37969e0W+ciIxMdHExISIdu/ezRirV68eEe3cuVO5DNIQgAAEIAABFYFCB9RmzZoR0aRJk3hF8+bN8/DwUK7Uzc2NiNq2bevh4dGtW7e8yGRubs4L3L1719bWloiWL19ub28/c+ZMIurduzdjzMfHp0qVKkTk5eUlajt16pSZmZm5ubmnp2fPnj2rV69ORC9fvuQFnj9/nncAamRk1LVr1wULFpQsWZKIDh8+zNeGhYURUdWqVRUKhWi9Vq1atra28fHxPBLfu3dPtKWcOHXqlJOTU3Jy8unTp4nop59+ysnJUS6ANAQgAAEIQEBFoNAB1d7enog6derEGAsJCbGyssrNzRWV+vv7E1GjRo14BLKxsSEiR0dHUcDDw4OI+vXrd+3atfDw8HLlyq1evZoxplAoqlWrRkQRERG8cFhYWIkPr+fPn+cdSi9cuJCI6tWrJ6ry9vYmotq1a6elpTHGhg0bRkSDBg3iBTw9PfOi76hRo/hiXFxc5cqVTUxMeG3m5uZElP/dv3/88Uf58uU7d+5c8Gu6om9IQAACEIDA1yZQ6IA6b948Iqpbt65cLm/VqpXyCVWFQsEDlZ+fH3ds3rx5Xnw9evSoYHVwcDAwMBgwYIDI4Ql+u5OFhYXIHzFiBBGNGDGC57i4uBDRlClTRIEuXboQkY+PD88ZPnw4EfXt25cv8muf4oDVycmJiGxsbBQKxYIFC4ho4sSJoir1xMGDB7/99luc6VWXQQ4EIAABCGgUKHRA9fPzIyITE5O8H8nMmDFDudLQ0FB+y9Lbt28ZYzKZrHTp0kZGRqmpqaIYj7gnT54UOTyxZMkSInJychL5/AzwoUOHeE6nTp345VK+mJ2dXaJECWNjY1E5D978BqWMjAxTU1PltZaWlnknhC0tLdu1azd48OArV66IhtQTq1ev7tWr1+vXrxljr1+/fvfunXoZ5EAAAhCAAASUBQodUG/evMmjpoWFhUQiUa4rKCiIiIoXL84zT548SUTW1tYpKSm+vr6MMR5xy5UrJ5VKlTdkjLVo0YKILn14PXr0iDHG7wy6ffs2Y+zNmzempqbFihWTSCRr165ljEVGRhKROKKNiYkxNDQsUaJEbGwsY4z/YKZ169bp6en79+9njNWuXZuIPD09VdpVX1y4cOG8efN4vlwut7Oz45FVvSRyIAABCEAAAkKg0AE1Pj6eB9TAwEBRC0/w+2MNDQ1TU1OTkpIaNmxIRK6urg4ODsHBwYwxfgF16NChKhvKZDJjY+NixYpFRUV169aNh9uff/6ZiE6fPp2bmzt48GD+i9Lt27dv2bKFMSaRSMzMzCwtLXlVQ4cONTAwEGdoFy1aRETu7u6jRo0KCgpijPETwuPHj+flT5w4MXfuXJVu5N3D7O3tbWRkVOf/XlWrVm3fvr16MeRAAAIQgAAEVAQKHVAZY2ZmZgMHDlSpiC96eHgYGhp+9913HTp08PX1JaIyZcqI07b8Fl9+yKi8uVwur1GjhoGBQYcOHeLj4/mq69evf/Ph1axZsxMnTpiZmRkZGSn/HtTf379kyZJTp07t06dP/fr1lX8au3nzZiKqVKmS+CFNQkKCtbU1EbVu3bpt27aurq7qR8mRkZFGRkb864L4u2PHDuWuIg0BCEAAAhDQKPApAfWPP/7I5yG3iYmJISEh/McqYWFh4honYywtLS07O1tjP969excaGip+4sLLSCSS4ODgzMxMxlhcXNyrV69UtpVIJA8fPlT5FSwv8+TJE373r/ImMTExwcHBGRkZyplIQwACEIAABP65wKcE1H/eKmqAAAQgAAEI6JkAAqqe7VAMBwIQgAAEdCOAgKobd7QKAQhAAAJ6JoCAqmc7FMOBAAQgAAHdCCCg6sYdrUIAAhCAgJ4JIKDq2Q7FcCAAAQhAQDcCCKi6cUerEIAABCCgZwIIqHq2QzEcCEAAAhDQjQACqm7c0SoEIAABCOiZAAKqnu1QDAcCEIAABHQjgICqG3e0CgEIQAACeiaAgKpnOxTDgQAEIAAB3QggoOrGHa1CAAIQgICeCSCg6tkOxXAgAAEIQEA3AgiounFHqxCAAAQgoGcCCKh6tkMxHAhAAAIQ0I0AAqpu3NEqBCAAAQjomQACqp7tUAwHAhCAAAR0I4CAqht3tAoBCEAAAnomgICqZzsUw4EABCAAAd0IIKDqxh2tQgACEICAngkgoOrZDsVwIAABCEBANwIIqLpxR6sQgAAEIKBnAgioerZDMRwIQAACENCNAAKqbtzRKgQgAAEI6JkAAqqe7VAMBwIQgAAEdCOAgKobd7QKAQhAAAJ6JoCAqmc7FMOBAAQgAAHdCCCg6sYdrUIAAhCAgJ4JIKDq2Q7FcCAAAQhAQDcCCKi6cUerEIAABCCgZwIIqHq2QzEcCEAAAhDQjQACqm7c0SoEIAABCOiZAAKqnu1QDAcCEIAABHQjUNCAunv3bucPr1mzZiUmJorOHj9+nOc7Ozvv379f5KsnHjx4sHfvXvV8nrNo0SIHB4f58+drK1B08sPCwsaNG5eamvplunTo0KHbt29/mbbQCgQgAAEIfLJAQQNqVFTUzp07zczMiKhDhw65ubm8yYiIiLFjxxJRv379QkJCtPXjwoUL9evXT0lJ0Vbg7du33bt3b968ubYCRSf/+PHjZmZm+Qz283b1/fv3v/zyy4kTJz5vtagNAhCAAAQ+r0BBAypv9eeff6YPr9mzZ4t+yOXySpUqJSUliRyVxN27d83MzA4fPqySr7Lo5ub2nwiojDHxfUJlCP/S4oULF4oVK3b9+vV/qX5UCwEIQAAC/1ygcAH1f//738yZM3lMPXLkiGje0tJSpFUS6enptWvXrlmzplwuV1mlsvgfCqgqPf8Ci+bm5t9+++27d+++QFtoAgIQgAAEPkGg0AE1NzfXxsaGiEqVKvX06VPeZD4BdcWKFUQ0dOhQ5c49evRo+fLlK1asePLkicjnATU5OXn9+vUrV66MiooSqxhjQUFBW7ZsuX379uPHjyUSCV/1/v37bdu2LVu2LDAwUKFQMMZevXq1d+/ezZs3v3jx4v37976+vnfu3AkJCTn+f6/c3NxXr17xpbt37/J6oqKiNmzYsGjRosOHD6scfT59+nTlypWrV6+OjIxkjN27d2///v2+vr6vXr0S3VMfTmho6K5du7y8vBhjL1682Lp164EDB6RSqdhELpcfPXp06dKlu3btyszMFPnJycn+/v67d+9OSUm5c+eOyB8zZgwRrV69WuQgAQEIQAACRUqg0AGVMfbmzZvq1asTUb169dLS0hhj+QTU+vXrE5Gnp6cYto+Pz6+//hoREREWFtasWbPdu3fzVW5ubnXq1Bk9evStW7c8PT3Lli177949vmr16tV+fn5Pnjzx8PAwMzPjYTg+Pr5BgwaXLl2SyWTu7u5DhgxhjCUmJh46dKhEiRJnzpwZOnTo2LFjzczMwsLCbGxsjIyMzp49K5fLX79+PWHChLp16/7555+MsQMHDnTr1i06OjosLMza2nrAgAGiq9u2bWvWrFl4eHhkZGT16tX//vvvJ0+ezJs3j4jOnTvHi2kczuvXr+fMmUNE27dvHz9+/LJly6pWrTpw4EC+iVwu79y584oVK2Qy2blz537++Wd+dfnNmzfDhw9/8ODBjRs32rRp079/f9GTzZs3c3CRgwQEIAABCBQpgU8JqIyx27dvm5iYEFGvXr0UCoW2gJqRkcHPD4v7e1+/fl2qVKlr165xhWvXrpUpU+bt27eMMTc3NxMTk+TkZL6qf//+v/32G0//9NNP/ACUMebs7Hzjxg3G2LBhw0aNGsULyOXy8uXLX7hwgS82bNhwxIgRd+/ePXz4cKtWrRhjjx49yrud6tatW7yAp6fnqVOneLp58+ZWVlY8ffDgQWNjY55+8eKFsbEx72p0dDQRrVmzhjGWmZkpAmo+w3nx4gUROTs789pOnjxpYGDAz9n6+PjUrl1bjKhXr15z5sxhjHl6evr4+PDyb9++7dq1K08zxg4dOkREBgYG2dnZIhMJCEAAAhAoOgKfGFAZYxs3buTBcunSpdoCalxcHC9z+vRpPuaDBw8SkThnm5aWRkTHjh3jAfXHH38UNGvXrjUxMck7+mSM1atXz9bWduPGjX/88UdSUhI/LP7mm29cXV1DP7zu379fqlSpGTNm8M0tLS1btGghquKJjh079u7dmzGmUCg6d+4srunevn376tWrMpksODiYXyHm5b29vY2MjHgHGGNnzpzh7WZlZYmAms9weEC9efMmry0iIiLv1Dc/b9yrV6927drxnj99+tTa2rpJkyZ5wwwICChfvvzs2bOPHTsWGxsbExMjhnDp0iUu+eLFC4O6cksAACAASURBVJGJBAQgAAEIFB2BTw+ojLGhQ4cSkaGhYcmSJTUOKScnx8DAgIgOHjzIC2zYsMHQ0FAcnCkUCgMDg40bN/KAqnyX79atWw0MDDIyMhhjz549s7W1NTU1JaJq1ao9ePCAHyba29vvUHr9/vvvvBVLS8uJEyeqdOnChQuGhoYRERHnz59XPgWdkpIye/bscePGBQQEeHl5Ef3/JgsWLPjmm29UKmGMKQfUfIbDA+rjx495DXwxIiKCMdasWbMmTZoodXzHgQMHeLHly5fXqlWLx85x48aJ1gMDA3nm69evRSYSEIAABCBQdAQKF1Dr16+vfMoxIyOjcePG/INe25B4eNiyZQsvcPbsWSLi53gZY2/fviWiM2fO8IBap04dUc+CBQtq1arFL4vyiJuTk/PXX3/169ePX+asWrWqi4uLKM8YE6eLLS0tFy9erLyKpxs3bjxp0qTBgwfzY03GWE5OTsOGDfkZV8aYn5+fCKg8nZ6eLupRP0LNZzj5BNRBgwYpf3UQPV+/fj1vIi4uzt/fv0yZMuK2r927dxNRxYoVRWeQgAAEIACBIiVQiID68OFDIyMjcazJhxEREVG2bFkRhNTH5uLiQkSTJ0/mq6RSab169cSVwl27dpmbm/MgPX36dAMDg9DQUH5WtlGjRvwu2dTU1AoVKsTHx/Marl+/7ujoyBhbsmRJrVq1xNnjo0eP7tq1i5extLRcsmSJemd27dpVokSJ6dOni1WPHz8mIvHYhM6dOxMRP82bmJhYvnx5cSx7/fr1zZs3M8b4hWF+U1I+w4mKisq7xvz333/ztp4/f05Ez549Y4zduHHDyMgoODiYr4qMjHRycmKMTZ8+XYT2vGLt2rWLi4vjZfgtTmPHjhU9RwICEIAABIqUQEED6pQpU0qWLElERkZG3bt3Vx7DqVOnDAwMlHOU0y9fvjQzM2vUqJHIDA4O/t///rdmzZqVK1e2atVKHISNGzfu1q1bQ4YMWb169aBBg2bMmMF/wSKXy7/99tvhw4evXbvW29vb3t6eB1epVDp69Oi8g2ZXV1dHR8e1a9cyxkJCQkaNGmVsbGxubj5x4sTw8HDRLmNMKpXWqFFDOVMqlbZp0+Z///vf+vXrHRwcrl27VqNGjZ49e165coUx9vvvv5ubmzs4OLi4uAwbNkwqlV68eLFnz55EZG1tvX37dsaYxuHcvHmzbdu2RNSyZcuLFy/+/vvv7dq1I6I2bdrwu5w2btxYvXr1qVOnzpgxY/LkyfyXMwsWLOjSpcuUKVN27Njh7OzMv0/w/rdo0aJ48eL8EqzyiJCGAAQgAIEiIlDQgPpPurtz504iUv5VpVwuDwkJ4RcURc3iZ5rJyclZWVkinzHGH8MUFRUVHh4ubibiBd68efPw4cP3798rl88nrXynjygWHh4eERHBr+ympaXx40i+VqFQREZGPn/+XBRWT2gcjnoxlRyJRPLgwQPla6LJyckKhUIikTx69Ej5WcHh4eEGBgbisF6lHixCAAIQgEBREPgSAZWfnm3Tpo3KMxOKwvj/E33o0aOH8qng/0Sf0UkIQAACX5vAFwqojLGtW7fya5BfG/E/HK+/v7+3t/c/rASbQwACEIDAvy3w5QIqY0zlbO2/PTb9qF/8xEg/hoNRQAACENBXgS8aUPUVEeOCAAQgAAEIIKDiPQABCEAAAhD4DAIIqJ8BEVVAAAIQgAAEChFQ09LSnNVeLi4ua9euFb8l5aBXr1719/ePjo6GLwQgAAEIQOArEShEQM3IyLh79+6ECRP4swZ37dp1//79ffv2VapUSflXkk5OTqdOnVq8eHHx4sXFc4K+Ek0MEwIQgAAEvlqBQgRUbuTk5ERE/Cm7PGfu3LlEVK5cOcZYbm5u2bJl9+3bFx8fn5ep/Kyfr5YYA4cABCAAga9BoNABtWHDhkQ0ZswYoTNlyhT+SEL+qKPZs2fv2rVr+/btZcqUiYqKEsWQgAAEIAABCOixQOECamxsLD/fK6YbS0xMrFq1KhENHjxYMF26dKlZs2YPHz4UOUhAAAIQgAAE9FugcAHV19eXB1Rvb29fX9958+ZVq1atZs2arq6u4um7eVO+uLu7Z2dnp6Sk6LcdRgcBCEAAAhAQAoULqIMGDSIiCwsLPz+/ZcuW1ahRY8WKFaIuxtjGjRtdXFyuXbvm5+e3detW5VVIQwACEIAABPRYoBABVaFQVKxYkYhmz57NRSZOnEhEhw4d4os3btwwNDTkh7DGxsZiFnE95sPQIAABCEAAAlygEAH17t27PFhevnyZbzx9+nQisre3hyYEIAABCEDgKxcoREBdtmwZEZUoUSI7O5ur8TPArVu3ZowlJyd/5ZQYPgQgAAEIfM0ChQioLVq0IKIOHToIr5EjR/JLqhEREVOmTBH5SEAAAhCAAAS+NoECBdRTp041a9aMn+8tWbKkra3tjRs3GGN//fUXv6pqZ2eXmpr6tdlhvBCAAAQgAAEhUKCAKkqrJ+RyuUQiUc9HDgQgAAEIQOCrEvinAfWrwsJgIQABCEAAAtoEEFC1ySAfAhCAAAQgUAiB/yeg8quk+AsBCEAAAhAomgKFiG9fvCgCatF8z6BXEIAABCCgQeCLR8lCNPj/BNRCbIeiEIAABCAAAQgoCSCgKmEgCQEIQAACEPhUAQTUT5XDdhCAAAQgAAElAdWAGh8fP3PmzBEjRty5c0cUu3z58qhRo0aMGLFy5UqR+W8kTp48OXDgQCcnp3+j8iJeZ/v27ePj4wvYSfXCBw8edHd3L+DmBSk2Y8aMwMBA5ZLh4eHdu3dXzmGMffZ2VerPf3HNmjW9evXy8fHJv1g+aw8ePDhgwIA5c+bkU+ZzrfqMbRVq4J+x3U+gkMvlS5cuzfvocHd3v3//vrOzs7ZK0tLSRowY8e7dO20Fvqr8Qu3ir0qmKA9WNaAyxmQyWZMmTb777rukpCTR9V27dnXo0EGhUIgclYRcLr9w4YJK5ics7tu3r3nz5oXd8OzZs4XdpOiUv3btmkwma9y48fv3769fv56Tk5NP39QLv3z58tmzZwEBAXPnzo2NjQ0JCcln84Ksun//flJSkqOj48WLFx8+fPjmzRuJRBIUFBQfH9+yZcvMzEz+nKzP3m5B+qZeZuzYsS4uLur5Bc/ZuHFj+/btC17+n5T8jG0VauCfsd3CDn/Hjh0rVqx4/vx5sWLF/vzzz38poP4nPgGePXv2/PnzggMWahcXvFqU/PcENARUxtjEiRMtLS07deokl8t527Gxsfkfnj59+nTJkiX/vKOnT58ubECVy+XDhg37503rpIbs7GwLCwtbW1t7e/thw4Z99913YWFh2nqisfCmTZu+/fZbJyenESNG1K1bd+rUqdo2L2D+4MGDLS0tBw8ePGPGjG+//Xbfvn337t2rUqWKo6PjoEGDfvvtt19//VWhUHz2dgvYPZVizs7O/zCg+vv7f7GA+hnbKtTAP2O7Kv4fXezWrdu5c+fkcnlkZORHC39ygcGDB3/ytl9sw82bN9+8ebPgzRVqFxe8WpT89wQ0B1RnZ+fQ0NBSpUotWrSIt52QkLBmzRrRj9TU1KCgoDdv3vCc9PT03r17u7i4JCQkZGRk8My0tLRbt249ePBAHNfKZLInT56ISpQTubm5d+7ciYyMVAmoEonk9u3bL168UC4cGRkZGxsrkUhyP7xWrlz522+/JSQkiJNFMpns7t27QUFBmZmZyhtmZmY+e/ZMJpMxxtLT0zMyMiIjIyMiIhhjUqn0xYsXT58+FeU1Ni3WMsb4AOPi4kSmCktCQsLjx48lEolUKn369KmYpUeUF4nz58/b29tv2bJF5OSTUC/8/v37CRMmODo6fvSk8Zs3bxISEl6/fs0nCEpISNA4TVBERISjo+PkyZPF4bJCocg7zhg2bFhQUJDoW0HajYuLu3nz5vv37xljKSkpYWFhvJPp6ekRERHR0dGittjY2OvXr4uP3aysrIiICL4YFxf36tUrUZLvvlu3biUmJqp86Lx69er27dvp6enKhZXT6rtVW7BJSUl59uxZcnKyVCp98uRJVlaWcj08/f79+4QPr4yMjJycHJ4WaKGhodevX1eeGFilLZU3THJyMvdRKBTh4eH8jarSaHp6usaBv3379saNGxr3JmMs/3Z5E8r/ViqN8n+Qu3fvKv+D5OTk3Llzh//7iPIqvImJiY0bNz506FBSUpJEIomOjlb+viiVSkWdMpksJiYmPDxcfIAwxiIjI4OCgrinQqF48eJFcHAwYyw1NTU8PFx8sFy7dq1EiRIJCQniE0llW9699PT0x48f5+TkqD94XJu8imp8fHxISEhOTk5aWlpoaKjoAGNMRUO9wujo6B9++OHkyZMJCQliz6q850U/Ne5i9fc2/0RN/fDi26r8ffPmTWhoqFwuT0tLE6uUVXmm+md1QT67ZDLZ8+fPY2NjGWPh4eH8vSeXy58+faryPFplxnz2ozqj8kd0TEyM8ijEcIpUQmtAZYzt37/f0NDw4sWLjDHlgHr69OmBAwdev3596tSpXl5ejLFDhw798ssvbdu2dXd35x+4ee8bR0fHK1euTJs2zc7Ojo/52LFjBgYG6u/mzMzM1q1be3l5bdy4cfDgweII9c8//xwwYMCjR4/yZo5buHAhr2TBggWHDh3atGlT/fr1o6Ki7ty507t3b3Nzc3d393379jHGnj9/3q9fv8DAwO3bt9euXVt8nF25cqVLly5nzpyZMWPGggULdu/eHR4e3qdPH95cYmKio6NjhQoVeCsam1becydPnrS3t79169bgwYOPHTvGGFNnOXHiRKVKlVauXDl58mQHB4eKFStGRUUpV8LTz549MzExiYmJqVSp0smTJ9ULKOdoLDxkyJDx48d7e3v/8ssvyoXV087OzkS0YcMGxtixY8cqVKiwe/du9WLVq1c/cOBA3759xfXsHTt21K9fP29fmJiYJCYm8k0+2u6CBQvmzp1748aN1q1bP3/+/Pr16z/++CM/oAwODraxsenbty+vat68eatWrbp69Wr79u2XL1/OGIuLixs5cmSTJk3WrFkzY8aMBg0aiM6EhIQ0a9YsICBgwYIFHTp0EEeo7u7urq6u165d69Onz++//64+Lo27VSXYiK2CgoIaNGjg7Ow8Y8aM5cuXN2zYMDQ0VKzliZs3b1avXr1Dhw5hYWFxcXGdOnWysbGJi4vLzs7u37///v37T58+bWFhcfXqVV5euS31N8yNGzesra1dXFwWLVrUrl079ZMN2ga+ffv2WbNmhYSEDBkyROPJz/zbZYyp/FupDDMsLKxz586XLl1aunTpzJkzGWMRERGdOnU6f/78xo0bhw0bxk9lqfNu3bq1WrVqDg4Ou3btCgkJGTNmjJGREa9cpc7k5OSVK1caGhryYziFQsG3unPnTqdOnaKjo6VS6Zo1a4hoz549Tk5Otra2v/76a25u7tu3b52cnAwMDNzd3ZctW5Y3FvVtGWN3795dvHjxiRMnxo0bN2rUKJUBapRXV923b1+JEiXWrVs3b968qVOntmnThod/dQ31ClevXl2uXLm8pt3d3fm3cPX3PGNM2y5Wf2+npqbOmDHj1KlTCxcu/Pnnn1VGxBjbvXv3tm3bAgICbG1tfX19tclo/KwuyGdXSkpK9+7de/fuPWfOnNGjR5crV+7atWsTJkwYMGBA9erVxee8CqO2/ajxTRUeHu7g4NC8efOAgIChQ4c2btxYfZhFKie/gMoYmzBhQsWKFV+9eiUCanp6esWKFfkbQiaTVatWjX/KODg4KJ/y7dGjx/Tp0/kVWSLix45SqfTvv/9WH/+iRYsGDRrE82fOnCkCar169f766y+eX6NGjfDw8Li4uNGjR/OczZs38zunlD8sGGMeHh7i7dWyZcvjx48zxrKzsytXrnz//n3GWGZmZokSJS5dusQYO378uGguIiJCBFT1ppW7nZKSUr58+ZiYmLyvZoMHD544caI2lp49e/bv359va29v7+npqVwPT+fm5j579ox/p1Y5pC5g4ZcvX6anp0ulUuWv/+rb8pyffvpp//79jLGsrCw3NzeNxfi32rwrqQkJCbxAamoq/yr6+PFjsUn+7V67ds3CwoJ/i//2228PHTrEGJs2bZqIfzt27BABtWzZsidOnGCMXbp06aeffuJNPHz40NDQkLcYFhZWrlw5Xlvbtm23bt3KyzRt2pRXePv27Xr16vHM4ODgWrVq5ebmiq7yhMbdqvL+Ud5k9uzZFhYWPFqsXr1afDVULrNt27ZWrVrxHHd3d6704MEDAwODlJSUvH8BNze3adOm8QKiLW1vmM2bN9vZ2V25csXX13fPnj3KDTHGNA48Ojq6cuXK/DAuPDy8Zs2aykdOBWlX47+VctNt2rTZu3cvY2z79u0NGzZkjNnZ2fHvr4yx3r1779ixgzGmkfenn37i/2uMsVevXomAql5n3pF0nTp1eEDdv39/586deR+2b98+dOhQni5btuymTZsYY3K5vHr16vzzRLlafiSgvu3YsWP5P2zeiQRHR0fl0fG0irw21WbNmjk4OPBNunTpsmLFCm0aKhUqj06MRf09r3EXa3xv79u3T7xDRo4cqT6irl278rfukydP+PlFjaoaP6sZYwX57AoICChdujS/22b06NGNGzfm78M2bdrk3a7IGNPGqHE/anxTPX36tEmTJt7e3vfu3eNf5tRHWnRyPhJQs7Oz//e//7Vo0SImJobvktu3b5crV04MwNramv8vqQTUd+/eRUdH+/n5rV27lojEMY3YUDnRsWPHefPm8ZwjR47wCBcbG0tE8+fPX7FixeLFi01NTffs2SOXy+vXr9+sWbNp06adOnWKbyI+pPiiVCp9+fLliRMn1q5dW6dOncOHDzPGbt68SUTiXFyDBg2uXbumLaBqbFq5w5cuXapWrRrPyczMlEql2lh69uy5ceNGXnLu3LkilijX9oXT+/bt4weye/bsCQ8P//dad3Nzs7e35/WLczXaAmpcXFxYWJi3tze/fs+3evjwYcWKFXlaKpUSUVZWllwuNzU1vXz5Ms+fPHkyV12+fHnv3r15Zk5ODhGpnI3UtltV3j+8Bv7XxcVFHM1cunSpWLFiCoUiLS3N5cPr3Llz/HtJpUqV/vzzz5ycHOVjypcvX96+fdvDw8POzm7SpEm8QtGWtjfMli1bqlWrph4ReQjROPC9e/dWqVJlxYfXhAkTiIhHDt5iQdrV+G8lNs/OzjYyMuLf1RQKRXp6Ot8F/Oxr3tnguXPnDhkyRBuvxoCqXidvTgTUMWPGtGjRYsWHl52dXe3atXmBsmXLitvurK2t+S5QCagat927d2+FChUGDBiwatUq5cs0vFrGmIq8NtXmzZuLkzpubm4dOnTQqKFeoXpAVX/PF+q9HRYWVr58+U6dOrm5ufFDBTEWnhg7dmydOnUcHBy2b9/Ov6lrlNH2WV2Qz66AgIAWLVrw5vKOvMeOHcvTAwcO5BewtDGq70dtjKGhoUZGRtquFaoMWeeLHwmojLGoqKhvvvlmwIABPKD++eefZcqUEf3+9ddfOZwIqPys5saNGwcOHBgdHZ2bm/vRgNqpU6dZs2bxOvfu3csD6qtXr4iIf98XzSUlJT1//tzHx2f06NFVqlTZvn278vWhhISErKysmzdvtm3b9o8//mCMtWrVigfU27dvE5G4PGNhYcED6smTJ8UR6qNHj/gRqsamRR8YY2fOnBEBledrY+nZsyf/wsGPVIpCQM3Nzf3+++8vXbokzqIrD+0zpmfOnCkCqqjWyclJIGzYsIEfoebm5o4cOXL+/PlpaWmXL1+2tLTk5R8+fFi9enWelslkPKAqFAozMzPxk54xY8bwCleuXNmjRw9eWCKREJHKGVptu1UEOdFJkXBxcRkzZgxfvHTpEn/nv3//fsWH1/Xr1/mqhQsX9uvXb8+ePfxdxy+RtG3bNiAgIO8q/7x589QDqrY3zJYtW7TdIaVt4P7+/j/88APviba/Yowa29X4byWqSk9PJyLlkx+8Jw8ePOBlZs6cOXDgQG28GgOqep28KhFQHRwchLzoCWOsbNmy4ntSy5YtVQKqVCqNjY3VuG14ePjt27fd3d3btm373XffiauYonIVeW2qzZs35wfr/D+6R48eGjV4QFXZlWJ0UVFRGt/z2naxxvc2v8Ng3bp1ffv2LV26tHrIefr06fHjx6dPn96wYUN+05ZGGW2f1QX57AoICGjTpg03dHd3F4f+IqBqY1Tfj9oYQ0NDTUxMNH7FFPuu6CQ0B9TWrVtLpVLRy5MnTxoYGPCAmpmZWa1aNf6elkgk5cqV40c5jo6Os2fPZoytXbtWIpEYGRk9fPiQMRYUFERE/GaB9PR0jdcI161b99tvv/Hmhg8f3qxZM562tLTkJycZY3/++ee9e/eCgoLEUf8ff/zB0wEBAXwTb2/v7OxsKyur9evX8/tWypcvz888SCSSihUr8ktZr1+/NjY25gH1/v37VapU4Ueuy5YtK1++vLamhUbemfA3b96UKlWKf17L5XJfX19tLAV5UyrXLNJ37twRH1gis+CJV69eiZCjvpW3t3fdunXPnz+vvuoz5gQGBopPrvj4eH5tb926dfw4Ui6X29nZ9enThzF2/vz5smXL8qaXLVvWoEEDntYYUBlj3bt3nz9/Pr+FoW7duvyNd//+/Vq1avFzXDdu3DA3N+dp5RGpv6OUv5Apl+RpFxeXRo0a8fTKlSvFEbBKycTExFKlSg0ZMkTku7q69uzZky927NhxwoQJPC0Cm7Y3zJYtW7p27SrqUUloHHhMTEzp0qXFUamfn5/44ig2z79djf9WYlvGWNOmTbdt28Zzdu7cyc8Him+K7dq18/PzY4xp5NUYUDXWqXwMd/jw4fr16/M9qFAoNm/ezFtX/yDmX18MDAwkEsn9+/evXr2qcdvevXuLW5Y6d+7M75JTHqOKvDbV5s2bT5kyhW/YqVMnfhOJ8r+50FCpkJ8SP3v2rFQq9fLy0vae17iLNb63ly1bdubMGd6TFStWiLQY1G+//cYBZTKZjY1N3g5Sl9H2Wa2yi93c3MT3YFF/3og+GlC1MWrcjxoZQ0NDS5YsqdxoUU6rBtS4uLjOnTsTUevWrZVv65g1axYPqIyxq1ev9ujRg18l3rVrFx/euXPnvvvuu4kTJ16+fFmhULRs2XLkyJGbN29evXq1jY3NkCFDnj9/fuLECUNDQ/UbEbOzswcNGtS/f38nJycfH58SJUrwZxQEBwc3adKE32uwbt06xtjjx49/+eWXpUuXBgQETJ06lR8Nx8XF1axZc8yYMfy/bs6cOVZWVr6+vnPnznVycrKxsbnw4QeyZ86c+fHHH5ctWzZ37tw6derwgMoYs7e3//nnnydMmHDp0iVDQ8NZs2ZJpVL1plX24pEjR3799VdPT88JEyY8evRII4ufn1/VqlVbtGgRFBQUGBjYsGHDevXqafxKoVI5vyqTd6eVen4Bc1asWEFEL1++1Fg+MzPT2tr6C3zpc3V1tbOz8/b2Hjt2LL/zNikpqVGjRh07dnR2dt6xY0elSpXyzjfExMRUrVp11YfX9u3bq1Wr5uLiEh0dPXDgQENDw3nz5kkkkkmTJhHR+PHjU1NTo6OjraysJk6cOHPmzPnz55ubmwcEBOQdvqxfv37MmDH79+/v2rXrvXv31MeuvlsvXrzYunXrypUr8y9hKpu4uLh07drV2dl55cqVVlZWyvckq5R0dHQUBy78DrUaNWrs3Llz/vz5np6etWvX3rZtm0pb6v9Hp06datWqVdWqVRcuXChuplNuSNvADxw48Ouvv65du9bNzU39DfbRdjX+Wym3GxIS0qRJk8WLF8+fP58PMyYmpnPnzn5+fm5ubpMnT+bvJXXe5cuXlypVys7OzsfHJyIiYtSoUUQ0e/bspKQklTqlUum8efOKFSs2YMAAfgJz5syZdnZ2Xl5eTk5O/CaD2bNnGxgY2Nvbx8bGbtiwoXTp0nZ2dsHBwQqFom3btt26dZsxYwYPIerbDho0yNHR0c/Pb+PGjeKjTIxRo7xG1ebNm+ed2HR3d58xY0aPHj34ka66hsYK3d3df/nlF0dHx9jYWI3v+bzDVm27WP297e3t3aNHDy8vr927d0+bNk1czxKDaty48cyZM/fv379o0aLTp0/zfBUZbZ/VBfnsevLkia2tbfny5f38/K5du9a4ceMffvghMDDwwIED1atXb968OT+mUmfUth/VGYODg4cNG2ZgYDB79uy7d++KoRXZhGpALWBHZTKZyg3u/MYfcVwrl8sjIiL4jV65ubni67PGjwneaEZGhvohhUKhiIqK4jd38FucsrKyMjIyVH5UIJfLlb+Vx3548WpfvnwpquW/xOBfpUVA5cey6tFFpWl1GalUGh4ervxrCo0s6hsWJCcnJ+cfPr5nyZIl4ndEKi1GRUXxQwqV/H9j8f379xEREWIX8CbUjw+ysrLCwsL4L4skEkk+7xPRSR6hxSJP8PeG+u1IothHd6somXd91MXFZdKkSdnZ2epDUC7Gf8ihchbx3bt3kZGRfOBv3rxRfn+KbT/tDaNx4Dk5OeHh4R+9qY03rdKuTCbT+G8l+slvEFX+T+SroqOjlR//oq2Ycj3K6Y/ui7S0tI/KiwpVWFS25Wujo6ML8tYSdaqrNm/e/PDhw+/evROfaaKwuoZYJRISiUR81OTznlcZC99c5b3NyyQmJr74f39VKNpKT0+XyWQREREqP2JRkdH2WS3q+ecJdcZ86iwIYz6b63bVJwZU3Xb6H7Yuk8lq1qx55MiRf1jPv7r5wYMHlZ/+WNi27t+/L86WK2/buHHjO3fuuLi4iK8+ymuRVhGYNGnSf/eZISpjweI/F1AoFI0aNfonj7r8531ADUVZ4GsMqPyxoosWLfroYxB0uOfEPrPtQgAACORJREFUQfmn9UHb5rt37164cKHKUcWnNaH3W50/fz7vvi13d3f1q1N6P3YMUKNA3o+13N3dFy1axK/yaCyDzK9Z4GsMqF/z/sbYIQABCEDgXxJAQP2XYFEtBCAAAQh8XQIIqF/X/sZoIQABCEDgXxL4EgE1NzdX/XHJ6uNRuRFUvQDP+WhtGgsoPxtF/RZTbW2p5L99+zb/2Zc0FtDYH15zAYes0o0vtjh79ux/cmPUF+snGoIABCBQFAT+9YAaExPTqVOnffv2TZs2bdWqVepjTkxMPHPmzMCBA/lP9dULKOd8tDZtBYyNjcuVK9egQYOGDRuK5wMr1/zR9PLly6dPn753794ePXpofMa9xgIa+8OnFJ01a5bGZ8N+tCf/XgGV56rPmjWriARUlY79ewKoGQIQgMAnC/zrAXXw4MF8vhrGmLW1NX/GgnJ3g4ODAwICrKystD2oXbnwR2vTWCDvwaFLliy5dOnShQsX1B8roVy/tvSzZ8/EA9AvXrwoHl8pymsroLE/CQkJAQEBo0aNatmypaihKCSK7KSSRbZjRWGvoQ8QgEAREdAcUBUKxbNnz/jPgfnPh+Pi4p4+fcofcZ6YmPjs2TPl592rT7DHh5eYmGhsbCxOsc6ZM0f94a685LRp0z4aUD9am7YCb968OXr0aD7iH50ldNq0aTNmzOA1ZGdn5z2uRfnRpnwSFfUC2vrD6zl+/LjGgKptCkCVmSb5Yy6ePHmS+uHFZ9GJiIjgvzcPDw9X+eWM+j5Sno2SMaYyqWR8fHxkZCTfy/nM+qk+9axEIgkLC3v37p1MJgsJCeEPvsjIyAgNDVV53oJylxT/eLZLroq/EIAABHQloCGgxsTEtG/f/uDBg+vWrVu0aBGfhHLXrl2lSpXij6IODAysWbOmt7e3tgn2xGBu376d9xxBsbhhw4Yff/xRLConChJQP1qbtgKhoaFDhw7NmzCyX79+ixcvVnmiTd6Tkj46S2jHjh2Vz1eXL19e5bkQGgto6w8fuLaAqnEKQPWZJtVnQ4yKiurVq1fnzp3d3NzWrFnTpEkTPmOaxukhVWajVJ9Ucvv27TVr1uRT8mmb9VPj1LMhISEWFhZz5syZPHly3iMq69Wrd/369fHjx7ds2VI8pVa9S9pmSVTvmPq2ym8kpCEAAQjoSkBDQO3Zsyd/cG7eUUubNm3EgeNPP/3EA2reTLBDhgzhAVXjBHtiMEePHlWemmbbtm21atUSa5UTBQmoH61NWwEPDw/+BP/c3Fw7OzvxeH3lDuQ/S2ijRo08PDxE+WrVqqk8uk9jAW394fVoC6iMMfUpANVnmtQ4G+LZs2eNjY35o8ju3LnzzTffZGZmatxH6rNRqsyBlTd7pZhBiDGmcdZPjVPP5j2s3NHR0dramg+zTp0648eP5wfQpqam/AHlGrvE5xL5tNkuxa5BAgIQgICuBFQDqlwuL1asmLjSmTdLBn9Ofd7UoRoDqsYJ9sRgzp8/b2pqKha9vb3F3B0ikycKElA/Wpu2AlKpVNxPu2vXLjGljHIf8p8l1MrKKu/5SqJ8hQoVVM4hayygrT+8nnwCqsoUgBpnmtQ4G+K5c+fEI/WlUqmBgcGtW7fU95HG2SjzD6hZWVnqs35qnHqWB1TxIOI2bdqImairVKnCp+hR7xI3UZ8lUWVWasaYtm3F3kECAhCAgE4ENARUU1NTMfPXuHHjRED95ZdfxBFqnz59+BGqxgn2xEji4+MNDAzE5NJubm5Dhw4Va5UTBQmoH61NW4FBgwaJJ7IGBASImcKUO5D/LKGOjo781DefMszQ0DAyMlJ5c40FtPWHb5h/QFWeAlDjTJMaZ0M8d+6cmBqTB9QHDx6o7yONs1GKgMonlVQ5QmWMqc/6qXHqWR5QxdumTZs2fCqYvBkiRUBV7xI30Tipk0rHtG2rvDuQhgAEIPDlBVQDKmOsc+fOCxYs4F3JO6AUn4zdu3fnk/8lJiZWq1Ztw4YNGifYUxlDly5dRHi2sbHhczJHRkb++eefyiVVAqq26Tw/WpvGAt26dRN3Gjs7Ow8fPly5aZHOZ5bQv/76S8xDfu3aNT65IGPs5s2bfIo0bQU09oe3mH9AVZkCUH2mSY2zIZ47d87ExCQhIYHPIJs3D1pWVpb6JIgaZ6NMSEhQnlRSPaCqz/qpcerZggRUjV3SNn20Ssc0bpuWliYmqBI7FAkIQAACX1JAQ0CNjIxs1KiRm5vbzJkzu3TpIgJqUFBQjRo1BgwYsHLlyqlTp/7yyy88OqpMsKfS+9jY2G7duu3du3fu3LliGsKJEydaWVnxkhEREYsXL65du3bjxo2XLFkSHBzMGNM2nedHa9NY4NGjR/PmzTty5MjSpUvt7e21TWqW/yyh69atmzp1akBAQL9+/cTMTQ0bNnR1deUD0VhAY3+kUumSJUvatm1brly5BQsWnDp1ShktWNMUgOozTWqcDfHcuXMWFhYuLi7r1q1r2bKlOHWvvo9UZqPk95cpTyq5c+dOc3Pzpk2bHjt2THRPZdZPjVPPBgYG1q1bt3Hjxjdu3NixY0e5cuXat2//5MmTRYsWGRoaDho0iN9+rN4lbbMkFmS2y/+vvbM5gRAGovDFQrxbkTWINQSswSJEC7ATIdhD8KggzgrCECYxugtxQd5tgsn8fB4GNfG1bZskiVf0ipOHAQIgAAJRCXgaKhEdCnnLshRFwQ2ViNZ19co6CoE9kfG2bVpr+wDoPM/8HlhM5uGZnOelN3fCccKE9Vk5hDAuVUKNMVprljMkImOMvWfYnXA0KlG+iHtzKMQjvWqIfd9nWbbvGhvH0RZqJSL3HgmHRxrhnjRNk13v/kXzTHr2TlFuSoFVIjF37Vc6l4FAuAQCIAACvxHwN1T2led5WZY8fMw4k/OMlMBrVEK7rkvTVBz3jAQNbkEABEAABGwCoYbaNM3+eKqUEt877fWRbPFTgkhR2O07VEKHYaiqSilV1zWXBgMEQAAEQOAZAqGG+kwGiAICIAACIAACLyCAhvqCm4gSQAAEQAAE/k/gA+o77hkeqgJjAAAAAElFTkSuQmCC)"
   ]
  },
  {
   "cell_type": "markdown",
   "metadata": {
    "id": "S8qxsEgofaDg"
   },
   "source": [
    "#3.\n",
    "Enfoque de Validación: Ahora para cada modelo estime el salario\n",
    "predicho de testeo (salario_semanal_test sombrerito) usando las\n",
    "observaciones separadas de testeo y los coeficientes estimados en el\n",
    "apartado anterior. Reporte y comente las siguientes métricas de testo\n",
    "para cada modelo:"
   ]
  },
  {
   "cell_type": "code",
   "execution_count": 77,
   "metadata": {
    "id": "M4bgNuUwfl3-"
   },
   "outputs": [
    {
     "name": "stdout",
     "output_type": "stream",
     "text": [
      "RMSE (test): 1271936.9382751521\n",
      "MAE (test): 703918.7675682709\n",
      "MSE (test): 1617823574948.7683\n"
     ]
    }
   ],
   "source": [
    "#MODELO 1\n",
    "X1t = edad.loc[X_test.index]\n",
    "y1t = salario_semanal.loc[y_test.index] \n",
    "\n",
    "lreg.fit(X1t,y1t)\n",
    "y1t_pred_lreg=lreg.predict(X1t)\n",
    "ecm_lreg = mean_squared_error(y1t, y1t_pred_lreg)\n",
    "rmse = np.sqrt(mean_squared_error(y1t, y1t_pred_lreg))\n",
    "print('RMSE (test):', rmse)\n",
    "mae = mean_absolute_error(y1t, y1t_pred_lreg)\n",
    "print('MAE (test):', mae)\n",
    "print('MSE (test):', ecm_lreg)\n"
   ]
  },
  {
   "cell_type": "code",
   "execution_count": 81,
   "metadata": {},
   "outputs": [
    {
     "name": "stdout",
     "output_type": "stream",
     "text": [
      "RMSE (test): 1227201.5632136017\n",
      "MAE (test): 657471.7044227304\n",
      "MSE (test): 1506023676753.9075\n"
     ]
    }
   ],
   "source": [
    "#MODELO 2 \n",
    "X2t = pd.concat([edad2.loc[X_test.index],\n",
    "                edad.loc[X_test.index]], axis=1)\n",
    "lreg.fit(X2t,y1t)\n",
    "y1t_pred_lreg=lreg.predict(X2t)\n",
    "ecm_lreg = mean_squared_error(y1t, y1t_pred_lreg)\n",
    "rmse = np.sqrt(mean_squared_error(y1t, y1t_pred_lreg))\n",
    "print('RMSE (test):', rmse)\n",
    "mae = mean_absolute_error(y1t, y1t_pred_lreg)\n",
    "print('MAE (test):', mae)\n",
    "print('MSE (test):', ecm_lreg)"
   ]
  },
  {
   "cell_type": "code",
   "execution_count": 94,
   "metadata": {},
   "outputs": [
    {
     "name": "stdout",
     "output_type": "stream",
     "text": [
      "RMSE (test): 1225855.6443011954\n",
      "MAE (test): 664552.1892692108\n",
      "MSE (test): 1502722060665.099\n"
     ]
    }
   ],
   "source": [
    "#modelo 3 \n",
    "X3t = pd.concat([educ.loc[X_test.index],\n",
    "                 edad2.loc[X_test.index],\n",
    "                 edad.loc[X_test.index]], axis=1) \n",
    "\n",
    "lreg.fit(X3t,y1t)\n",
    "y1t_pred_lreg=lreg.predict(X3t)\n",
    "ecm_lreg = mean_squared_error(y1t, y1t_pred_lreg)\n",
    "rmse = np.sqrt(mean_squared_error(y1t, y1t_pred_lreg))\n",
    "mae = mean_absolute_error(y1t, y1t_pred_lreg) \n",
    "print('RMSE (test):', rmse)\n",
    "print('MAE (test):', mae)\n",
    "print('MSE (test):', ecm_lreg)"
   ]
  },
  {
   "cell_type": "code",
   "execution_count": 115,
   "metadata": {},
   "outputs": [
    {
     "name": "stdout",
     "output_type": "stream",
     "text": [
      "RMSE (test): 1222856.9389583778\n",
      "MAE (test): 675634.2862115762\n",
      "MSE (test): 1495379093158.6538\n"
     ]
    }
   ],
   "source": [
    "#modelo 4 \n",
    "X4t = pd.concat([ultimo_df['CH04'].loc[X_test.index].to_frame(),\n",
    "                educ.loc[X_test.index],\n",
    "                edad2.loc[X_test.index],\n",
    "                edad.loc[X_test.index]],axis=1)\n",
    "\n",
    "lreg.fit(X4t,y1t)\n",
    "y1t_pred_lreg=lreg.predict(X4t)\n",
    "ecm_lreg = mean_squared_error(y1t, y1t_pred_lreg)\n",
    "rmse = np.sqrt(mean_squared_error(y1t, y1t_pred_lreg))\n",
    "mae = mean_absolute_error(y1t, y1t_pred_lreg) \n",
    "print('RMSE (test):', rmse)\n",
    "print('MAE (test):', mae)\n",
    "print('MSE (test):', ecm_lreg)"
   ]
  },
  {
   "cell_type": "code",
   "execution_count": 113,
   "metadata": {},
   "outputs": [
    {
     "name": "stdout",
     "output_type": "stream",
     "text": [
      "RMSE (test): 1219691.927118772\n",
      "MAE (test): 680804.3373635283\n",
      "MSE (test): 1487648397078.7036\n"
     ]
    }
   ],
   "source": [
    "#MODELO 5\n",
    "X5t = pd.concat([\n",
    "    alfabeto.loc[X_test.index],\n",
    "    estado_civil.loc[X_test.index],\n",
    "    #Usamos.to_frame para poder meterlo en el index\n",
    "    ultimo_df['CH04'].loc[X_test.index].to_frame(),\n",
    "    educ.loc[X_test.index],\n",
    "    edad2.loc[X_test.index],\n",
    "    edad.loc[X_test.index]\n",
    "], axis=1) \n",
    "\n",
    "lreg.fit(X5t,y1t)\n",
    "y1t_pred_lreg=lreg.predict(X5t)\n",
    "ecm_lreg = mean_squared_error(y1t, y1t_pred_lreg)\n",
    "rmse = np.sqrt(mean_squared_error(y1t, y1t_pred_lreg))\n",
    "mae = mean_absolute_error(y1t, y1t_pred_lreg) \n",
    "print('RMSE (test):', rmse)\n",
    "print('MAE (test):', mae)\n",
    "print('MSE (test):', ecm_lreg)"
   ]
  },
  {
   "cell_type": "markdown",
   "metadata": {
    "id": "BBkW97b-f1O-"
   },
   "source": [
    "#4.\n",
    "Opcional: Para el modelo de mejor performance, ilustre la predicción\n",
    "de salarios (salario_semanal_hat_test) en un grafico de dispersión con\n",
    "salario_semanal en el eje vertical y edad en el eje horizontal usando la\n",
    "base de testeo. Comente brevemente el gráfico.\n"
   ]
  },
  {
   "cell_type": "code",
   "execution_count": 154,
   "metadata": {
    "id": "0kBgVa9sf7D-"
   },
   "outputs": [],
   "source": []
  },
  {
   "cell_type": "markdown",
   "metadata": {
    "id": "YRFeW0Zgf749"
   },
   "source": [
    "#C.\n",
    "Métodos de Clasificación y Performance"
   ]
  },
  {
   "cell_type": "markdown",
   "metadata": {
    "id": "qThn1-VdgCzN"
   },
   "source": [
    "#5.\n",
    "Implementen los métodos de regresión logistica (logit) y vecinos\n",
    "cercanos (KNN) con K=5 usando en la base de entrenamiento. Luego,\n",
    "usando la base de testeo, reporte la matriz de confusión para p>0.5, la\n",
    "curva ROC, los valores de AUC y de Accuracy de testeo de cada uno.\n",
    "¿Cuál de los métodos predice mejor en cada año? Justifiquen\n",
    "detalladamente utilizando las medidas de perfomance mencionadas\n",
    "arribas."
   ]
  },
  {
   "cell_type": "code",
   "execution_count": 155,
   "metadata": {
    "colab": {
     "base_uri": "https://localhost:8080/"
    },
    "id": "rjhcv9W68WP9",
    "outputId": "818bcfdc-f1bb-4c3a-f0cd-775420289f6f"
   },
   "outputs": [
    {
     "name": "stderr",
     "output_type": "stream",
     "text": [
      "/usr/local/lib/python3.11/dist-packages/sklearn/linear_model/_logistic.py:465: ConvergenceWarning: lbfgs failed to converge (status=1):\n",
      "STOP: TOTAL NO. OF ITERATIONS REACHED LIMIT.\n",
      "\n",
      "Increase the number of iterations (max_iter) or scale the data as shown in:\n",
      "    https://scikit-learn.org/stable/modules/preprocessing.html\n",
      "Please also refer to the documentation for alternative solver options:\n",
      "    https://scikit-learn.org/stable/modules/linear_model.html#logistic-regression\n",
      "  n_iter_i = _check_optimize_result(\n"
     ]
    }
   ],
   "source": [
    "#Aplicamos el metodo de regresion lineal\n",
    "log_reg = LogisticRegression(penalty=None).fit(X_train, y_train)\n",
    "\n",
    "#Tratamos de predecir p sombrero con nuestros datos\n",
    "y_train_pred_score = log_reg.predict_proba(X_train)[:,1]\n",
    "y_train_pred = log_reg.predict(X_train)"
   ]
  },
  {
   "cell_type": "code",
   "execution_count": 156,
   "metadata": {
    "colab": {
     "base_uri": "https://localhost:8080/"
    },
    "id": "U0NB4xGPOuAb",
    "outputId": "62231b17-fb39-4eb0-e739-8204e855e5be"
   },
   "outputs": [
    {
     "name": "stdout",
     "output_type": "stream",
     "text": [
      "(2432, 12)\n",
      "(2432,)\n"
     ]
    }
   ],
   "source": [
    "print(X_train.shape)\n",
    "print(y_train.shape)"
   ]
  },
  {
   "cell_type": "code",
   "execution_count": 157,
   "metadata": {
    "colab": {
     "base_uri": "https://localhost:8080/"
    },
    "id": "1lPIZKQk9a1u",
    "outputId": "49ad67e8-e897-43d6-e325-a90fabdbfaa3"
   },
   "outputs": [
    {
     "name": "stdout",
     "output_type": "stream",
     "text": [
      "Accuracy Test: 0.997944\n",
      "Recall Test: 0.995995\n"
     ]
    }
   ],
   "source": [
    "#Miramos que tan cercano es nuestro modelo a el valor real\n",
    "accuracy = accuracy_score(y_train, y_train_pred)\n",
    "print('Accuracy Test: %f' % accuracy)\n",
    "\n",
    "#Para hacer el recall usamos average por la cantidad de clases que tenemos, usamos macro para que calcule el recall para cada clase y lo promedie\n",
    "recall = recall_score(y_train, y_train_pred, average='macro')\n",
    "print('Recall Test: %f' % recall)"
   ]
  },
  {
   "cell_type": "code",
   "execution_count": 158,
   "metadata": {
    "colab": {
     "base_uri": "https://localhost:8080/",
     "height": 81
    },
    "id": "Ll88BViXgItt",
    "outputId": "3d5fce81-a54e-4e72-d1c5-e0e2669dbc6a"
   },
   "outputs": [
    {
     "data": {
      "text/html": [
       "<style>#sk-container-id-3 {\n",
       "  /* Definition of color scheme common for light and dark mode */\n",
       "  --sklearn-color-text: #000;\n",
       "  --sklearn-color-text-muted: #666;\n",
       "  --sklearn-color-line: gray;\n",
       "  /* Definition of color scheme for unfitted estimators */\n",
       "  --sklearn-color-unfitted-level-0: #fff5e6;\n",
       "  --sklearn-color-unfitted-level-1: #f6e4d2;\n",
       "  --sklearn-color-unfitted-level-2: #ffe0b3;\n",
       "  --sklearn-color-unfitted-level-3: chocolate;\n",
       "  /* Definition of color scheme for fitted estimators */\n",
       "  --sklearn-color-fitted-level-0: #f0f8ff;\n",
       "  --sklearn-color-fitted-level-1: #d4ebff;\n",
       "  --sklearn-color-fitted-level-2: #b3dbfd;\n",
       "  --sklearn-color-fitted-level-3: cornflowerblue;\n",
       "\n",
       "  /* Specific color for light theme */\n",
       "  --sklearn-color-text-on-default-background: var(--sg-text-color, var(--theme-code-foreground, var(--jp-content-font-color1, black)));\n",
       "  --sklearn-color-background: var(--sg-background-color, var(--theme-background, var(--jp-layout-color0, white)));\n",
       "  --sklearn-color-border-box: var(--sg-text-color, var(--theme-code-foreground, var(--jp-content-font-color1, black)));\n",
       "  --sklearn-color-icon: #696969;\n",
       "\n",
       "  @media (prefers-color-scheme: dark) {\n",
       "    /* Redefinition of color scheme for dark theme */\n",
       "    --sklearn-color-text-on-default-background: var(--sg-text-color, var(--theme-code-foreground, var(--jp-content-font-color1, white)));\n",
       "    --sklearn-color-background: var(--sg-background-color, var(--theme-background, var(--jp-layout-color0, #111)));\n",
       "    --sklearn-color-border-box: var(--sg-text-color, var(--theme-code-foreground, var(--jp-content-font-color1, white)));\n",
       "    --sklearn-color-icon: #878787;\n",
       "  }\n",
       "}\n",
       "\n",
       "#sk-container-id-3 {\n",
       "  color: var(--sklearn-color-text);\n",
       "}\n",
       "\n",
       "#sk-container-id-3 pre {\n",
       "  padding: 0;\n",
       "}\n",
       "\n",
       "#sk-container-id-3 input.sk-hidden--visually {\n",
       "  border: 0;\n",
       "  clip: rect(1px 1px 1px 1px);\n",
       "  clip: rect(1px, 1px, 1px, 1px);\n",
       "  height: 1px;\n",
       "  margin: -1px;\n",
       "  overflow: hidden;\n",
       "  padding: 0;\n",
       "  position: absolute;\n",
       "  width: 1px;\n",
       "}\n",
       "\n",
       "#sk-container-id-3 div.sk-dashed-wrapped {\n",
       "  border: 1px dashed var(--sklearn-color-line);\n",
       "  margin: 0 0.4em 0.5em 0.4em;\n",
       "  box-sizing: border-box;\n",
       "  padding-bottom: 0.4em;\n",
       "  background-color: var(--sklearn-color-background);\n",
       "}\n",
       "\n",
       "#sk-container-id-3 div.sk-container {\n",
       "  /* jupyter's `normalize.less` sets `[hidden] { display: none; }`\n",
       "     but bootstrap.min.css set `[hidden] { display: none !important; }`\n",
       "     so we also need the `!important` here to be able to override the\n",
       "     default hidden behavior on the sphinx rendered scikit-learn.org.\n",
       "     See: https://github.com/scikit-learn/scikit-learn/issues/21755 */\n",
       "  display: inline-block !important;\n",
       "  position: relative;\n",
       "}\n",
       "\n",
       "#sk-container-id-3 div.sk-text-repr-fallback {\n",
       "  display: none;\n",
       "}\n",
       "\n",
       "div.sk-parallel-item,\n",
       "div.sk-serial,\n",
       "div.sk-item {\n",
       "  /* draw centered vertical line to link estimators */\n",
       "  background-image: linear-gradient(var(--sklearn-color-text-on-default-background), var(--sklearn-color-text-on-default-background));\n",
       "  background-size: 2px 100%;\n",
       "  background-repeat: no-repeat;\n",
       "  background-position: center center;\n",
       "}\n",
       "\n",
       "/* Parallel-specific style estimator block */\n",
       "\n",
       "#sk-container-id-3 div.sk-parallel-item::after {\n",
       "  content: \"\";\n",
       "  width: 100%;\n",
       "  border-bottom: 2px solid var(--sklearn-color-text-on-default-background);\n",
       "  flex-grow: 1;\n",
       "}\n",
       "\n",
       "#sk-container-id-3 div.sk-parallel {\n",
       "  display: flex;\n",
       "  align-items: stretch;\n",
       "  justify-content: center;\n",
       "  background-color: var(--sklearn-color-background);\n",
       "  position: relative;\n",
       "}\n",
       "\n",
       "#sk-container-id-3 div.sk-parallel-item {\n",
       "  display: flex;\n",
       "  flex-direction: column;\n",
       "}\n",
       "\n",
       "#sk-container-id-3 div.sk-parallel-item:first-child::after {\n",
       "  align-self: flex-end;\n",
       "  width: 50%;\n",
       "}\n",
       "\n",
       "#sk-container-id-3 div.sk-parallel-item:last-child::after {\n",
       "  align-self: flex-start;\n",
       "  width: 50%;\n",
       "}\n",
       "\n",
       "#sk-container-id-3 div.sk-parallel-item:only-child::after {\n",
       "  width: 0;\n",
       "}\n",
       "\n",
       "/* Serial-specific style estimator block */\n",
       "\n",
       "#sk-container-id-3 div.sk-serial {\n",
       "  display: flex;\n",
       "  flex-direction: column;\n",
       "  align-items: center;\n",
       "  background-color: var(--sklearn-color-background);\n",
       "  padding-right: 1em;\n",
       "  padding-left: 1em;\n",
       "}\n",
       "\n",
       "\n",
       "/* Toggleable style: style used for estimator/Pipeline/ColumnTransformer box that is\n",
       "clickable and can be expanded/collapsed.\n",
       "- Pipeline and ColumnTransformer use this feature and define the default style\n",
       "- Estimators will overwrite some part of the style using the `sk-estimator` class\n",
       "*/\n",
       "\n",
       "/* Pipeline and ColumnTransformer style (default) */\n",
       "\n",
       "#sk-container-id-3 div.sk-toggleable {\n",
       "  /* Default theme specific background. It is overwritten whether we have a\n",
       "  specific estimator or a Pipeline/ColumnTransformer */\n",
       "  background-color: var(--sklearn-color-background);\n",
       "}\n",
       "\n",
       "/* Toggleable label */\n",
       "#sk-container-id-3 label.sk-toggleable__label {\n",
       "  cursor: pointer;\n",
       "  display: flex;\n",
       "  width: 100%;\n",
       "  margin-bottom: 0;\n",
       "  padding: 0.5em;\n",
       "  box-sizing: border-box;\n",
       "  text-align: center;\n",
       "  align-items: start;\n",
       "  justify-content: space-between;\n",
       "  gap: 0.5em;\n",
       "}\n",
       "\n",
       "#sk-container-id-3 label.sk-toggleable__label .caption {\n",
       "  font-size: 0.6rem;\n",
       "  font-weight: lighter;\n",
       "  color: var(--sklearn-color-text-muted);\n",
       "}\n",
       "\n",
       "#sk-container-id-3 label.sk-toggleable__label-arrow:before {\n",
       "  /* Arrow on the left of the label */\n",
       "  content: \"▸\";\n",
       "  float: left;\n",
       "  margin-right: 0.25em;\n",
       "  color: var(--sklearn-color-icon);\n",
       "}\n",
       "\n",
       "#sk-container-id-3 label.sk-toggleable__label-arrow:hover:before {\n",
       "  color: var(--sklearn-color-text);\n",
       "}\n",
       "\n",
       "/* Toggleable content - dropdown */\n",
       "\n",
       "#sk-container-id-3 div.sk-toggleable__content {\n",
       "  max-height: 0;\n",
       "  max-width: 0;\n",
       "  overflow: hidden;\n",
       "  text-align: left;\n",
       "  /* unfitted */\n",
       "  background-color: var(--sklearn-color-unfitted-level-0);\n",
       "}\n",
       "\n",
       "#sk-container-id-3 div.sk-toggleable__content.fitted {\n",
       "  /* fitted */\n",
       "  background-color: var(--sklearn-color-fitted-level-0);\n",
       "}\n",
       "\n",
       "#sk-container-id-3 div.sk-toggleable__content pre {\n",
       "  margin: 0.2em;\n",
       "  border-radius: 0.25em;\n",
       "  color: var(--sklearn-color-text);\n",
       "  /* unfitted */\n",
       "  background-color: var(--sklearn-color-unfitted-level-0);\n",
       "}\n",
       "\n",
       "#sk-container-id-3 div.sk-toggleable__content.fitted pre {\n",
       "  /* unfitted */\n",
       "  background-color: var(--sklearn-color-fitted-level-0);\n",
       "}\n",
       "\n",
       "#sk-container-id-3 input.sk-toggleable__control:checked~div.sk-toggleable__content {\n",
       "  /* Expand drop-down */\n",
       "  max-height: 200px;\n",
       "  max-width: 100%;\n",
       "  overflow: auto;\n",
       "}\n",
       "\n",
       "#sk-container-id-3 input.sk-toggleable__control:checked~label.sk-toggleable__label-arrow:before {\n",
       "  content: \"▾\";\n",
       "}\n",
       "\n",
       "/* Pipeline/ColumnTransformer-specific style */\n",
       "\n",
       "#sk-container-id-3 div.sk-label input.sk-toggleable__control:checked~label.sk-toggleable__label {\n",
       "  color: var(--sklearn-color-text);\n",
       "  background-color: var(--sklearn-color-unfitted-level-2);\n",
       "}\n",
       "\n",
       "#sk-container-id-3 div.sk-label.fitted input.sk-toggleable__control:checked~label.sk-toggleable__label {\n",
       "  background-color: var(--sklearn-color-fitted-level-2);\n",
       "}\n",
       "\n",
       "/* Estimator-specific style */\n",
       "\n",
       "/* Colorize estimator box */\n",
       "#sk-container-id-3 div.sk-estimator input.sk-toggleable__control:checked~label.sk-toggleable__label {\n",
       "  /* unfitted */\n",
       "  background-color: var(--sklearn-color-unfitted-level-2);\n",
       "}\n",
       "\n",
       "#sk-container-id-3 div.sk-estimator.fitted input.sk-toggleable__control:checked~label.sk-toggleable__label {\n",
       "  /* fitted */\n",
       "  background-color: var(--sklearn-color-fitted-level-2);\n",
       "}\n",
       "\n",
       "#sk-container-id-3 div.sk-label label.sk-toggleable__label,\n",
       "#sk-container-id-3 div.sk-label label {\n",
       "  /* The background is the default theme color */\n",
       "  color: var(--sklearn-color-text-on-default-background);\n",
       "}\n",
       "\n",
       "/* On hover, darken the color of the background */\n",
       "#sk-container-id-3 div.sk-label:hover label.sk-toggleable__label {\n",
       "  color: var(--sklearn-color-text);\n",
       "  background-color: var(--sklearn-color-unfitted-level-2);\n",
       "}\n",
       "\n",
       "/* Label box, darken color on hover, fitted */\n",
       "#sk-container-id-3 div.sk-label.fitted:hover label.sk-toggleable__label.fitted {\n",
       "  color: var(--sklearn-color-text);\n",
       "  background-color: var(--sklearn-color-fitted-level-2);\n",
       "}\n",
       "\n",
       "/* Estimator label */\n",
       "\n",
       "#sk-container-id-3 div.sk-label label {\n",
       "  font-family: monospace;\n",
       "  font-weight: bold;\n",
       "  display: inline-block;\n",
       "  line-height: 1.2em;\n",
       "}\n",
       "\n",
       "#sk-container-id-3 div.sk-label-container {\n",
       "  text-align: center;\n",
       "}\n",
       "\n",
       "/* Estimator-specific */\n",
       "#sk-container-id-3 div.sk-estimator {\n",
       "  font-family: monospace;\n",
       "  border: 1px dotted var(--sklearn-color-border-box);\n",
       "  border-radius: 0.25em;\n",
       "  box-sizing: border-box;\n",
       "  margin-bottom: 0.5em;\n",
       "  /* unfitted */\n",
       "  background-color: var(--sklearn-color-unfitted-level-0);\n",
       "}\n",
       "\n",
       "#sk-container-id-3 div.sk-estimator.fitted {\n",
       "  /* fitted */\n",
       "  background-color: var(--sklearn-color-fitted-level-0);\n",
       "}\n",
       "\n",
       "/* on hover */\n",
       "#sk-container-id-3 div.sk-estimator:hover {\n",
       "  /* unfitted */\n",
       "  background-color: var(--sklearn-color-unfitted-level-2);\n",
       "}\n",
       "\n",
       "#sk-container-id-3 div.sk-estimator.fitted:hover {\n",
       "  /* fitted */\n",
       "  background-color: var(--sklearn-color-fitted-level-2);\n",
       "}\n",
       "\n",
       "/* Specification for estimator info (e.g. \"i\" and \"?\") */\n",
       "\n",
       "/* Common style for \"i\" and \"?\" */\n",
       "\n",
       ".sk-estimator-doc-link,\n",
       "a:link.sk-estimator-doc-link,\n",
       "a:visited.sk-estimator-doc-link {\n",
       "  float: right;\n",
       "  font-size: smaller;\n",
       "  line-height: 1em;\n",
       "  font-family: monospace;\n",
       "  background-color: var(--sklearn-color-background);\n",
       "  border-radius: 1em;\n",
       "  height: 1em;\n",
       "  width: 1em;\n",
       "  text-decoration: none !important;\n",
       "  margin-left: 0.5em;\n",
       "  text-align: center;\n",
       "  /* unfitted */\n",
       "  border: var(--sklearn-color-unfitted-level-1) 1pt solid;\n",
       "  color: var(--sklearn-color-unfitted-level-1);\n",
       "}\n",
       "\n",
       ".sk-estimator-doc-link.fitted,\n",
       "a:link.sk-estimator-doc-link.fitted,\n",
       "a:visited.sk-estimator-doc-link.fitted {\n",
       "  /* fitted */\n",
       "  border: var(--sklearn-color-fitted-level-1) 1pt solid;\n",
       "  color: var(--sklearn-color-fitted-level-1);\n",
       "}\n",
       "\n",
       "/* On hover */\n",
       "div.sk-estimator:hover .sk-estimator-doc-link:hover,\n",
       ".sk-estimator-doc-link:hover,\n",
       "div.sk-label-container:hover .sk-estimator-doc-link:hover,\n",
       ".sk-estimator-doc-link:hover {\n",
       "  /* unfitted */\n",
       "  background-color: var(--sklearn-color-unfitted-level-3);\n",
       "  color: var(--sklearn-color-background);\n",
       "  text-decoration: none;\n",
       "}\n",
       "\n",
       "div.sk-estimator.fitted:hover .sk-estimator-doc-link.fitted:hover,\n",
       ".sk-estimator-doc-link.fitted:hover,\n",
       "div.sk-label-container:hover .sk-estimator-doc-link.fitted:hover,\n",
       ".sk-estimator-doc-link.fitted:hover {\n",
       "  /* fitted */\n",
       "  background-color: var(--sklearn-color-fitted-level-3);\n",
       "  color: var(--sklearn-color-background);\n",
       "  text-decoration: none;\n",
       "}\n",
       "\n",
       "/* Span, style for the box shown on hovering the info icon */\n",
       ".sk-estimator-doc-link span {\n",
       "  display: none;\n",
       "  z-index: 9999;\n",
       "  position: relative;\n",
       "  font-weight: normal;\n",
       "  right: .2ex;\n",
       "  padding: .5ex;\n",
       "  margin: .5ex;\n",
       "  width: min-content;\n",
       "  min-width: 20ex;\n",
       "  max-width: 50ex;\n",
       "  color: var(--sklearn-color-text);\n",
       "  box-shadow: 2pt 2pt 4pt #999;\n",
       "  /* unfitted */\n",
       "  background: var(--sklearn-color-unfitted-level-0);\n",
       "  border: .5pt solid var(--sklearn-color-unfitted-level-3);\n",
       "}\n",
       "\n",
       ".sk-estimator-doc-link.fitted span {\n",
       "  /* fitted */\n",
       "  background: var(--sklearn-color-fitted-level-0);\n",
       "  border: var(--sklearn-color-fitted-level-3);\n",
       "}\n",
       "\n",
       ".sk-estimator-doc-link:hover span {\n",
       "  display: block;\n",
       "}\n",
       "\n",
       "/* \"?\"-specific style due to the `<a>` HTML tag */\n",
       "\n",
       "#sk-container-id-3 a.estimator_doc_link {\n",
       "  float: right;\n",
       "  font-size: 1rem;\n",
       "  line-height: 1em;\n",
       "  font-family: monospace;\n",
       "  background-color: var(--sklearn-color-background);\n",
       "  border-radius: 1rem;\n",
       "  height: 1rem;\n",
       "  width: 1rem;\n",
       "  text-decoration: none;\n",
       "  /* unfitted */\n",
       "  color: var(--sklearn-color-unfitted-level-1);\n",
       "  border: var(--sklearn-color-unfitted-level-1) 1pt solid;\n",
       "}\n",
       "\n",
       "#sk-container-id-3 a.estimator_doc_link.fitted {\n",
       "  /* fitted */\n",
       "  border: var(--sklearn-color-fitted-level-1) 1pt solid;\n",
       "  color: var(--sklearn-color-fitted-level-1);\n",
       "}\n",
       "\n",
       "/* On hover */\n",
       "#sk-container-id-3 a.estimator_doc_link:hover {\n",
       "  /* unfitted */\n",
       "  background-color: var(--sklearn-color-unfitted-level-3);\n",
       "  color: var(--sklearn-color-background);\n",
       "  text-decoration: none;\n",
       "}\n",
       "\n",
       "#sk-container-id-3 a.estimator_doc_link.fitted:hover {\n",
       "  /* fitted */\n",
       "  background-color: var(--sklearn-color-fitted-level-3);\n",
       "}\n",
       "</style><div id=\"sk-container-id-3\" class=\"sk-top-container\"><div class=\"sk-text-repr-fallback\"><pre>KNeighborsClassifier()</pre><b>In a Jupyter environment, please rerun this cell to show the HTML representation or trust the notebook. <br />On GitHub, the HTML representation is unable to render, please try loading this page with nbviewer.org.</b></div><div class=\"sk-container\" hidden><div class=\"sk-item\"><div class=\"sk-estimator fitted sk-toggleable\"><input class=\"sk-toggleable__control sk-hidden--visually\" id=\"sk-estimator-id-3\" type=\"checkbox\" checked><label for=\"sk-estimator-id-3\" class=\"sk-toggleable__label fitted sk-toggleable__label-arrow\"><div><div>KNeighborsClassifier</div></div><div><a class=\"sk-estimator-doc-link fitted\" rel=\"noreferrer\" target=\"_blank\" href=\"https://scikit-learn.org/1.6/modules/generated/sklearn.neighbors.KNeighborsClassifier.html\">?<span>Documentation for KNeighborsClassifier</span></a><span class=\"sk-estimator-doc-link fitted\">i<span>Fitted</span></span></div></label><div class=\"sk-toggleable__content fitted\"><pre>KNeighborsClassifier()</pre></div> </div></div></div></div>"
      ],
      "text/plain": [
       "KNeighborsClassifier()"
      ]
     },
     "execution_count": 158,
     "metadata": {},
     "output_type": "execute_result"
    }
   ],
   "source": [
    "#Usamos vecinos cercanos con K=5\n",
    "knn = KNeighborsClassifier(n_neighbors=5)\n",
    "knn.fit(X_train, y_train)"
   ]
  },
  {
   "cell_type": "code",
   "execution_count": 159,
   "metadata": {
    "colab": {
     "base_uri": "https://localhost:8080/"
    },
    "id": "C-FtfHT-720M",
    "outputId": "e69bf8f4-1082-4552-ff8d-6de6b7da21b2"
   },
   "outputs": [
    {
     "name": "stdout",
     "output_type": "stream",
     "text": [
      "La exactitud del modelo es: 0.993\n"
     ]
    }
   ],
   "source": [
    "#Predecimos con vecinos cercanos la exactitud de nuestro modelo\n",
    "y_train_pred_knn = knn.predict(X_train)\n",
    "accuracy_knn = accuracy_score(y_train, y_train_pred_knn)\n",
    "print(\"La exactitud del modelo es: %.3f\" %accuracy_knn)\n"
   ]
  },
  {
   "cell_type": "code",
   "execution_count": 160,
   "metadata": {
    "id": "gIHjBS5eCxQf"
   },
   "outputs": [],
   "source": [
    "#Aplico la regesion logisitica para el testeo\n",
    "log_reg = LogisticRegression(penalty=None).fit(X_test, y_test)"
   ]
  },
  {
   "cell_type": "code",
   "execution_count": 161,
   "metadata": {
    "id": "y4zJl4b3B_Sf"
   },
   "outputs": [],
   "source": [
    "#Predecimos\n",
    "y_test_pred = log_reg.predict(X_test)"
   ]
  },
  {
   "cell_type": "code",
   "execution_count": 162,
   "metadata": {
    "colab": {
     "base_uri": "https://localhost:8080/"
    },
    "id": "U6vZt86vBhu4",
    "outputId": "2a149c91-e54a-4357-a3f5-3f3eea6266d7"
   },
   "outputs": [
    {
     "name": "stdout",
     "output_type": "stream",
     "text": [
      "Matriz de confusion:\n",
      "[984   0   0  59]\n",
      "Accuracy Score: 1.0\n"
     ]
    }
   ],
   "source": [
    "#Hacemos la matriz de confusion\n",
    "matriz_confusion=confusion_matrix(y_test, y_test_pred).ravel()\n",
    "print('Matriz de confusion:')\n",
    "print(matriz_confusion)\n",
    "print('Accuracy Score:', accuracy_score(y_test, y_test_pred))"
   ]
  },
  {
   "cell_type": "code",
   "execution_count": 163,
   "metadata": {
    "colab": {
     "base_uri": "https://localhost:8080/"
    },
    "id": "T766dxjJ7xk-",
    "outputId": "f74d050f-d315-4e65-c5ca-ccdb8a2142db"
   },
   "outputs": [
    {
     "name": "stdout",
     "output_type": "stream",
     "text": [
      "[[-6.22810687e-02  1.31991558e+01 -1.29372999e-01  1.21470347e+01\n",
      "   1.17949134e-01  1.07840204e+00  0.00000000e+00  3.17992755e+00\n",
      "   4.90555142e+01 -4.44916493e+02 -1.07890448e+01 -5.41047533e-01]]\n",
      "[0. 0. 0. ... 1. 0. 1.]\n"
     ]
    }
   ],
   "source": [
    "# Para graficar la curva ROC lo mejor es usar la funcion LogisticRegression()\n",
    "log_reg = LogisticRegression(penalty=None).fit(X_test.astype(float), y_test.astype(float))\n",
    "\n",
    "# Estimacion de los coeficientes\n",
    "print(log_reg.coef_)\n",
    "\n",
    "# Predicciones (probabilidad) (p sobrerito)\n",
    "y_test_pred_score = log_reg.predict_proba(X_test)[:,1]\n",
    "print(y_test_pred_score)"
   ]
  },
  {
   "cell_type": "code",
   "execution_count": 164,
   "metadata": {
    "id": "GMrU7S8SFyww"
   },
   "outputs": [],
   "source": [
    "# Computamos la tasa de verdaderos positivos (tpr) y falsos positivos (tpr) para construir la curva ROC\n",
    "fpr, tpr, thresholds = roc_curve(y_test, y_test_pred_score, pos_label=2)"
   ]
  },
  {
   "cell_type": "code",
   "execution_count": 165,
   "metadata": {
    "colab": {
     "base_uri": "https://localhost:8080/"
    },
    "id": "hDdSWdRgHBzZ",
    "outputId": "bd3f3074-4689-4388-f28b-222333ac3424"
   },
   "outputs": [
    {
     "name": "stdout",
     "output_type": "stream",
     "text": [
      "AUC: 1.00\n"
     ]
    }
   ],
   "source": [
    "auc = roc_auc_score(y_test, y_test_pred_score)\n",
    "print('AUC: %.2f' % auc)"
   ]
  },
  {
   "cell_type": "markdown",
   "metadata": {
    "id": "MVwmdu7PgJM8"
   },
   "source": [
    "#6.\n",
    "Con el método que seleccionaron, predigan qué personas son\n",
    "desocupadas dentro de la base norespondieron. ¿Qué proporción de\n",
    "las personas que no respondieron pudieron identificar como\n",
    "desocupadas?"
   ]
  },
  {
   "cell_type": "code",
   "execution_count": 165,
   "metadata": {
    "id": "rCH4ZfDFgOJU"
   },
   "outputs": [],
   "source": []
  }
 ],
 "metadata": {
  "colab": {
   "provenance": []
  },
  "kernelspec": {
   "display_name": "Python [conda env:base] *",
   "language": "python",
   "name": "conda-base-py"
  },
  "language_info": {
   "codemirror_mode": {
    "name": "ipython",
    "version": 3
   },
   "file_extension": ".py",
   "mimetype": "text/x-python",
   "name": "python",
   "nbconvert_exporter": "python",
   "pygments_lexer": "ipython3",
   "version": "3.12.7"
  }
 },
 "nbformat": 4,
 "nbformat_minor": 4
}
