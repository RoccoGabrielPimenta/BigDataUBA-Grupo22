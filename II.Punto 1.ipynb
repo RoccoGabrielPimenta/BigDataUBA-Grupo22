{
 "cells": [
  {
   "cell_type": "code",
   "execution_count": null,
   "id": "aef5e800-729d-47aa-9fb3-e2da580ad455",
   "metadata": {},
   "outputs": [],
   "source": [
    "pip install pandas nunpy seaborn matplotlib"
   ]
  },
  {
   "cell_type": "code",
   "execution_count": null,
   "id": "f9da44c8-7b75-4a65-850e-8a0ddeca59cf",
   "metadata": {},
   "outputs": [],
   "source": [
    "import pandas as pd\n",
    "\n",
    "df = pd.read_csv('datos.csv')\n",
    "\n",
    "vars_interes = ['edad', 'edad2', 'educ', 'salario_semanal', 'horastrab']\n",
    "\n",
    "df_sub = df[vars_interes]"
   ]
  },
  {
   "cell_type": "code",
   "execution_count": null,
   "id": "0c541b0b-70b5-46a6-974f-dcf7a912159b",
   "metadata": {},
   "outputs": [],
   "source": [
    "#Tomamos los datos de la EPH del 2004\n",
    "\n",
    "url = \"https://github.com/RoccoGabrielPimenta/BigDataUBA-Grupo22/raw/refs/heads/main/TP%202/usu_individual_T124.xlsx\"\n",
    "df = pd.read_excel(url)"
   ]
  },
  {
   "cell_type": "code",
   "execution_count": null,
   "id": "a23eb3f9-65d1-4aae-bf76-9c1c681f2aa5",
   "metadata": {},
   "outputs": [],
   "source": [
    "corr_matrix = df.corr()\n",
    "\n",
    "print(corr_matrix)"
   ]
  }
 ],
 "metadata": {
  "kernelspec": {
   "display_name": "anaconda-2024.02-py310",
   "language": "python",
   "name": "conda-env-anaconda-2024.02-py310-py"
  },
  "language_info": {
   "codemirror_mode": {
    "name": "ipython",
    "version": 3
   },
   "file_extension": ".py",
   "mimetype": "text/x-python",
   "name": "python",
   "nbconvert_exporter": "python",
   "pygments_lexer": "ipython3",
   "version": "3.10.14"
  }
 },
 "nbformat": 4,
 "nbformat_minor": 5
}
